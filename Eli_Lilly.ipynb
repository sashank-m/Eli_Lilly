{
  "cells": [
    {
      "cell_type": "code",
      "execution_count": 482,
      "metadata": {
        "id": "kAM7s8wwaw8V"
      },
      "outputs": [],
      "source": [
        "import pandas as pd\n",
        "import numpy as np\n",
        "import matplotlib.pyplot as plt"
      ]
    },
    {
      "cell_type": "code",
      "execution_count": 483,
      "metadata": {
        "colab": {
          "base_uri": "https://localhost:8080/"
        },
        "id": "kECFuFOSa53z",
        "outputId": "203b928f-e82f-40e8-9ddc-0ee1854a835a"
      },
      "outputs": [],
      "source": [
        "# from google.colab import drive\n",
        "# drive.mount('/content/drive')\n",
        "# df = pd.read_csv(\"/content/drive/MyDrive/Eli Lilly/data/dataset/train.csv\")"
      ]
    },
    {
      "cell_type": "code",
      "execution_count": 484,
      "metadata": {
        "id": "N7R9uqD4cFVG"
      },
      "outputs": [],
      "source": [
        "df = pd.read_csv(\"D:/Sashank/Music Data/train.csv\")"
      ]
    },
    {
      "cell_type": "markdown",
      "metadata": {
        "id": "N73gBiY4wiWl"
      },
      "source": []
    },
    {
      "cell_type": "code",
      "execution_count": 485,
      "metadata": {
        "colab": {
          "base_uri": "https://localhost:8080/"
        },
        "id": "wVEbU0XXcL9S",
        "outputId": "16adf633-4f82-40ff-b71b-38955764be48"
      },
      "outputs": [
        {
          "name": "stdout",
          "output_type": "stream",
          "text": [
            "<class 'pandas.core.frame.DataFrame'>\n",
            "RangeIndex: 15681 entries, 0 to 15680\n",
            "Data columns (total 18 columns):\n",
            " #   Column             Non-Null Count  Dtype  \n",
            "---  ------             --------------  -----  \n",
            " 0   instance_id        15681 non-null  object \n",
            " 1   track_name         15681 non-null  object \n",
            " 2   popularity         15039 non-null  float64\n",
            " 3   acousticness       15681 non-null  float64\n",
            " 4   danceability       15125 non-null  float64\n",
            " 5   duration_ms        15587 non-null  float64\n",
            " 6   energy             15587 non-null  float64\n",
            " 7   instrumentalness   15586 non-null  float64\n",
            " 8   key                15681 non-null  object \n",
            " 9   liveness           15681 non-null  float64\n",
            " 10  loudness           15645 non-null  float64\n",
            " 11  voice_gender       14916 non-null  object \n",
            " 12  mode               15646 non-null  object \n",
            " 13  speechiness        15655 non-null  float64\n",
            " 14  tempo              15681 non-null  object \n",
            " 15  musician_category  14321 non-null  object \n",
            " 16  valence            15004 non-null  float64\n",
            " 17  music_genre        15681 non-null  object \n",
            "dtypes: float64(10), object(8)\n",
            "memory usage: 2.2+ MB\n"
          ]
        }
      ],
      "source": [
        "df.info(verbose=True)"
      ]
    },
    {
      "cell_type": "code",
      "execution_count": 486,
      "metadata": {
        "id": "04wLfQAolEH2"
      },
      "outputs": [],
      "source": [
        "#Dropping NaN Rows from data set \n",
        "df1 = df.copy(deep=True)"
      ]
    },
    {
      "cell_type": "code",
      "execution_count": 487,
      "metadata": {
        "colab": {
          "base_uri": "https://localhost:8080/"
        },
        "id": "VXlBfbfcQjss",
        "outputId": "751924dc-3d9d-4fc0-c2c6-f7e53f59c2e2"
      },
      "outputs": [
        {
          "data": {
            "text/plain": [
              "instance_id          False\n",
              "track_name           False\n",
              "popularity            True\n",
              "acousticness         False\n",
              "danceability          True\n",
              "duration_ms           True\n",
              "energy                True\n",
              "instrumentalness      True\n",
              "key                  False\n",
              "liveness             False\n",
              "loudness              True\n",
              "voice_gender          True\n",
              "mode                  True\n",
              "speechiness           True\n",
              "tempo                False\n",
              "musician_category     True\n",
              "valence               True\n",
              "music_genre          False\n",
              "dtype: bool"
            ]
          },
          "execution_count": 487,
          "metadata": {},
          "output_type": "execute_result"
        }
      ],
      "source": [
        "df.isna().any()"
      ]
    },
    {
      "cell_type": "code",
      "execution_count": 488,
      "metadata": {
        "id": "B7t9hqGglELY"
      },
      "outputs": [],
      "source": [
        "df1.dropna(axis=0,how=\"any\",inplace=True)\n"
      ]
    },
    {
      "cell_type": "code",
      "execution_count": 489,
      "metadata": {
        "colab": {
          "base_uri": "https://localhost:8080/"
        },
        "id": "QK7mP6jaTot2",
        "outputId": "d4ed3df6-24af-40f4-cc06-2dd7b13eca62"
      },
      "outputs": [
        {
          "data": {
            "text/plain": [
              "instance_id          False\n",
              "track_name           False\n",
              "popularity           False\n",
              "acousticness         False\n",
              "danceability         False\n",
              "duration_ms          False\n",
              "energy               False\n",
              "instrumentalness     False\n",
              "key                  False\n",
              "liveness             False\n",
              "loudness             False\n",
              "voice_gender         False\n",
              "mode                 False\n",
              "speechiness          False\n",
              "tempo                False\n",
              "musician_category    False\n",
              "valence              False\n",
              "music_genre          False\n",
              "dtype: bool"
            ]
          },
          "execution_count": 489,
          "metadata": {},
          "output_type": "execute_result"
        }
      ],
      "source": [
        "df1.isna().any()"
      ]
    },
    {
      "cell_type": "code",
      "execution_count": 490,
      "metadata": {
        "colab": {
          "base_uri": "https://localhost:8080/"
        },
        "id": "_hVdCeU8lEN8",
        "outputId": "c23de7be-91f4-4aed-973c-1b786a3776b5"
      },
      "outputs": [
        {
          "name": "stdout",
          "output_type": "stream",
          "text": [
            "(15681, 18) (11756, 18)\n"
          ]
        }
      ],
      "source": [
        "print(df.shape,df1.shape)"
      ]
    },
    {
      "cell_type": "code",
      "execution_count": 491,
      "metadata": {
        "id": "mSg4ISwIph3x"
      },
      "outputs": [],
      "source": [
        "df_mode = df1[\"mode\"]"
      ]
    },
    {
      "cell_type": "code",
      "execution_count": 492,
      "metadata": {
        "id": "GotM-5thph6x"
      },
      "outputs": [],
      "source": [
        "df1.replace(\"?\",np.nan, inplace=True)"
      ]
    },
    {
      "cell_type": "code",
      "execution_count": 493,
      "metadata": {
        "colab": {
          "base_uri": "https://localhost:8080/"
        },
        "id": "ktOy5oZXph9e",
        "outputId": "a561df22-4359-405b-b988-1f17b07d98dc"
      },
      "outputs": [
        {
          "name": "stdout",
          "output_type": "stream",
          "text": [
            "<class 'pandas.core.frame.DataFrame'>\n",
            "Int64Index: 11756 entries, 1 to 15680\n",
            "Data columns (total 18 columns):\n",
            " #   Column             Non-Null Count  Dtype  \n",
            "---  ------             --------------  -----  \n",
            " 0   instance_id        11756 non-null  object \n",
            " 1   track_name         11756 non-null  object \n",
            " 2   popularity         11756 non-null  float64\n",
            " 3   acousticness       11756 non-null  float64\n",
            " 4   danceability       11756 non-null  float64\n",
            " 5   duration_ms        11756 non-null  float64\n",
            " 6   energy             11756 non-null  float64\n",
            " 7   instrumentalness   11756 non-null  float64\n",
            " 8   key                11756 non-null  object \n",
            " 9   liveness           11756 non-null  float64\n",
            " 10  loudness           11756 non-null  float64\n",
            " 11  voice_gender       11756 non-null  object \n",
            " 12  mode               10938 non-null  object \n",
            " 13  speechiness        11756 non-null  float64\n",
            " 14  tempo              10653 non-null  object \n",
            " 15  musician_category  11756 non-null  object \n",
            " 16  valence            11756 non-null  float64\n",
            " 17  music_genre        11756 non-null  object \n",
            "dtypes: float64(10), object(8)\n",
            "memory usage: 1.7+ MB\n"
          ]
        }
      ],
      "source": [
        "df1.info()"
      ]
    },
    {
      "cell_type": "code",
      "execution_count": 494,
      "metadata": {
        "id": "TN6ANiQXbnWA"
      },
      "outputs": [],
      "source": [
        "df1.dropna(axis=0,how=\"any\",inplace=True)\n"
      ]
    },
    {
      "cell_type": "code",
      "execution_count": 495,
      "metadata": {
        "colab": {
          "base_uri": "https://localhost:8080/"
        },
        "id": "bo9qzSqSbnYq",
        "outputId": "8e30cd4e-548d-4970-e115-f75c42f34b2e"
      },
      "outputs": [
        {
          "name": "stdout",
          "output_type": "stream",
          "text": [
            "<class 'pandas.core.frame.DataFrame'>\n",
            "Int64Index: 9919 entries, 2 to 15680\n",
            "Data columns (total 18 columns):\n",
            " #   Column             Non-Null Count  Dtype  \n",
            "---  ------             --------------  -----  \n",
            " 0   instance_id        9919 non-null   object \n",
            " 1   track_name         9919 non-null   object \n",
            " 2   popularity         9919 non-null   float64\n",
            " 3   acousticness       9919 non-null   float64\n",
            " 4   danceability       9919 non-null   float64\n",
            " 5   duration_ms        9919 non-null   float64\n",
            " 6   energy             9919 non-null   float64\n",
            " 7   instrumentalness   9919 non-null   float64\n",
            " 8   key                9919 non-null   object \n",
            " 9   liveness           9919 non-null   float64\n",
            " 10  loudness           9919 non-null   float64\n",
            " 11  voice_gender       9919 non-null   object \n",
            " 12  mode               9919 non-null   object \n",
            " 13  speechiness        9919 non-null   float64\n",
            " 14  tempo              9919 non-null   object \n",
            " 15  musician_category  9919 non-null   object \n",
            " 16  valence            9919 non-null   float64\n",
            " 17  music_genre        9919 non-null   object \n",
            "dtypes: float64(10), object(8)\n",
            "memory usage: 1.4+ MB\n"
          ]
        }
      ],
      "source": [
        "df1.info()"
      ]
    },
    {
      "cell_type": "code",
      "execution_count": 496,
      "metadata": {
        "colab": {
          "base_uri": "https://localhost:8080/"
        },
        "id": "_Hbu1nU6PRr-",
        "outputId": "bf210ee8-ad33-4937-b885-cc749acf920d"
      },
      "outputs": [
        {
          "data": {
            "text/plain": [
              "2        105.01799999999999\n",
              "4        112.18299999999999\n",
              "6        104.95700000000001\n",
              "8        176.64700000000002\n",
              "9                   117.155\n",
              "                ...        \n",
              "15675                73.166\n",
              "15676               123.516\n",
              "15677               129.445\n",
              "15679    116.07700000000001\n",
              "15680                  94.2\n",
              "Name: tempo, Length: 9919, dtype: object"
            ]
          },
          "execution_count": 496,
          "metadata": {},
          "output_type": "execute_result"
        }
      ],
      "source": [
        "df1[\"tempo\"]"
      ]
    },
    {
      "cell_type": "code",
      "execution_count": 497,
      "metadata": {
        "id": "cdTen1VjOOzu"
      },
      "outputs": [],
      "source": [
        "s = df1[\"tempo\"] \n",
        "s = pd.to_numeric(s)"
      ]
    },
    {
      "cell_type": "code",
      "execution_count": 498,
      "metadata": {
        "id": "5v88XekJPvGq"
      },
      "outputs": [],
      "source": [
        "df1[\"tempo\"] = s"
      ]
    },
    {
      "cell_type": "code",
      "execution_count": 499,
      "metadata": {
        "colab": {
          "base_uri": "https://localhost:8080/"
        },
        "id": "7_VfIfAcOtnb",
        "outputId": "c30b9b5a-4438-47af-cfd5-50da84dde11d"
      },
      "outputs": [
        {
          "data": {
            "text/plain": [
              "2        105.018\n",
              "4        112.183\n",
              "6        104.957\n",
              "8        176.647\n",
              "9        117.155\n",
              "          ...   \n",
              "15675     73.166\n",
              "15676    123.516\n",
              "15677    129.445\n",
              "15679    116.077\n",
              "15680     94.200\n",
              "Name: tempo, Length: 9919, dtype: float64"
            ]
          },
          "execution_count": 499,
          "metadata": {},
          "output_type": "execute_result"
        }
      ],
      "source": [
        "df1[\"tempo\"]"
      ]
    },
    {
      "cell_type": "code",
      "execution_count": 500,
      "metadata": {
        "id": "IvUS2VciK1CK"
      },
      "outputs": [],
      "source": [
        "mylist = list(df1.select_dtypes(include=['object']).columns)"
      ]
    },
    {
      "cell_type": "code",
      "execution_count": 501,
      "metadata": {
        "colab": {
          "base_uri": "https://localhost:8080/"
        },
        "id": "69o4G8qa33Pe",
        "outputId": "2c8804db-8296-40b0-b759-d2b0b6a73c90"
      },
      "outputs": [
        {
          "data": {
            "text/plain": [
              "['instance_id',\n",
              " 'track_name',\n",
              " 'key',\n",
              " 'voice_gender',\n",
              " 'mode',\n",
              " 'musician_category',\n",
              " 'music_genre']"
            ]
          },
          "execution_count": 501,
          "metadata": {},
          "output_type": "execute_result"
        }
      ],
      "source": [
        "mylist\n",
        "\n"
      ]
    },
    {
      "cell_type": "code",
      "execution_count": 502,
      "metadata": {
        "id": "6zifoJsm35kC"
      },
      "outputs": [],
      "source": [
        "df1 = df1.drop(columns=['instance_id','track_name'])"
      ]
    },
    {
      "cell_type": "code",
      "execution_count": 503,
      "metadata": {
        "colab": {
          "base_uri": "https://localhost:8080/",
          "height": 713
        },
        "id": "qqb7UxUB4KPT",
        "outputId": "043ec664-270d-49d2-b9ec-3c5b491a8752"
      },
      "outputs": [
        {
          "data": {
            "text/html": [
              "<div>\n",
              "<style scoped>\n",
              "    .dataframe tbody tr th:only-of-type {\n",
              "        vertical-align: middle;\n",
              "    }\n",
              "\n",
              "    .dataframe tbody tr th {\n",
              "        vertical-align: top;\n",
              "    }\n",
              "\n",
              "    .dataframe thead th {\n",
              "        text-align: right;\n",
              "    }\n",
              "</style>\n",
              "<table border=\"1\" class=\"dataframe\">\n",
              "  <thead>\n",
              "    <tr style=\"text-align: right;\">\n",
              "      <th></th>\n",
              "      <th>popularity</th>\n",
              "      <th>acousticness</th>\n",
              "      <th>danceability</th>\n",
              "      <th>duration_ms</th>\n",
              "      <th>energy</th>\n",
              "      <th>instrumentalness</th>\n",
              "      <th>key</th>\n",
              "      <th>liveness</th>\n",
              "      <th>loudness</th>\n",
              "      <th>voice_gender</th>\n",
              "      <th>mode</th>\n",
              "      <th>speechiness</th>\n",
              "      <th>tempo</th>\n",
              "      <th>musician_category</th>\n",
              "      <th>valence</th>\n",
              "      <th>music_genre</th>\n",
              "    </tr>\n",
              "  </thead>\n",
              "  <tbody>\n",
              "    <tr>\n",
              "      <th>2</th>\n",
              "      <td>89.023</td>\n",
              "      <td>0.020041</td>\n",
              "      <td>0.967948</td>\n",
              "      <td>273314.723</td>\n",
              "      <td>0.857411</td>\n",
              "      <td>0.000000</td>\n",
              "      <td>Scale D</td>\n",
              "      <td>0.042030</td>\n",
              "      <td>-4.995</td>\n",
              "      <td>Female</td>\n",
              "      <td>Major</td>\n",
              "      <td>0.119917</td>\n",
              "      <td>105.018</td>\n",
              "      <td>Band</td>\n",
              "      <td>0.635525</td>\n",
              "      <td>Rap</td>\n",
              "    </tr>\n",
              "    <tr>\n",
              "      <th>4</th>\n",
              "      <td>45.095</td>\n",
              "      <td>0.858769</td>\n",
              "      <td>0.280645</td>\n",
              "      <td>410136.987</td>\n",
              "      <td>0.114732</td>\n",
              "      <td>0.002753</td>\n",
              "      <td>Scale F Sharp</td>\n",
              "      <td>0.134782</td>\n",
              "      <td>-26.922</td>\n",
              "      <td>Female</td>\n",
              "      <td>Minor</td>\n",
              "      <td>0.039139</td>\n",
              "      <td>112.183</td>\n",
              "      <td>Band</td>\n",
              "      <td>0.074412</td>\n",
              "      <td>Classical</td>\n",
              "    </tr>\n",
              "    <tr>\n",
              "      <th>6</th>\n",
              "      <td>64.265</td>\n",
              "      <td>0.000459</td>\n",
              "      <td>0.968723</td>\n",
              "      <td>203145.857</td>\n",
              "      <td>-1.000000</td>\n",
              "      <td>0.000384</td>\n",
              "      <td>Scale C Sharp</td>\n",
              "      <td>0.079220</td>\n",
              "      <td>-7.266</td>\n",
              "      <td>Male</td>\n",
              "      <td>Major</td>\n",
              "      <td>0.052014</td>\n",
              "      <td>104.957</td>\n",
              "      <td>Band</td>\n",
              "      <td>0.484246</td>\n",
              "      <td>Rap</td>\n",
              "    </tr>\n",
              "    <tr>\n",
              "      <th>8</th>\n",
              "      <td>73.420</td>\n",
              "      <td>0.090830</td>\n",
              "      <td>0.380147</td>\n",
              "      <td>275490.630</td>\n",
              "      <td>0.714246</td>\n",
              "      <td>0.000000</td>\n",
              "      <td>Scale A</td>\n",
              "      <td>0.089873</td>\n",
              "      <td>-5.972</td>\n",
              "      <td>Both</td>\n",
              "      <td>Major</td>\n",
              "      <td>0.070437</td>\n",
              "      <td>176.647</td>\n",
              "      <td>Duet</td>\n",
              "      <td>0.555169</td>\n",
              "      <td>Rock</td>\n",
              "    </tr>\n",
              "    <tr>\n",
              "      <th>9</th>\n",
              "      <td>34.034</td>\n",
              "      <td>1.014646</td>\n",
              "      <td>0.672051</td>\n",
              "      <td>207299.190</td>\n",
              "      <td>0.048039</td>\n",
              "      <td>0.146346</td>\n",
              "      <td>Scale A Sharp</td>\n",
              "      <td>0.110850</td>\n",
              "      <td>-27.213</td>\n",
              "      <td>Both</td>\n",
              "      <td>Major</td>\n",
              "      <td>0.065935</td>\n",
              "      <td>117.155</td>\n",
              "      <td>Duet</td>\n",
              "      <td>0.590628</td>\n",
              "      <td>Jazz</td>\n",
              "    </tr>\n",
              "    <tr>\n",
              "      <th>...</th>\n",
              "      <td>...</td>\n",
              "      <td>...</td>\n",
              "      <td>...</td>\n",
              "      <td>...</td>\n",
              "      <td>...</td>\n",
              "      <td>...</td>\n",
              "      <td>...</td>\n",
              "      <td>...</td>\n",
              "      <td>...</td>\n",
              "      <td>...</td>\n",
              "      <td>...</td>\n",
              "      <td>...</td>\n",
              "      <td>...</td>\n",
              "      <td>...</td>\n",
              "      <td>...</td>\n",
              "      <td>...</td>\n",
              "    </tr>\n",
              "    <tr>\n",
              "      <th>15675</th>\n",
              "      <td>28.318</td>\n",
              "      <td>1.054190</td>\n",
              "      <td>0.136130</td>\n",
              "      <td>188388.500</td>\n",
              "      <td>0.042151</td>\n",
              "      <td>1.024128</td>\n",
              "      <td>Scale G</td>\n",
              "      <td>0.135912</td>\n",
              "      <td>-29.236</td>\n",
              "      <td>Female</td>\n",
              "      <td>Major</td>\n",
              "      <td>0.057739</td>\n",
              "      <td>73.166</td>\n",
              "      <td>Solo</td>\n",
              "      <td>0.040686</td>\n",
              "      <td>Classical</td>\n",
              "    </tr>\n",
              "    <tr>\n",
              "      <th>15676</th>\n",
              "      <td>0.000</td>\n",
              "      <td>0.866988</td>\n",
              "      <td>0.387476</td>\n",
              "      <td>-1.000</td>\n",
              "      <td>0.196799</td>\n",
              "      <td>0.028725</td>\n",
              "      <td>Scale B</td>\n",
              "      <td>0.248399</td>\n",
              "      <td>-16.331</td>\n",
              "      <td>Female</td>\n",
              "      <td>Major</td>\n",
              "      <td>0.045251</td>\n",
              "      <td>123.516</td>\n",
              "      <td>Band</td>\n",
              "      <td>0.624518</td>\n",
              "      <td>Classical</td>\n",
              "    </tr>\n",
              "    <tr>\n",
              "      <th>15677</th>\n",
              "      <td>40.514</td>\n",
              "      <td>0.883333</td>\n",
              "      <td>0.459917</td>\n",
              "      <td>378128.464</td>\n",
              "      <td>0.349263</td>\n",
              "      <td>0.000519</td>\n",
              "      <td>Scale F</td>\n",
              "      <td>0.681492</td>\n",
              "      <td>-25.087</td>\n",
              "      <td>Both</td>\n",
              "      <td>Major</td>\n",
              "      <td>0.448377</td>\n",
              "      <td>129.445</td>\n",
              "      <td>Duet</td>\n",
              "      <td>0.609022</td>\n",
              "      <td>Jazz</td>\n",
              "    </tr>\n",
              "    <tr>\n",
              "      <th>15679</th>\n",
              "      <td>59.693</td>\n",
              "      <td>0.113408</td>\n",
              "      <td>0.644554</td>\n",
              "      <td>151226.592</td>\n",
              "      <td>0.912201</td>\n",
              "      <td>0.000089</td>\n",
              "      <td>Scale F</td>\n",
              "      <td>0.166336</td>\n",
              "      <td>-7.257</td>\n",
              "      <td>Both</td>\n",
              "      <td>Minor</td>\n",
              "      <td>0.060308</td>\n",
              "      <td>116.077</td>\n",
              "      <td>Duet</td>\n",
              "      <td>0.402700</td>\n",
              "      <td>Rock</td>\n",
              "    </tr>\n",
              "    <tr>\n",
              "      <th>15680</th>\n",
              "      <td>56.518</td>\n",
              "      <td>0.847136</td>\n",
              "      <td>0.502160</td>\n",
              "      <td>190735.191</td>\n",
              "      <td>0.470057</td>\n",
              "      <td>0.502878</td>\n",
              "      <td>Scale F</td>\n",
              "      <td>0.143114</td>\n",
              "      <td>-11.043</td>\n",
              "      <td>Female</td>\n",
              "      <td>Major</td>\n",
              "      <td>0.029906</td>\n",
              "      <td>94.200</td>\n",
              "      <td>Solo</td>\n",
              "      <td>0.358777</td>\n",
              "      <td>Classical</td>\n",
              "    </tr>\n",
              "  </tbody>\n",
              "</table>\n",
              "<p>9919 rows × 16 columns</p>\n",
              "</div>"
            ],
            "text/plain": [
              "       popularity  acousticness  danceability  duration_ms    energy  \\\n",
              "2          89.023      0.020041      0.967948   273314.723  0.857411   \n",
              "4          45.095      0.858769      0.280645   410136.987  0.114732   \n",
              "6          64.265      0.000459      0.968723   203145.857 -1.000000   \n",
              "8          73.420      0.090830      0.380147   275490.630  0.714246   \n",
              "9          34.034      1.014646      0.672051   207299.190  0.048039   \n",
              "...           ...           ...           ...          ...       ...   \n",
              "15675      28.318      1.054190      0.136130   188388.500  0.042151   \n",
              "15676       0.000      0.866988      0.387476       -1.000  0.196799   \n",
              "15677      40.514      0.883333      0.459917   378128.464  0.349263   \n",
              "15679      59.693      0.113408      0.644554   151226.592  0.912201   \n",
              "15680      56.518      0.847136      0.502160   190735.191  0.470057   \n",
              "\n",
              "       instrumentalness            key  liveness  loudness voice_gender  \\\n",
              "2              0.000000        Scale D  0.042030    -4.995       Female   \n",
              "4              0.002753  Scale F Sharp  0.134782   -26.922       Female   \n",
              "6              0.000384  Scale C Sharp  0.079220    -7.266         Male   \n",
              "8              0.000000        Scale A  0.089873    -5.972         Both   \n",
              "9              0.146346  Scale A Sharp  0.110850   -27.213         Both   \n",
              "...                 ...            ...       ...       ...          ...   \n",
              "15675          1.024128        Scale G  0.135912   -29.236       Female   \n",
              "15676          0.028725        Scale B  0.248399   -16.331       Female   \n",
              "15677          0.000519        Scale F  0.681492   -25.087         Both   \n",
              "15679          0.000089        Scale F  0.166336    -7.257         Both   \n",
              "15680          0.502878        Scale F  0.143114   -11.043       Female   \n",
              "\n",
              "        mode  speechiness    tempo musician_category   valence music_genre  \n",
              "2      Major     0.119917  105.018              Band  0.635525         Rap  \n",
              "4      Minor     0.039139  112.183              Band  0.074412   Classical  \n",
              "6      Major     0.052014  104.957              Band  0.484246         Rap  \n",
              "8      Major     0.070437  176.647              Duet  0.555169        Rock  \n",
              "9      Major     0.065935  117.155              Duet  0.590628        Jazz  \n",
              "...      ...          ...      ...               ...       ...         ...  \n",
              "15675  Major     0.057739   73.166              Solo  0.040686   Classical  \n",
              "15676  Major     0.045251  123.516              Band  0.624518   Classical  \n",
              "15677  Major     0.448377  129.445              Duet  0.609022        Jazz  \n",
              "15679  Minor     0.060308  116.077              Duet  0.402700        Rock  \n",
              "15680  Major     0.029906   94.200              Solo  0.358777   Classical  \n",
              "\n",
              "[9919 rows x 16 columns]"
            ]
          },
          "execution_count": 503,
          "metadata": {},
          "output_type": "execute_result"
        }
      ],
      "source": [
        "df1"
      ]
    },
    {
      "cell_type": "code",
      "execution_count": 504,
      "metadata": {
        "id": "5YVZYGySmlvo"
      },
      "outputs": [],
      "source": [
        "from sklearn.compose import make_column_selector as selector\n",
        "numerical_columns_selector = selector(dtype_exclude=object)\n",
        "categorical_columns_selector = selector(dtype_include=object)"
      ]
    },
    {
      "cell_type": "code",
      "execution_count": 505,
      "metadata": {
        "id": "YZ8fyKgjmutq"
      },
      "outputs": [],
      "source": [
        "X = df1.iloc[ : , :-1]\n",
        "X.shape\n",
        "Y = df1[\"music_genre\"]"
      ]
    },
    {
      "cell_type": "code",
      "execution_count": 506,
      "metadata": {},
      "outputs": [],
      "source": [
        "from sklearn.preprocessing import LabelEncoder\n",
        "lb = LabelEncoder()\n",
        "target= lb.fit_transform(Y)\n",
        "Y = pd.DataFrame(target)\n"
      ]
    },
    {
      "cell_type": "code",
      "execution_count": 507,
      "metadata": {},
      "outputs": [],
      "source": [
        "y = Y.squeeze()"
      ]
    },
    {
      "cell_type": "code",
      "execution_count": 509,
      "metadata": {},
      "outputs": [
        {
          "data": {
            "text/plain": [
              "(9919,)"
            ]
          },
          "execution_count": 509,
          "metadata": {},
          "output_type": "execute_result"
        }
      ],
      "source": [
        "y.shape"
      ]
    },
    {
      "cell_type": "code",
      "execution_count": 510,
      "metadata": {
        "id": "yzBNDOXspUOP"
      },
      "outputs": [],
      "source": [
        "numerical_columns = numerical_columns_selector(X)\n",
        "categorical_columns = categorical_columns_selector(X)"
      ]
    },
    {
      "cell_type": "code",
      "execution_count": 511,
      "metadata": {},
      "outputs": [
        {
          "data": {
            "text/plain": [
              "['key', 'voice_gender', 'mode', 'musician_category']"
            ]
          },
          "execution_count": 511,
          "metadata": {},
          "output_type": "execute_result"
        }
      ],
      "source": [
        "categorical_columns = list(categorical_columns)\n",
        "categorical_columns"
      ]
    },
    {
      "cell_type": "code",
      "execution_count": 512,
      "metadata": {},
      "outputs": [
        {
          "data": {
            "text/html": [
              "<div>\n",
              "<style scoped>\n",
              "    .dataframe tbody tr th:only-of-type {\n",
              "        vertical-align: middle;\n",
              "    }\n",
              "\n",
              "    .dataframe tbody tr th {\n",
              "        vertical-align: top;\n",
              "    }\n",
              "\n",
              "    .dataframe thead th {\n",
              "        text-align: right;\n",
              "    }\n",
              "</style>\n",
              "<table border=\"1\" class=\"dataframe\">\n",
              "  <thead>\n",
              "    <tr style=\"text-align: right;\">\n",
              "      <th></th>\n",
              "      <th>0</th>\n",
              "      <th>1</th>\n",
              "      <th>2</th>\n",
              "      <th>3</th>\n",
              "      <th>4</th>\n",
              "      <th>5</th>\n",
              "      <th>6</th>\n",
              "      <th>7</th>\n",
              "      <th>8</th>\n",
              "      <th>9</th>\n",
              "      <th>...</th>\n",
              "      <th>21</th>\n",
              "      <th>22</th>\n",
              "      <th>23</th>\n",
              "      <th>24</th>\n",
              "      <th>25</th>\n",
              "      <th>26</th>\n",
              "      <th>27</th>\n",
              "      <th>28</th>\n",
              "      <th>29</th>\n",
              "      <th>30</th>\n",
              "    </tr>\n",
              "  </thead>\n",
              "  <tbody>\n",
              "    <tr>\n",
              "      <th>0</th>\n",
              "      <td>0.0</td>\n",
              "      <td>0.0</td>\n",
              "      <td>0.0</td>\n",
              "      <td>0.0</td>\n",
              "      <td>0.0</td>\n",
              "      <td>1.0</td>\n",
              "      <td>0.0</td>\n",
              "      <td>0.0</td>\n",
              "      <td>0.0</td>\n",
              "      <td>0.0</td>\n",
              "      <td>...</td>\n",
              "      <td>0.018311</td>\n",
              "      <td>0.902400</td>\n",
              "      <td>0.080142</td>\n",
              "      <td>0.887279</td>\n",
              "      <td>0.000000</td>\n",
              "      <td>0.022379</td>\n",
              "      <td>0.882529</td>\n",
              "      <td>0.098362</td>\n",
              "      <td>0.382038</td>\n",
              "      <td>0.590104</td>\n",
              "    </tr>\n",
              "    <tr>\n",
              "      <th>1</th>\n",
              "      <td>0.0</td>\n",
              "      <td>0.0</td>\n",
              "      <td>0.0</td>\n",
              "      <td>0.0</td>\n",
              "      <td>0.0</td>\n",
              "      <td>0.0</td>\n",
              "      <td>0.0</td>\n",
              "      <td>0.0</td>\n",
              "      <td>0.0</td>\n",
              "      <td>1.0</td>\n",
              "      <td>...</td>\n",
              "      <td>0.784686</td>\n",
              "      <td>0.215721</td>\n",
              "      <td>0.120262</td>\n",
              "      <td>0.532503</td>\n",
              "      <td>0.002553</td>\n",
              "      <td>0.109658</td>\n",
              "      <td>0.450206</td>\n",
              "      <td>0.015648</td>\n",
              "      <td>0.420772</td>\n",
              "      <td>0.069094</td>\n",
              "    </tr>\n",
              "    <tr>\n",
              "      <th>2</th>\n",
              "      <td>0.0</td>\n",
              "      <td>0.0</td>\n",
              "      <td>0.0</td>\n",
              "      <td>0.0</td>\n",
              "      <td>1.0</td>\n",
              "      <td>0.0</td>\n",
              "      <td>0.0</td>\n",
              "      <td>0.0</td>\n",
              "      <td>0.0</td>\n",
              "      <td>0.0</td>\n",
              "      <td>...</td>\n",
              "      <td>0.000417</td>\n",
              "      <td>0.903174</td>\n",
              "      <td>0.059567</td>\n",
              "      <td>0.000000</td>\n",
              "      <td>0.000356</td>\n",
              "      <td>0.057374</td>\n",
              "      <td>0.837753</td>\n",
              "      <td>0.028831</td>\n",
              "      <td>0.381709</td>\n",
              "      <td>0.449637</td>\n",
              "    </tr>\n",
              "    <tr>\n",
              "      <th>3</th>\n",
              "      <td>1.0</td>\n",
              "      <td>0.0</td>\n",
              "      <td>0.0</td>\n",
              "      <td>0.0</td>\n",
              "      <td>0.0</td>\n",
              "      <td>0.0</td>\n",
              "      <td>0.0</td>\n",
              "      <td>0.0</td>\n",
              "      <td>0.0</td>\n",
              "      <td>0.0</td>\n",
              "      <td>...</td>\n",
              "      <td>0.082993</td>\n",
              "      <td>0.315132</td>\n",
              "      <td>0.080780</td>\n",
              "      <td>0.818889</td>\n",
              "      <td>0.000000</td>\n",
              "      <td>0.067399</td>\n",
              "      <td>0.863266</td>\n",
              "      <td>0.047696</td>\n",
              "      <td>0.769256</td>\n",
              "      <td>0.515491</td>\n",
              "    </tr>\n",
              "    <tr>\n",
              "      <th>4</th>\n",
              "      <td>0.0</td>\n",
              "      <td>1.0</td>\n",
              "      <td>0.0</td>\n",
              "      <td>0.0</td>\n",
              "      <td>0.0</td>\n",
              "      <td>0.0</td>\n",
              "      <td>0.0</td>\n",
              "      <td>0.0</td>\n",
              "      <td>0.0</td>\n",
              "      <td>0.0</td>\n",
              "      <td>...</td>\n",
              "      <td>0.927117</td>\n",
              "      <td>0.606771</td>\n",
              "      <td>0.060785</td>\n",
              "      <td>0.500645</td>\n",
              "      <td>0.135681</td>\n",
              "      <td>0.087138</td>\n",
              "      <td>0.444469</td>\n",
              "      <td>0.043086</td>\n",
              "      <td>0.447650</td>\n",
              "      <td>0.548416</td>\n",
              "    </tr>\n",
              "    <tr>\n",
              "      <th>...</th>\n",
              "      <td>...</td>\n",
              "      <td>...</td>\n",
              "      <td>...</td>\n",
              "      <td>...</td>\n",
              "      <td>...</td>\n",
              "      <td>...</td>\n",
              "      <td>...</td>\n",
              "      <td>...</td>\n",
              "      <td>...</td>\n",
              "      <td>...</td>\n",
              "      <td>...</td>\n",
              "      <td>...</td>\n",
              "      <td>...</td>\n",
              "      <td>...</td>\n",
              "      <td>...</td>\n",
              "      <td>...</td>\n",
              "      <td>...</td>\n",
              "      <td>...</td>\n",
              "      <td>...</td>\n",
              "      <td>...</td>\n",
              "      <td>...</td>\n",
              "    </tr>\n",
              "    <tr>\n",
              "      <th>9914</th>\n",
              "      <td>0.0</td>\n",
              "      <td>0.0</td>\n",
              "      <td>0.0</td>\n",
              "      <td>0.0</td>\n",
              "      <td>0.0</td>\n",
              "      <td>0.0</td>\n",
              "      <td>0.0</td>\n",
              "      <td>0.0</td>\n",
              "      <td>0.0</td>\n",
              "      <td>0.0</td>\n",
              "      <td>...</td>\n",
              "      <td>0.963249</td>\n",
              "      <td>0.071337</td>\n",
              "      <td>0.055240</td>\n",
              "      <td>0.497832</td>\n",
              "      <td>0.949496</td>\n",
              "      <td>0.110721</td>\n",
              "      <td>0.404582</td>\n",
              "      <td>0.034693</td>\n",
              "      <td>0.209851</td>\n",
              "      <td>0.037778</td>\n",
              "    </tr>\n",
              "    <tr>\n",
              "      <th>9915</th>\n",
              "      <td>0.0</td>\n",
              "      <td>0.0</td>\n",
              "      <td>1.0</td>\n",
              "      <td>0.0</td>\n",
              "      <td>0.0</td>\n",
              "      <td>0.0</td>\n",
              "      <td>0.0</td>\n",
              "      <td>0.0</td>\n",
              "      <td>0.0</td>\n",
              "      <td>0.0</td>\n",
              "      <td>...</td>\n",
              "      <td>0.792196</td>\n",
              "      <td>0.322454</td>\n",
              "      <td>0.000000</td>\n",
              "      <td>0.571707</td>\n",
              "      <td>0.026631</td>\n",
              "      <td>0.216570</td>\n",
              "      <td>0.659023</td>\n",
              "      <td>0.021906</td>\n",
              "      <td>0.482036</td>\n",
              "      <td>0.579883</td>\n",
              "    </tr>\n",
              "    <tr>\n",
              "      <th>9916</th>\n",
              "      <td>0.0</td>\n",
              "      <td>0.0</td>\n",
              "      <td>0.0</td>\n",
              "      <td>0.0</td>\n",
              "      <td>0.0</td>\n",
              "      <td>0.0</td>\n",
              "      <td>0.0</td>\n",
              "      <td>0.0</td>\n",
              "      <td>1.0</td>\n",
              "      <td>0.0</td>\n",
              "      <td>...</td>\n",
              "      <td>0.807131</td>\n",
              "      <td>0.394829</td>\n",
              "      <td>0.110876</td>\n",
              "      <td>0.644538</td>\n",
              "      <td>0.000481</td>\n",
              "      <td>0.624106</td>\n",
              "      <td>0.486386</td>\n",
              "      <td>0.434696</td>\n",
              "      <td>0.514088</td>\n",
              "      <td>0.565495</td>\n",
              "    </tr>\n",
              "    <tr>\n",
              "      <th>9917</th>\n",
              "      <td>0.0</td>\n",
              "      <td>0.0</td>\n",
              "      <td>0.0</td>\n",
              "      <td>0.0</td>\n",
              "      <td>0.0</td>\n",
              "      <td>0.0</td>\n",
              "      <td>0.0</td>\n",
              "      <td>0.0</td>\n",
              "      <td>1.0</td>\n",
              "      <td>0.0</td>\n",
              "      <td>...</td>\n",
              "      <td>0.103623</td>\n",
              "      <td>0.579299</td>\n",
              "      <td>0.044343</td>\n",
              "      <td>0.913452</td>\n",
              "      <td>0.000082</td>\n",
              "      <td>0.139350</td>\n",
              "      <td>0.837931</td>\n",
              "      <td>0.037324</td>\n",
              "      <td>0.441822</td>\n",
              "      <td>0.373919</td>\n",
              "    </tr>\n",
              "    <tr>\n",
              "      <th>9918</th>\n",
              "      <td>0.0</td>\n",
              "      <td>0.0</td>\n",
              "      <td>0.0</td>\n",
              "      <td>0.0</td>\n",
              "      <td>0.0</td>\n",
              "      <td>0.0</td>\n",
              "      <td>0.0</td>\n",
              "      <td>0.0</td>\n",
              "      <td>1.0</td>\n",
              "      <td>0.0</td>\n",
              "      <td>...</td>\n",
              "      <td>0.774057</td>\n",
              "      <td>0.437034</td>\n",
              "      <td>0.055928</td>\n",
              "      <td>0.702241</td>\n",
              "      <td>0.466232</td>\n",
              "      <td>0.117498</td>\n",
              "      <td>0.763284</td>\n",
              "      <td>0.006193</td>\n",
              "      <td>0.323558</td>\n",
              "      <td>0.333136</td>\n",
              "    </tr>\n",
              "  </tbody>\n",
              "</table>\n",
              "<p>9919 rows × 31 columns</p>\n",
              "</div>"
            ],
            "text/plain": [
              "       0    1    2    3    4    5    6    7    8    9   ...        21  \\\n",
              "0     0.0  0.0  0.0  0.0  0.0  1.0  0.0  0.0  0.0  0.0  ...  0.018311   \n",
              "1     0.0  0.0  0.0  0.0  0.0  0.0  0.0  0.0  0.0  1.0  ...  0.784686   \n",
              "2     0.0  0.0  0.0  0.0  1.0  0.0  0.0  0.0  0.0  0.0  ...  0.000417   \n",
              "3     1.0  0.0  0.0  0.0  0.0  0.0  0.0  0.0  0.0  0.0  ...  0.082993   \n",
              "4     0.0  1.0  0.0  0.0  0.0  0.0  0.0  0.0  0.0  0.0  ...  0.927117   \n",
              "...   ...  ...  ...  ...  ...  ...  ...  ...  ...  ...  ...       ...   \n",
              "9914  0.0  0.0  0.0  0.0  0.0  0.0  0.0  0.0  0.0  0.0  ...  0.963249   \n",
              "9915  0.0  0.0  1.0  0.0  0.0  0.0  0.0  0.0  0.0  0.0  ...  0.792196   \n",
              "9916  0.0  0.0  0.0  0.0  0.0  0.0  0.0  0.0  1.0  0.0  ...  0.807131   \n",
              "9917  0.0  0.0  0.0  0.0  0.0  0.0  0.0  0.0  1.0  0.0  ...  0.103623   \n",
              "9918  0.0  0.0  0.0  0.0  0.0  0.0  0.0  0.0  1.0  0.0  ...  0.774057   \n",
              "\n",
              "            22        23        24        25        26        27        28  \\\n",
              "0     0.902400  0.080142  0.887279  0.000000  0.022379  0.882529  0.098362   \n",
              "1     0.215721  0.120262  0.532503  0.002553  0.109658  0.450206  0.015648   \n",
              "2     0.903174  0.059567  0.000000  0.000356  0.057374  0.837753  0.028831   \n",
              "3     0.315132  0.080780  0.818889  0.000000  0.067399  0.863266  0.047696   \n",
              "4     0.606771  0.060785  0.500645  0.135681  0.087138  0.444469  0.043086   \n",
              "...        ...       ...       ...       ...       ...       ...       ...   \n",
              "9914  0.071337  0.055240  0.497832  0.949496  0.110721  0.404582  0.034693   \n",
              "9915  0.322454  0.000000  0.571707  0.026631  0.216570  0.659023  0.021906   \n",
              "9916  0.394829  0.110876  0.644538  0.000481  0.624106  0.486386  0.434696   \n",
              "9917  0.579299  0.044343  0.913452  0.000082  0.139350  0.837931  0.037324   \n",
              "9918  0.437034  0.055928  0.702241  0.466232  0.117498  0.763284  0.006193   \n",
              "\n",
              "            29        30  \n",
              "0     0.382038  0.590104  \n",
              "1     0.420772  0.069094  \n",
              "2     0.381709  0.449637  \n",
              "3     0.769256  0.515491  \n",
              "4     0.447650  0.548416  \n",
              "...        ...       ...  \n",
              "9914  0.209851  0.037778  \n",
              "9915  0.482036  0.579883  \n",
              "9916  0.514088  0.565495  \n",
              "9917  0.441822  0.373919  \n",
              "9918  0.323558  0.333136  \n",
              "\n",
              "[9919 rows x 31 columns]"
            ]
          },
          "execution_count": 512,
          "metadata": {},
          "output_type": "execute_result"
        }
      ],
      "source": [
        "from sklearn.compose import ColumnTransformer\n",
        "from sklearn.preprocessing import OneHotEncoder, MinMaxScaler\n",
        "\n",
        "preprocessing = ColumnTransformer(\n",
        "    transformers=[\n",
        "        (\"cat\", OneHotEncoder(), categorical_columns),\n",
        "        (\"Scale\", MinMaxScaler(), numerical_columns)]\n",
        ")\n",
        "x = preprocessing.fit_transform(X)\n",
        "x = pd.DataFrame(x)\n",
        "x"
      ]
    },
    {
      "cell_type": "code",
      "execution_count": 516,
      "metadata": {},
      "outputs": [],
      "source": [
        "from sklearn.compose import make_column_transformer, make_column_selector\n",
        "\n",
        "ohn = OneHotEncoder()\n",
        "scale = MinMaxScaler()\n",
        "\n",
        "clf = make_column_transformer(\n",
        "    (ohn, categorical_columns),\n",
        "    (scale, numerical_columns)  \n",
        ")\n",
        "\n",
        "x1 = clf.fit_transform(X)"
      ]
    },
    {
      "cell_type": "code",
      "execution_count": 517,
      "metadata": {
        "id": "D-velF60NlCz"
      },
      "outputs": [],
      "source": [
        "from sklearn.model_selection import  train_test_split\n",
        "X_train,X_test,Y_train,Y_test = train_test_split(x,y,test_size=0.2)"
      ]
    },
    {
      "cell_type": "code",
      "execution_count": 518,
      "metadata": {},
      "outputs": [
        {
          "name": "stdout",
          "output_type": "stream",
          "text": [
            "0.5493428011473186\n"
          ]
        }
      ],
      "source": [
        "from sklearn.feature_selection import SelectKBest\n",
        "from sklearn.neighbors import KNeighborsClassifier\n",
        "from sklearn.metrics import accuracy_score\n",
        "from sklearn import metrics\n",
        "\n",
        "k_range = list(range(1,15))\n",
        "scores = []\n",
        "error = []\n",
        "\n",
        "for k in k_range:\n",
        "    knn = KNeighborsClassifier(n_neighbors=k)\n",
        "    knn.fit(X_train, Y_train.values.ravel())\n",
        "    y_pred = knn.predict(X_test)\n",
        "    accuracy_score(Y_test, y_pred)\n",
        "    scores.append(metrics.accuracy_score(Y_test,y_pred))\n",
        "    error.append(np.mean(y_pred != Y_test))\n",
        "print(score.mean())\n"
      ]
    },
    {
      "cell_type": "code",
      "execution_count": 461,
      "metadata": {},
      "outputs": [],
      "source": [
        "k_range = list(range(1, 15))\n",
        "k_scores = []\n",
        "for k in k_range:\n",
        "    knn = KNeighborsClassifier(n_neighbors=k)\n",
        "    scores = cross_val_score(knn, X_train, Y_train, cv=10, scoring='accuracy')\n",
        "    k_scores.append(scores.mean())"
      ]
    },
    {
      "cell_type": "code",
      "execution_count": 467,
      "metadata": {},
      "outputs": [
        {
          "name": "stdout",
          "output_type": "stream",
          "text": [
            "[0.5657203617293638, 0.5231247280200495, 0.5587908684617607, 0.5773172691783585, 0.5866433624186442, 0.5842477153684158, 0.5881526327659209, 0.5899168098697354, 0.5902963906473836, 0.5934475463835005, 0.5885298312374333, 0.5872700677527865, 0.5852541603006153, 0.5836167218832289]\n"
          ]
        }
      ],
      "source": [
        "print(k_scores)"
      ]
    },
    {
      "cell_type": "code",
      "execution_count": 469,
      "metadata": {},
      "outputs": [
        {
          "data": {
            "text/plain": [
              "Text(0, 0.5, 'Cross-Validated Accuracy')"
            ]
          },
          "execution_count": 469,
          "metadata": {},
          "output_type": "execute_result"
        },
        {
          "data": {
            "image/png": "[encoded data removed]",
            "text/plain": [
              "<Figure size 432x288 with 1 Axes>"
            ]
          },
          "metadata": {
            "needs_background": "light"
          },
          "output_type": "display_data"
        }
      ],
      "source": [
        "import matplotlib.pyplot as plt\n",
        "%matplotlib inline\n",
        "# plot the value of K for KNN (x-axis) versus the cross-validated accuracy (y-axis)\n",
        "plt.plot(k_range, k_scores, color='red', linestyle='dashed', marker='o',\n",
        "         markerfacecolor='blue', markersize=10)\n",
        "plt.xlabel('Value of K for KNN')\n",
        "plt.ylabel('Cross-Validated Accuracy')"
      ]
    },
    {
      "cell_type": "code",
      "execution_count": 471,
      "metadata": {},
      "outputs": [
        {
          "data": {
            "text/plain": [
              "Text(0, 0.5, 'Mean Error')"
            ]
          },
          "execution_count": 471,
          "metadata": {},
          "output_type": "execute_result"
        },
        {
          "data": {
            "image/png": "[encoded data removed]",
            "text/plain": [
              "<Figure size 864x432 with 1 Axes>"
            ]
          },
          "metadata": {
            "needs_background": "light"
          },
          "output_type": "display_data"
        }
      ],
      "source": [
        "plt.figure(figsize=(12, 6))\n",
        "plt.plot(k_range, error, color='red', linestyle='dashed', marker='o',\n",
        "         markerfacecolor='blue', markersize=10)\n",
        "plt.title('Error Rate K Value')\n",
        "plt.xlabel('K Value')\n",
        "plt.ylabel('Mean Error')"
      ]
    },
    {
      "cell_type": "code",
      "execution_count": 519,
      "metadata": {},
      "outputs": [
        {
          "name": "stdout",
          "output_type": "stream",
          "text": [
            "0.5317598091467437\n"
          ]
        }
      ],
      "source": [
        "# Best Value of K\n",
        "knn = KNeighborsClassifier(n_neighbors=9)\n",
        "print(cross_val_score(knn,X_test,Y_test, cv=10, scoring=\"accuracy\").mean())\n"
      ]
    },
    {
      "cell_type": "code",
      "execution_count": 523,
      "metadata": {},
      "outputs": [
        {
          "name": "stdout",
          "output_type": "stream",
          "text": [
            "0.7213009491903964\n"
          ]
        }
      ],
      "source": [
        "from sklearn.linear_model import LogisticRegressionCV\n",
        "\n",
        "logreg = LogisticRegression(solver='saga')\n",
        "logreg_fit = logreg.fit(X_train, Y_train)\n",
        "\n",
        "print(cross_val_score(logreg, X_test,Y_test, cv = 10, scoring=\"accuracy\").mean())\n"
      ]
    },
    {
      "cell_type": "code",
      "execution_count": 361,
      "metadata": {},
      "outputs": [
        {
          "name": "stdout",
          "output_type": "stream",
          "text": [
            "0.7469439193446755\n",
            "0.7540322580645161\n"
          ]
        }
      ],
      "source": [
        "from sklearn.linear_model import LogisticRegression\n",
        "\n",
        "logreg = LogisticRegression(solver='saga')\n",
        "logreg_fit = logreg.fit(X_train, Y_train.values.ravel())\n",
        "\n",
        "y_pred_log_train = logreg.predict(X_train)\n",
        "print(accuracy_score(Y_train,y_pred_log_train))\n",
        "\n",
        "y_pred_log_test = logreg.predict(X_test)\n",
        "print(accuracy_score(Y_test,y_pred_log_test))\n",
        "\n",
        "\n",
        "\n"
      ]
    },
    {
      "cell_type": "code",
      "execution_count": 356,
      "metadata": {},
      "outputs": [
        {
          "name": "stdout",
          "output_type": "stream",
          "text": [
            "LogReg Training ACCURACY: 0.7469\n",
            "LogReg Testing  ACCURACY: 0.754\n",
            "LogReg Train-Test Gap   : 0.0071\n"
          ]
        }
      ],
      "source": [
        "print('LogReg Training ACCURACY:', logreg_fit.score(X_train, Y_train).round(4))\n",
        "print('LogReg Testing  ACCURACY:', logreg_fit.score(X_test, Y_test).round(4))\n",
        "logreg_train_score = logreg_fit.score(X_train, Y_train).round(4) # accuracy\n",
        "logreg_test_score  = logreg_fit.score(X_test, Y_test).round(4)   # accuracy\n",
        "print('LogReg Train-Test Gap   :', abs(logreg_train_score - logreg_test_score).round(4))\n",
        "logreg_test_gap = abs(logreg_train_score - logreg_test_score).round(4)\n"
      ]
    },
    {
      "cell_type": "code",
      "execution_count": 418,
      "metadata": {},
      "outputs": [
        {
          "name": "stdout",
          "output_type": "stream",
          "text": [
            "0.7460887034331212\n"
          ]
        }
      ],
      "source": [
        "from sklearn.preprocessing import LabelBinarizer\n",
        "lb = LabelBinarizer()\n",
        "lb.fit(Y_test)\n",
        "y_test = lb.transform(Y_test)\n",
        "y_pred = lb.transform(y_pred_log_test)\n",
        "print(roc_auc_score(y_test, y_pred,multi_class='ovr'))\n",
        "logreg_auc_score = roc_auc_score(y_test, y_pred,multi_class='ovr')"
      ]
    },
    {
      "cell_type": "code",
      "execution_count": 528,
      "metadata": {},
      "outputs": [
        {
          "name": "stdout",
          "output_type": "stream",
          "text": [
            "0.7832661290322581\n",
            "              precision    recall  f1-score   support\n",
            "\n",
            "           0       0.91      0.93      0.92       530\n",
            "           1       0.68      0.29      0.41        86\n",
            "           2       0.66      0.28      0.39        76\n",
            "           3       0.00      0.00      0.00        66\n",
            "           4       0.71      0.77      0.74       366\n",
            "           5       0.74      0.81      0.77       380\n",
            "           6       0.77      0.89      0.82       480\n",
            "\n",
            "    accuracy                           0.78      1984\n",
            "   macro avg       0.64      0.57      0.58      1984\n",
            "weighted avg       0.75      0.78      0.76      1984\n",
            "\n"
          ]
        }
      ],
      "source": [
        "from sklearn.ensemble import RandomForestClassifier\n",
        "from sklearn.metrics import accuracy_score, f1_score, classification_report\n",
        "rf = RandomForestClassifier(max_features=5,n_estimators=100)\n",
        "rf.fit(X_train,Y_train.values.ravel())\n",
        "y_pred_rd = rf.predict(X_test)\n",
        "print(accuracy_score(Y_test, y_pred_rd))\n",
        "print(classification_report(Y_test, y_pred_rd))\n"
      ]
    },
    {
      "cell_type": "code",
      "execution_count": 551,
      "metadata": {},
      "outputs": [],
      "source": [
        "from sklearn.ensemble import RandomForestClassifier\n",
        "rf_classifier = RandomForestClassifier(\n",
        "                      min_samples_leaf=50,\n",
        "                      n_estimators=150,\n",
        "                      bootstrap=True,\n",
        "                      oob_score=True,\n",
        "                      n_jobs=-1,\n",
        "                      max_features='auto')"
      ]
    },
    {
      "cell_type": "code",
      "execution_count": 552,
      "metadata": {},
      "outputs": [
        {
          "data": {
            "text/plain": [
              "RandomForestClassifier(min_samples_leaf=50, n_estimators=150, n_jobs=-1,\n",
              "                       oob_score=True)"
            ]
          },
          "execution_count": 552,
          "metadata": {},
          "output_type": "execute_result"
        }
      ],
      "source": [
        "from sklearn.pipeline import make_pipeline\n",
        "#pipe = make_pipeline(preprocessing, rf_classifier)\n",
        "rf_classifier.fit(X_train, Y_train)"
      ]
    },
    {
      "cell_type": "code",
      "execution_count": 553,
      "metadata": {},
      "outputs": [
        {
          "data": {
            "text/plain": [
              "array([5, 0, 0, ..., 6, 0, 4])"
            ]
          },
          "execution_count": 553,
          "metadata": {},
          "output_type": "execute_result"
        }
      ],
      "source": [
        "y_pred_rf = rf_classifier.predict(X_test)\n",
        "y_pred_rf"
      ]
    },
    {
      "cell_type": "code",
      "execution_count": 554,
      "metadata": {},
      "outputs": [
        {
          "name": "stdout",
          "output_type": "stream",
          "text": [
            "The accuracy of the model is 76.2 %\n"
          ]
        }
      ],
      "source": [
        "from sklearn.metrics import accuracy_score, confusion_matrix, precision_score, recall_score, roc_auc_score, roc_curve, f1_score\n",
        "\n",
        "accuracy_score(Y_test, y_pred_rf)\n",
        "print(f\"The accuracy of the model is {round(accuracy_score(Y_test,y_pred_rf),3)*100} %\")"
      ]
    },
    {
      "cell_type": "code",
      "execution_count": 555,
      "metadata": {},
      "outputs": [],
      "source": [
        "train_probs = rf_classifier.predict_proba(X_train)\n",
        "probs = rf_classifier.predict_proba(X_test)\n",
        "train_predictions = rf_classifier.predict(X_train)"
      ]
    },
    {
      "cell_type": "code",
      "execution_count": 557,
      "metadata": {},
      "outputs": [
        {
          "name": "stdout",
          "output_type": "stream",
          "text": [
            "ROC AUC score : 0.9540208892669889\n",
            "ROC AUC score : 0.9352643841326669\n"
          ]
        }
      ],
      "source": [
        "print('ROC AUC score :',roc_auc_score(Y_train, y_score= train_probs, multi_class='ovr'))\n",
        "print('ROC AUC score :',roc_auc_score(Y_test, y_score= probs, multi_class='ovr'))\n"
      ]
    },
    {
      "cell_type": "code",
      "execution_count": 570,
      "metadata": {},
      "outputs": [
        {
          "name": "stdout",
          "output_type": "stream",
          "text": [
            "RecallBaseline: 0.04Test: 0.76 Train: 0.77\n",
            "PrecisionBaseline: 0.0Test: 0.74 Train: 0.76\n",
            "RocBaseline: 0.5Test: 0.95 Train: 0.96\n"
          ]
        },
        {
          "name": "stderr",
          "output_type": "stream",
          "text": [
            "C:\\Users\\sasha\\anaconda3\\envs\\tf\\lib\\site-packages\\sklearn\\metrics\\_classification.py:1318: UndefinedMetricWarning: Precision is ill-defined and being set to 0.0 in labels with no predicted samples. Use `zero_division` parameter to control this behavior.\n",
            "  _warn_prf(average, modifier, msg_start, len(result))\n",
            "C:\\Users\\sasha\\anaconda3\\envs\\tf\\lib\\site-packages\\sklearn\\metrics\\_classification.py:1318: UndefinedMetricWarning: Precision is ill-defined and being set to 0.0 in labels with no predicted samples. Use `zero_division` parameter to control this behavior.\n",
            "  _warn_prf(average, modifier, msg_start, len(result))\n",
            "C:\\Users\\sasha\\anaconda3\\envs\\tf\\lib\\site-packages\\sklearn\\metrics\\_classification.py:1318: UndefinedMetricWarning: Precision is ill-defined and being set to 0.0 in labels with no predicted samples. Use `zero_division` parameter to control this behavior.\n",
            "  _warn_prf(average, modifier, msg_start, len(result))\n"
          ]
        },
        {
          "ename": "ValueError",
          "evalue": "multiclass format is not supported",
          "output_type": "error",
          "traceback": [
            "\u001b[1;31m---------------------------------------------------------------------------\u001b[0m",
            "\u001b[1;31mValueError\u001b[0m                                Traceback (most recent call last)",
            "\u001b[1;32m~\\AppData\\Local\\Temp/ipykernel_6292/1876592993.py\u001b[0m in \u001b[0;36m<module>\u001b[1;34m\u001b[0m\n\u001b[0;32m     28\u001b[0m     \u001b[0mplt\u001b[0m\u001b[1;33m.\u001b[0m\u001b[0mylabel\u001b[0m\u001b[1;33m(\u001b[0m\u001b[1;34m'True Positive Rate'\u001b[0m\u001b[1;33m)\u001b[0m\u001b[1;33m;\u001b[0m \u001b[0mplt\u001b[0m\u001b[1;33m.\u001b[0m\u001b[0mtitle\u001b[0m\u001b[1;33m(\u001b[0m\u001b[1;34m'ROC Curves'\u001b[0m\u001b[1;33m)\u001b[0m\u001b[1;33m;\u001b[0m\u001b[1;33m\u001b[0m\u001b[1;33m\u001b[0m\u001b[0m\n\u001b[0;32m     29\u001b[0m     \u001b[0mplt\u001b[0m\u001b[1;33m.\u001b[0m\u001b[0mshow\u001b[0m\u001b[1;33m(\u001b[0m\u001b[1;33m)\u001b[0m\u001b[1;33m;\u001b[0m\u001b[1;33m\u001b[0m\u001b[1;33m\u001b[0m\u001b[0m\n\u001b[1;32m---> 30\u001b[1;33m \u001b[0mevaluate_model\u001b[0m\u001b[1;33m(\u001b[0m\u001b[0my_pred\u001b[0m\u001b[1;33m,\u001b[0m\u001b[0mprobs\u001b[0m\u001b[1;33m,\u001b[0m\u001b[0mtrain_predictions\u001b[0m\u001b[1;33m,\u001b[0m\u001b[0mtrain_probs\u001b[0m\u001b[1;33m)\u001b[0m\u001b[1;33m\u001b[0m\u001b[1;33m\u001b[0m\u001b[0m\n\u001b[0m",
            "\u001b[1;32m~\\AppData\\Local\\Temp/ipykernel_6292/1876592993.py\u001b[0m in \u001b[0;36mevaluate_model\u001b[1;34m(y_pred, probs, train_predictions, train_probs)\u001b[0m\n\u001b[0;32m     17\u001b[0m           \u001b[0mprint\u001b[0m\u001b[1;33m(\u001b[0m\u001b[1;34mf'{metric.capitalize()}Baseline: {round(baseline[metric], 2)}Test: {round(results[metric], 2)} Train: {round(train_results[metric], 2)}'\u001b[0m\u001b[1;33m)\u001b[0m\u001b[1;33m\u001b[0m\u001b[1;33m\u001b[0m\u001b[0m\n\u001b[0;32m     18\u001b[0m      \u001b[1;31m# Calculate false positive rates and true positive rates\u001b[0m\u001b[1;33m\u001b[0m\u001b[1;33m\u001b[0m\u001b[0m\n\u001b[1;32m---> 19\u001b[1;33m     \u001b[0mbase_fpr\u001b[0m\u001b[1;33m,\u001b[0m \u001b[0mbase_tpr\u001b[0m\u001b[1;33m,\u001b[0m \u001b[0m_\u001b[0m \u001b[1;33m=\u001b[0m \u001b[0mroc_curve\u001b[0m\u001b[1;33m(\u001b[0m\u001b[0mY_test\u001b[0m\u001b[1;33m,\u001b[0m \u001b[1;33m[\u001b[0m\u001b[1;36m1\u001b[0m \u001b[1;32mfor\u001b[0m \u001b[0m_\u001b[0m \u001b[1;32min\u001b[0m \u001b[0mrange\u001b[0m\u001b[1;33m(\u001b[0m\u001b[0mlen\u001b[0m\u001b[1;33m(\u001b[0m\u001b[0mY_test\u001b[0m\u001b[1;33m)\u001b[0m\u001b[1;33m)\u001b[0m\u001b[1;33m]\u001b[0m\u001b[1;33m)\u001b[0m\u001b[1;33m\u001b[0m\u001b[1;33m\u001b[0m\u001b[0m\n\u001b[0m\u001b[0;32m     20\u001b[0m     \u001b[0mmodel_fpr\u001b[0m\u001b[1;33m,\u001b[0m \u001b[0mmodel_tpr\u001b[0m\u001b[1;33m,\u001b[0m \u001b[0m_\u001b[0m \u001b[1;33m=\u001b[0m \u001b[0mroc_curve\u001b[0m\u001b[1;33m(\u001b[0m\u001b[0mY_test\u001b[0m\u001b[1;33m,\u001b[0m \u001b[0mprobs\u001b[0m\u001b[1;33m)\u001b[0m\u001b[1;33m\u001b[0m\u001b[1;33m\u001b[0m\u001b[0m\n\u001b[0;32m     21\u001b[0m     \u001b[0mplt\u001b[0m\u001b[1;33m.\u001b[0m\u001b[0mfigure\u001b[0m\u001b[1;33m(\u001b[0m\u001b[0mfigsize\u001b[0m \u001b[1;33m=\u001b[0m \u001b[1;33m(\u001b[0m\u001b[1;36m8\u001b[0m\u001b[1;33m,\u001b[0m \u001b[1;36m6\u001b[0m\u001b[1;33m)\u001b[0m\u001b[1;33m)\u001b[0m\u001b[1;33m\u001b[0m\u001b[1;33m\u001b[0m\u001b[0m\n",
            "\u001b[1;32m~\\anaconda3\\envs\\tf\\lib\\site-packages\\sklearn\\metrics\\_ranking.py\u001b[0m in \u001b[0;36mroc_curve\u001b[1;34m(y_true, y_score, pos_label, sample_weight, drop_intermediate)\u001b[0m\n\u001b[0;32m    960\u001b[0m \u001b[1;33m\u001b[0m\u001b[0m\n\u001b[0;32m    961\u001b[0m     \"\"\"\n\u001b[1;32m--> 962\u001b[1;33m     fps, tps, thresholds = _binary_clf_curve(\n\u001b[0m\u001b[0;32m    963\u001b[0m         \u001b[0my_true\u001b[0m\u001b[1;33m,\u001b[0m \u001b[0my_score\u001b[0m\u001b[1;33m,\u001b[0m \u001b[0mpos_label\u001b[0m\u001b[1;33m=\u001b[0m\u001b[0mpos_label\u001b[0m\u001b[1;33m,\u001b[0m \u001b[0msample_weight\u001b[0m\u001b[1;33m=\u001b[0m\u001b[0msample_weight\u001b[0m\u001b[1;33m\u001b[0m\u001b[1;33m\u001b[0m\u001b[0m\n\u001b[0;32m    964\u001b[0m     )\n",
            "\u001b[1;32m~\\anaconda3\\envs\\tf\\lib\\site-packages\\sklearn\\metrics\\_ranking.py\u001b[0m in \u001b[0;36m_binary_clf_curve\u001b[1;34m(y_true, y_score, pos_label, sample_weight)\u001b[0m\n\u001b[0;32m    729\u001b[0m     \u001b[0my_type\u001b[0m \u001b[1;33m=\u001b[0m \u001b[0mtype_of_target\u001b[0m\u001b[1;33m(\u001b[0m\u001b[0my_true\u001b[0m\u001b[1;33m)\u001b[0m\u001b[1;33m\u001b[0m\u001b[1;33m\u001b[0m\u001b[0m\n\u001b[0;32m    730\u001b[0m     \u001b[1;32mif\u001b[0m \u001b[1;32mnot\u001b[0m \u001b[1;33m(\u001b[0m\u001b[0my_type\u001b[0m \u001b[1;33m==\u001b[0m \u001b[1;34m\"binary\"\u001b[0m \u001b[1;32mor\u001b[0m \u001b[1;33m(\u001b[0m\u001b[0my_type\u001b[0m \u001b[1;33m==\u001b[0m \u001b[1;34m\"multiclass\"\u001b[0m \u001b[1;32mand\u001b[0m \u001b[0mpos_label\u001b[0m \u001b[1;32mis\u001b[0m \u001b[1;32mnot\u001b[0m \u001b[1;32mNone\u001b[0m\u001b[1;33m)\u001b[0m\u001b[1;33m)\u001b[0m\u001b[1;33m:\u001b[0m\u001b[1;33m\u001b[0m\u001b[1;33m\u001b[0m\u001b[0m\n\u001b[1;32m--> 731\u001b[1;33m         \u001b[1;32mraise\u001b[0m \u001b[0mValueError\u001b[0m\u001b[1;33m(\u001b[0m\u001b[1;34m\"{0} format is not supported\"\u001b[0m\u001b[1;33m.\u001b[0m\u001b[0mformat\u001b[0m\u001b[1;33m(\u001b[0m\u001b[0my_type\u001b[0m\u001b[1;33m)\u001b[0m\u001b[1;33m)\u001b[0m\u001b[1;33m\u001b[0m\u001b[1;33m\u001b[0m\u001b[0m\n\u001b[0m\u001b[0;32m    732\u001b[0m \u001b[1;33m\u001b[0m\u001b[0m\n\u001b[0;32m    733\u001b[0m     \u001b[0mcheck_consistent_length\u001b[0m\u001b[1;33m(\u001b[0m\u001b[0my_true\u001b[0m\u001b[1;33m,\u001b[0m \u001b[0my_score\u001b[0m\u001b[1;33m,\u001b[0m \u001b[0msample_weight\u001b[0m\u001b[1;33m)\u001b[0m\u001b[1;33m\u001b[0m\u001b[1;33m\u001b[0m\u001b[0m\n",
            "\u001b[1;31mValueError\u001b[0m: multiclass format is not supported"
          ]
        }
      ],
      "source": [
        "def evaluate_model(y_pred, probs,train_predictions, train_probs):\n",
        "    baseline = {}\n",
        "    baseline['recall']=recall_score(Y_test,\n",
        "                    [1 for _ in range(len(Y_test))],average='weighted')\n",
        "    baseline['precision'] = precision_score(Y_test,\n",
        "                    [1 for _ in range(len(Y_test))],average='weighted')\n",
        "    baseline['roc'] = 0.5\n",
        "    results = {}\n",
        "    results['recall'] = recall_score(Y_test, y_pred_rf,average='weighted')\n",
        "    results['precision'] = precision_score(Y_test, y_pred_rf,average='weighted')\n",
        "    results['roc'] = roc_auc_score(Y_test, probs,average='weighted', multi_class='ovr')\n",
        "    train_results = {}\n",
        "    train_results['recall'] = recall_score(Y_train,train_predictions,average='weighted')\n",
        "    train_results['precision'] = precision_score(Y_train, train_predictions,average='weighted')\n",
        "    train_results['roc'] = roc_auc_score(Y_train, train_probs,average='weighted', multi_class='ovr')\n",
        "    for metric in ['recall', 'precision', 'roc']:  \n",
        "          print(f'{metric.capitalize()}Baseline: {round(baseline[metric], 2)}Test: {round(results[metric], 2)} Train: {round(train_results[metric], 2)}')\n",
        "     # Calculate false positive rates and true positive rates\n",
        "    base_fpr, base_tpr, _ = roc_curve(Y_test, [1 for _ in range(len(Y_test))])\n",
        "    model_fpr, model_tpr, _ = roc_curve(Y_test, probs)\n",
        "    plt.figure(figsize = (8, 6))\n",
        "    plt.rcParams['font.size'] = 16\n",
        "    # Plot both curves\n",
        "    plt.plot(base_fpr, base_tpr, 'b', label = 'baseline')\n",
        "    plt.plot(model_fpr, model_tpr, 'r', label = 'model')\n",
        "    plt.legend();\n",
        "    plt.xlabel('False Positive Rate');\n",
        "    plt.ylabel('True Positive Rate'); plt.title('ROC Curves');\n",
        "    plt.show();\n",
        "evaluate_model(y_pred,probs,train_predictions,train_probs)"
      ]
    },
    {
      "cell_type": "code",
      "execution_count": 374,
      "metadata": {},
      "outputs": [],
      "source": [
        "full_tree = DecisionTreeClassifier()\n",
        "\n",
        "# FITTING the training data\n",
        "full_tree_fit = full_tree.fit(X_train, Y_train)\n",
        "\n",
        "\n",
        "# PREDICTING on new data\n",
        "full_tree_pred = full_tree_fit.predict(X_test)"
      ]
    },
    {
      "cell_type": "code",
      "execution_count": 571,
      "metadata": {},
      "outputs": [
        {
          "name": "stdout",
          "output_type": "stream",
          "text": [
            "[1.39247188e-04 1.35780313e-04 4.23446519e-05 4.53221305e-05\n",
            " 1.62653416e-03 1.28232244e-04 1.41871082e-05 1.06861564e-04\n",
            " 1.70946264e-04 3.44298971e-05 5.26856350e-05 3.17773151e-04\n",
            " 3.20390786e-04 3.39675433e-04 2.18212834e-04 5.39987869e-03\n",
            " 5.92453836e-03 3.37865670e-04 2.94458038e-04 2.70038612e-04\n",
            " 2.50447416e-01 1.17850839e-01 1.22463101e-01 1.04884951e-02\n",
            " 8.04024163e-02 1.08993678e-01 3.50995107e-03 1.25137545e-01\n",
            " 1.11970721e-01 1.11934823e-02 4.16229520e-02]\n",
            " There are 31 features in total\n"
          ]
        }
      ],
      "source": [
        "print(rf_classifier.feature_importances_)\n",
        "print(f\" There are {len(rf_classifier.feature_importances_)} features in total\")"
      ]
    },
    {
      "cell_type": "code",
      "execution_count": null,
      "metadata": {},
      "outputs": [],
      "source": [
        "full_tree = DecisionTreeClassifier()\n",
        "\n",
        "# FITTING the training data\n",
        "full_tree_fit = full_tree.fit(X_train, Y_train)\n",
        "\n",
        "\n",
        "# PREDICTING on new data\n",
        "full_tree_pred = full_tree_fit.predict(X_test)"
      ]
    },
    {
      "cell_type": "code",
      "execution_count": 386,
      "metadata": {},
      "outputs": [
        {
          "name": "stdout",
          "output_type": "stream",
          "text": [
            "Full Tree Training ACCURACY: 1.0\n",
            "Full Tree Testing ACCURACY : 0.6729\n",
            "ROC AUC score : 0.7333842600478316\n"
          ]
        }
      ],
      "source": [
        "print('Full Tree Training ACCURACY:', full_tree_fit.score(X_train,\n",
        "                                                    Y_train).round(4))\n",
        "\n",
        "print('Full Tree Testing ACCURACY :', full_tree_fit.score(X_test,\n",
        "                                                    Y_test).round(4))\n",
        "print('ROC AUC score :',roc_auc_score(Y_test, y_score= full_tree_fit.predict_proba(X_test), multi_class='ovr'))\n"
      ]
    },
    {
      "cell_type": "code",
      "execution_count": 393,
      "metadata": {},
      "outputs": [
        {
          "name": "stdout",
          "output_type": "stream",
          "text": [
            "[[431   3   9   0  45   1   4]\n",
            " [  6  34   2   2  15   5  18]\n",
            " [  6   3  24   2  30   2   7]\n",
            " [  0   1   2   5   2  42  12]\n",
            " [ 54  20  37   1 239  15  26]\n",
            " [  1   5   6  54  15 257  59]\n",
            " [  8  19   5  11  20  74 345]]\n"
          ]
        }
      ],
      "source": [
        "full_tree_tp = confusion_matrix(y_true = Y_test, y_pred = full_tree_pred)\n",
        "print(full_tree_tp)"
      ]
    },
    {
      "cell_type": "code",
      "execution_count": 373,
      "metadata": {},
      "outputs": [
        {
          "data": {
            "text/plain": [
              "0.6848997997818169"
            ]
          },
          "execution_count": 373,
          "metadata": {},
          "output_type": "execute_result"
        }
      ],
      "source": [
        "from sklearn.metrics import cohen_kappa_score\n",
        "cohen_kappa_score(Y_test, y_pred_log_test)"
      ]
    },
    {
      "cell_type": "code",
      "execution_count": null,
      "metadata": {},
      "outputs": [],
      "source": []
    }
  ],
  "metadata": {
    "colab": {
      "collapsed_sections": [],
      "name": "Eli_Lilly.ipynb",
      "provenance": []
    },
    "kernelspec": {
      "display_name": "Python 3",
      "name": "python3"
    },
    "language_info": {
      "codemirror_mode": {
        "name": "ipython",
        "version": 3
      },
      "file_extension": ".py",
      "mimetype": "text/x-python",
      "name": "python",
      "nbconvert_exporter": "python",
      "pygments_lexer": "ipython3",
      "version": "3.9.7"
    }
  },
  "nbformat": 4,
  "nbformat_minor": 0
}
