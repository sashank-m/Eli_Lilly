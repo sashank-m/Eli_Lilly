{
  "cells": [
    {
      "cell_type": "code",
      "execution_count": 1,
      "metadata": {
        "id": "kAM7s8wwaw8V"
      },
      "outputs": [],
      "source": [
        "import pandas as pd\n",
        "import numpy as np\n",
        "import matplotlib.pyplot as plt\n",
        "from sklearn.metrics import accuracy_score, confusion_matrix, precision_score, recall_score, roc_auc_score, roc_curve, f1_score\n",
        "from pprint import pprint"
      ]
    },
    {
      "cell_type": "code",
      "execution_count": 2,
      "metadata": {
        "colab": {
          "base_uri": "https://localhost:8080/"
        },
        "id": "kECFuFOSa53z",
        "outputId": "203b928f-e82f-40e8-9ddc-0ee1854a835a"
      },
      "outputs": [],
      "source": [
        "# from google.colab import drive\n",
        "# drive.mount('/content/drive')\n",
        "# df = pd.read_csv(\"/content/drive/MyDrive/Eli Lilly/data/dataset/train.csv\")"
      ]
    },
    {
      "cell_type": "code",
      "execution_count": 3,
      "metadata": {
        "id": "N7R9uqD4cFVG"
      },
      "outputs": [],
      "source": [
        "df = pd.read_csv(\"D:/Sashank/Music Data/train.csv\")"
      ]
    },
    {
      "cell_type": "markdown",
      "metadata": {
        "id": "N73gBiY4wiWl"
      },
      "source": []
    },
    {
      "cell_type": "code",
      "execution_count": 4,
      "metadata": {
        "colab": {
          "base_uri": "https://localhost:8080/"
        },
        "id": "wVEbU0XXcL9S",
        "outputId": "16adf633-4f82-40ff-b71b-38955764be48"
      },
      "outputs": [
        {
          "name": "stdout",
          "output_type": "stream",
          "text": [
            "<class 'pandas.core.frame.DataFrame'>\n",
            "RangeIndex: 15681 entries, 0 to 15680\n",
            "Data columns (total 18 columns):\n",
            " #   Column             Non-Null Count  Dtype  \n",
            "---  ------             --------------  -----  \n",
            " 0   instance_id        15681 non-null  object \n",
            " 1   track_name         15681 non-null  object \n",
            " 2   popularity         15039 non-null  float64\n",
            " 3   acousticness       15681 non-null  float64\n",
            " 4   danceability       15125 non-null  float64\n",
            " 5   duration_ms        15587 non-null  float64\n",
            " 6   energy             15587 non-null  float64\n",
            " 7   instrumentalness   15586 non-null  float64\n",
            " 8   key                15681 non-null  object \n",
            " 9   liveness           15681 non-null  float64\n",
            " 10  loudness           15645 non-null  float64\n",
            " 11  voice_gender       14916 non-null  object \n",
            " 12  mode               15646 non-null  object \n",
            " 13  speechiness        15655 non-null  float64\n",
            " 14  tempo              15681 non-null  object \n",
            " 15  musician_category  14321 non-null  object \n",
            " 16  valence            15004 non-null  float64\n",
            " 17  music_genre        15681 non-null  object \n",
            "dtypes: float64(10), object(8)\n",
            "memory usage: 2.2+ MB\n"
          ]
        }
      ],
      "source": [
        "df.info(verbose=True)"
      ]
    },
    {
      "cell_type": "code",
      "execution_count": 5,
      "metadata": {
        "id": "04wLfQAolEH2"
      },
      "outputs": [],
      "source": [
        "#Dropping NaN Rows from data set \n",
        "df1 = df.copy(deep=True)"
      ]
    },
    {
      "cell_type": "code",
      "execution_count": 6,
      "metadata": {
        "colab": {
          "base_uri": "https://localhost:8080/"
        },
        "id": "VXlBfbfcQjss",
        "outputId": "751924dc-3d9d-4fc0-c2c6-f7e53f59c2e2"
      },
      "outputs": [
        {
          "data": {
            "text/plain": [
              "instance_id          False\n",
              "track_name           False\n",
              "popularity            True\n",
              "acousticness         False\n",
              "danceability          True\n",
              "duration_ms           True\n",
              "energy                True\n",
              "instrumentalness      True\n",
              "key                  False\n",
              "liveness             False\n",
              "loudness              True\n",
              "voice_gender          True\n",
              "mode                  True\n",
              "speechiness           True\n",
              "tempo                False\n",
              "musician_category     True\n",
              "valence               True\n",
              "music_genre          False\n",
              "dtype: bool"
            ]
          },
          "execution_count": 6,
          "metadata": {},
          "output_type": "execute_result"
        }
      ],
      "source": [
        "df.isna().any()"
      ]
    },
    {
      "cell_type": "code",
      "execution_count": 7,
      "metadata": {
        "id": "B7t9hqGglELY"
      },
      "outputs": [],
      "source": [
        "df1.dropna(axis=0,how=\"any\",inplace=True)\n"
      ]
    },
    {
      "cell_type": "code",
      "execution_count": 8,
      "metadata": {
        "colab": {
          "base_uri": "https://localhost:8080/"
        },
        "id": "QK7mP6jaTot2",
        "outputId": "d4ed3df6-24af-40f4-cc06-2dd7b13eca62"
      },
      "outputs": [
        {
          "data": {
            "text/plain": [
              "instance_id          False\n",
              "track_name           False\n",
              "popularity           False\n",
              "acousticness         False\n",
              "danceability         False\n",
              "duration_ms          False\n",
              "energy               False\n",
              "instrumentalness     False\n",
              "key                  False\n",
              "liveness             False\n",
              "loudness             False\n",
              "voice_gender         False\n",
              "mode                 False\n",
              "speechiness          False\n",
              "tempo                False\n",
              "musician_category    False\n",
              "valence              False\n",
              "music_genre          False\n",
              "dtype: bool"
            ]
          },
          "execution_count": 8,
          "metadata": {},
          "output_type": "execute_result"
        }
      ],
      "source": [
        "df1.isna().any()"
      ]
    },
    {
      "cell_type": "code",
      "execution_count": 9,
      "metadata": {
        "colab": {
          "base_uri": "https://localhost:8080/"
        },
        "id": "_hVdCeU8lEN8",
        "outputId": "c23de7be-91f4-4aed-973c-1b786a3776b5"
      },
      "outputs": [
        {
          "name": "stdout",
          "output_type": "stream",
          "text": [
            "(15681, 18) (11756, 18)\n"
          ]
        }
      ],
      "source": [
        "print(df.shape,df1.shape)"
      ]
    },
    {
      "cell_type": "code",
      "execution_count": 10,
      "metadata": {
        "id": "GotM-5thph6x"
      },
      "outputs": [],
      "source": [
        "df1.replace(\"?\",np.nan, inplace=True)"
      ]
    },
    {
      "cell_type": "code",
      "execution_count": 11,
      "metadata": {
        "colab": {
          "base_uri": "https://localhost:8080/"
        },
        "id": "ktOy5oZXph9e",
        "outputId": "a561df22-4359-405b-b988-1f17b07d98dc"
      },
      "outputs": [
        {
          "name": "stdout",
          "output_type": "stream",
          "text": [
            "<class 'pandas.core.frame.DataFrame'>\n",
            "Int64Index: 11756 entries, 1 to 15680\n",
            "Data columns (total 18 columns):\n",
            " #   Column             Non-Null Count  Dtype  \n",
            "---  ------             --------------  -----  \n",
            " 0   instance_id        11756 non-null  object \n",
            " 1   track_name         11756 non-null  object \n",
            " 2   popularity         11756 non-null  float64\n",
            " 3   acousticness       11756 non-null  float64\n",
            " 4   danceability       11756 non-null  float64\n",
            " 5   duration_ms        11756 non-null  float64\n",
            " 6   energy             11756 non-null  float64\n",
            " 7   instrumentalness   11756 non-null  float64\n",
            " 8   key                11756 non-null  object \n",
            " 9   liveness           11756 non-null  float64\n",
            " 10  loudness           11756 non-null  float64\n",
            " 11  voice_gender       11756 non-null  object \n",
            " 12  mode               10938 non-null  object \n",
            " 13  speechiness        11756 non-null  float64\n",
            " 14  tempo              10653 non-null  object \n",
            " 15  musician_category  11756 non-null  object \n",
            " 16  valence            11756 non-null  float64\n",
            " 17  music_genre        11756 non-null  object \n",
            "dtypes: float64(10), object(8)\n",
            "memory usage: 1.7+ MB\n"
          ]
        }
      ],
      "source": [
        "df1.info()"
      ]
    },
    {
      "cell_type": "code",
      "execution_count": 12,
      "metadata": {
        "id": "TN6ANiQXbnWA"
      },
      "outputs": [],
      "source": [
        "df1.dropna(axis=0,how=\"any\",inplace=True)\n"
      ]
    },
    {
      "cell_type": "code",
      "execution_count": 13,
      "metadata": {
        "colab": {
          "base_uri": "https://localhost:8080/"
        },
        "id": "bo9qzSqSbnYq",
        "outputId": "8e30cd4e-548d-4970-e115-f75c42f34b2e"
      },
      "outputs": [
        {
          "name": "stdout",
          "output_type": "stream",
          "text": [
            "<class 'pandas.core.frame.DataFrame'>\n",
            "Int64Index: 9919 entries, 2 to 15680\n",
            "Data columns (total 18 columns):\n",
            " #   Column             Non-Null Count  Dtype  \n",
            "---  ------             --------------  -----  \n",
            " 0   instance_id        9919 non-null   object \n",
            " 1   track_name         9919 non-null   object \n",
            " 2   popularity         9919 non-null   float64\n",
            " 3   acousticness       9919 non-null   float64\n",
            " 4   danceability       9919 non-null   float64\n",
            " 5   duration_ms        9919 non-null   float64\n",
            " 6   energy             9919 non-null   float64\n",
            " 7   instrumentalness   9919 non-null   float64\n",
            " 8   key                9919 non-null   object \n",
            " 9   liveness           9919 non-null   float64\n",
            " 10  loudness           9919 non-null   float64\n",
            " 11  voice_gender       9919 non-null   object \n",
            " 12  mode               9919 non-null   object \n",
            " 13  speechiness        9919 non-null   float64\n",
            " 14  tempo              9919 non-null   object \n",
            " 15  musician_category  9919 non-null   object \n",
            " 16  valence            9919 non-null   float64\n",
            " 17  music_genre        9919 non-null   object \n",
            "dtypes: float64(10), object(8)\n",
            "memory usage: 1.4+ MB\n"
          ]
        }
      ],
      "source": [
        "df1.info()"
      ]
    },
    {
      "cell_type": "code",
      "execution_count": 14,
      "metadata": {
        "id": "cdTen1VjOOzu"
      },
      "outputs": [],
      "source": [
        "s = df1[\"tempo\"] \n",
        "s = pd.to_numeric(s)"
      ]
    },
    {
      "cell_type": "code",
      "execution_count": 15,
      "metadata": {
        "id": "5v88XekJPvGq"
      },
      "outputs": [],
      "source": [
        "df1[\"tempo\"] = s"
      ]
    },
    {
      "cell_type": "code",
      "execution_count": 16,
      "metadata": {
        "id": "6zifoJsm35kC"
      },
      "outputs": [],
      "source": [
        "df1 = df1.drop(columns=['instance_id','track_name'])"
      ]
    },
    {
      "cell_type": "code",
      "execution_count": 17,
      "metadata": {
        "id": "5YVZYGySmlvo"
      },
      "outputs": [],
      "source": [
        "from sklearn.compose import make_column_selector as selector\n",
        "numerical_columns_selector = selector(dtype_exclude=object)\n",
        "categorical_columns_selector = selector(dtype_include=object)"
      ]
    },
    {
      "cell_type": "code",
      "execution_count": 18,
      "metadata": {
        "id": "YZ8fyKgjmutq"
      },
      "outputs": [],
      "source": [
        "X = df1.iloc[ : , :-1]\n",
        "X.shape\n",
        "Y = df1[\"music_genre\"]"
      ]
    },
    {
      "cell_type": "code",
      "execution_count": 19,
      "metadata": {},
      "outputs": [],
      "source": [
        "from sklearn.preprocessing import LabelEncoder\n",
        "lb = LabelEncoder()\n",
        "target= lb.fit_transform(Y)\n",
        "Y = pd.DataFrame(target)"
      ]
    },
    {
      "cell_type": "code",
      "execution_count": 20,
      "metadata": {},
      "outputs": [],
      "source": [
        "y = Y.squeeze()"
      ]
    },
    {
      "cell_type": "code",
      "execution_count": 21,
      "metadata": {
        "id": "yzBNDOXspUOP"
      },
      "outputs": [],
      "source": [
        "numerical_columns = numerical_columns_selector(X)\n",
        "categorical_columns = categorical_columns_selector(X)"
      ]
    },
    {
      "cell_type": "code",
      "execution_count": 22,
      "metadata": {},
      "outputs": [
        {
          "data": {
            "text/plain": [
              "['key', 'voice_gender', 'mode', 'musician_category']"
            ]
          },
          "execution_count": 22,
          "metadata": {},
          "output_type": "execute_result"
        }
      ],
      "source": [
        "categorical_columns = list(categorical_columns)\n",
        "categorical_columns"
      ]
    },
    {
      "cell_type": "code",
      "execution_count": 23,
      "metadata": {},
      "outputs": [
        {
          "data": {
            "text/html": [
              "<div>\n",
              "<style scoped>\n",
              "    .dataframe tbody tr th:only-of-type {\n",
              "        vertical-align: middle;\n",
              "    }\n",
              "\n",
              "    .dataframe tbody tr th {\n",
              "        vertical-align: top;\n",
              "    }\n",
              "\n",
              "    .dataframe thead th {\n",
              "        text-align: right;\n",
              "    }\n",
              "</style>\n",
              "<table border=\"1\" class=\"dataframe\">\n",
              "  <thead>\n",
              "    <tr style=\"text-align: right;\">\n",
              "      <th></th>\n",
              "      <th>0</th>\n",
              "      <th>1</th>\n",
              "      <th>2</th>\n",
              "      <th>3</th>\n",
              "      <th>4</th>\n",
              "      <th>5</th>\n",
              "      <th>6</th>\n",
              "      <th>7</th>\n",
              "      <th>8</th>\n",
              "      <th>9</th>\n",
              "      <th>...</th>\n",
              "      <th>21</th>\n",
              "      <th>22</th>\n",
              "      <th>23</th>\n",
              "      <th>24</th>\n",
              "      <th>25</th>\n",
              "      <th>26</th>\n",
              "      <th>27</th>\n",
              "      <th>28</th>\n",
              "      <th>29</th>\n",
              "      <th>30</th>\n",
              "    </tr>\n",
              "  </thead>\n",
              "  <tbody>\n",
              "    <tr>\n",
              "      <th>0</th>\n",
              "      <td>0.0</td>\n",
              "      <td>0.0</td>\n",
              "      <td>0.0</td>\n",
              "      <td>0.0</td>\n",
              "      <td>0.0</td>\n",
              "      <td>1.0</td>\n",
              "      <td>0.0</td>\n",
              "      <td>0.0</td>\n",
              "      <td>0.0</td>\n",
              "      <td>0.0</td>\n",
              "      <td>...</td>\n",
              "      <td>0.018311</td>\n",
              "      <td>0.902400</td>\n",
              "      <td>0.080142</td>\n",
              "      <td>0.887279</td>\n",
              "      <td>0.000000</td>\n",
              "      <td>0.022379</td>\n",
              "      <td>0.882529</td>\n",
              "      <td>0.098362</td>\n",
              "      <td>0.382038</td>\n",
              "      <td>0.590104</td>\n",
              "    </tr>\n",
              "    <tr>\n",
              "      <th>1</th>\n",
              "      <td>0.0</td>\n",
              "      <td>0.0</td>\n",
              "      <td>0.0</td>\n",
              "      <td>0.0</td>\n",
              "      <td>0.0</td>\n",
              "      <td>0.0</td>\n",
              "      <td>0.0</td>\n",
              "      <td>0.0</td>\n",
              "      <td>0.0</td>\n",
              "      <td>1.0</td>\n",
              "      <td>...</td>\n",
              "      <td>0.784686</td>\n",
              "      <td>0.215721</td>\n",
              "      <td>0.120262</td>\n",
              "      <td>0.532503</td>\n",
              "      <td>0.002553</td>\n",
              "      <td>0.109658</td>\n",
              "      <td>0.450206</td>\n",
              "      <td>0.015648</td>\n",
              "      <td>0.420772</td>\n",
              "      <td>0.069094</td>\n",
              "    </tr>\n",
              "    <tr>\n",
              "      <th>2</th>\n",
              "      <td>0.0</td>\n",
              "      <td>0.0</td>\n",
              "      <td>0.0</td>\n",
              "      <td>0.0</td>\n",
              "      <td>1.0</td>\n",
              "      <td>0.0</td>\n",
              "      <td>0.0</td>\n",
              "      <td>0.0</td>\n",
              "      <td>0.0</td>\n",
              "      <td>0.0</td>\n",
              "      <td>...</td>\n",
              "      <td>0.000417</td>\n",
              "      <td>0.903174</td>\n",
              "      <td>0.059567</td>\n",
              "      <td>0.000000</td>\n",
              "      <td>0.000356</td>\n",
              "      <td>0.057374</td>\n",
              "      <td>0.837753</td>\n",
              "      <td>0.028831</td>\n",
              "      <td>0.381709</td>\n",
              "      <td>0.449637</td>\n",
              "    </tr>\n",
              "    <tr>\n",
              "      <th>3</th>\n",
              "      <td>1.0</td>\n",
              "      <td>0.0</td>\n",
              "      <td>0.0</td>\n",
              "      <td>0.0</td>\n",
              "      <td>0.0</td>\n",
              "      <td>0.0</td>\n",
              "      <td>0.0</td>\n",
              "      <td>0.0</td>\n",
              "      <td>0.0</td>\n",
              "      <td>0.0</td>\n",
              "      <td>...</td>\n",
              "      <td>0.082993</td>\n",
              "      <td>0.315132</td>\n",
              "      <td>0.080780</td>\n",
              "      <td>0.818889</td>\n",
              "      <td>0.000000</td>\n",
              "      <td>0.067399</td>\n",
              "      <td>0.863266</td>\n",
              "      <td>0.047696</td>\n",
              "      <td>0.769256</td>\n",
              "      <td>0.515491</td>\n",
              "    </tr>\n",
              "    <tr>\n",
              "      <th>4</th>\n",
              "      <td>0.0</td>\n",
              "      <td>1.0</td>\n",
              "      <td>0.0</td>\n",
              "      <td>0.0</td>\n",
              "      <td>0.0</td>\n",
              "      <td>0.0</td>\n",
              "      <td>0.0</td>\n",
              "      <td>0.0</td>\n",
              "      <td>0.0</td>\n",
              "      <td>0.0</td>\n",
              "      <td>...</td>\n",
              "      <td>0.927117</td>\n",
              "      <td>0.606771</td>\n",
              "      <td>0.060785</td>\n",
              "      <td>0.500645</td>\n",
              "      <td>0.135681</td>\n",
              "      <td>0.087138</td>\n",
              "      <td>0.444469</td>\n",
              "      <td>0.043086</td>\n",
              "      <td>0.447650</td>\n",
              "      <td>0.548416</td>\n",
              "    </tr>\n",
              "    <tr>\n",
              "      <th>...</th>\n",
              "      <td>...</td>\n",
              "      <td>...</td>\n",
              "      <td>...</td>\n",
              "      <td>...</td>\n",
              "      <td>...</td>\n",
              "      <td>...</td>\n",
              "      <td>...</td>\n",
              "      <td>...</td>\n",
              "      <td>...</td>\n",
              "      <td>...</td>\n",
              "      <td>...</td>\n",
              "      <td>...</td>\n",
              "      <td>...</td>\n",
              "      <td>...</td>\n",
              "      <td>...</td>\n",
              "      <td>...</td>\n",
              "      <td>...</td>\n",
              "      <td>...</td>\n",
              "      <td>...</td>\n",
              "      <td>...</td>\n",
              "      <td>...</td>\n",
              "    </tr>\n",
              "    <tr>\n",
              "      <th>9914</th>\n",
              "      <td>0.0</td>\n",
              "      <td>0.0</td>\n",
              "      <td>0.0</td>\n",
              "      <td>0.0</td>\n",
              "      <td>0.0</td>\n",
              "      <td>0.0</td>\n",
              "      <td>0.0</td>\n",
              "      <td>0.0</td>\n",
              "      <td>0.0</td>\n",
              "      <td>0.0</td>\n",
              "      <td>...</td>\n",
              "      <td>0.963249</td>\n",
              "      <td>0.071337</td>\n",
              "      <td>0.055240</td>\n",
              "      <td>0.497832</td>\n",
              "      <td>0.949496</td>\n",
              "      <td>0.110721</td>\n",
              "      <td>0.404582</td>\n",
              "      <td>0.034693</td>\n",
              "      <td>0.209851</td>\n",
              "      <td>0.037778</td>\n",
              "    </tr>\n",
              "    <tr>\n",
              "      <th>9915</th>\n",
              "      <td>0.0</td>\n",
              "      <td>0.0</td>\n",
              "      <td>1.0</td>\n",
              "      <td>0.0</td>\n",
              "      <td>0.0</td>\n",
              "      <td>0.0</td>\n",
              "      <td>0.0</td>\n",
              "      <td>0.0</td>\n",
              "      <td>0.0</td>\n",
              "      <td>0.0</td>\n",
              "      <td>...</td>\n",
              "      <td>0.792196</td>\n",
              "      <td>0.322454</td>\n",
              "      <td>0.000000</td>\n",
              "      <td>0.571707</td>\n",
              "      <td>0.026631</td>\n",
              "      <td>0.216570</td>\n",
              "      <td>0.659023</td>\n",
              "      <td>0.021906</td>\n",
              "      <td>0.482036</td>\n",
              "      <td>0.579883</td>\n",
              "    </tr>\n",
              "    <tr>\n",
              "      <th>9916</th>\n",
              "      <td>0.0</td>\n",
              "      <td>0.0</td>\n",
              "      <td>0.0</td>\n",
              "      <td>0.0</td>\n",
              "      <td>0.0</td>\n",
              "      <td>0.0</td>\n",
              "      <td>0.0</td>\n",
              "      <td>0.0</td>\n",
              "      <td>1.0</td>\n",
              "      <td>0.0</td>\n",
              "      <td>...</td>\n",
              "      <td>0.807131</td>\n",
              "      <td>0.394829</td>\n",
              "      <td>0.110876</td>\n",
              "      <td>0.644538</td>\n",
              "      <td>0.000481</td>\n",
              "      <td>0.624106</td>\n",
              "      <td>0.486386</td>\n",
              "      <td>0.434696</td>\n",
              "      <td>0.514088</td>\n",
              "      <td>0.565495</td>\n",
              "    </tr>\n",
              "    <tr>\n",
              "      <th>9917</th>\n",
              "      <td>0.0</td>\n",
              "      <td>0.0</td>\n",
              "      <td>0.0</td>\n",
              "      <td>0.0</td>\n",
              "      <td>0.0</td>\n",
              "      <td>0.0</td>\n",
              "      <td>0.0</td>\n",
              "      <td>0.0</td>\n",
              "      <td>1.0</td>\n",
              "      <td>0.0</td>\n",
              "      <td>...</td>\n",
              "      <td>0.103623</td>\n",
              "      <td>0.579299</td>\n",
              "      <td>0.044343</td>\n",
              "      <td>0.913452</td>\n",
              "      <td>0.000082</td>\n",
              "      <td>0.139350</td>\n",
              "      <td>0.837931</td>\n",
              "      <td>0.037324</td>\n",
              "      <td>0.441822</td>\n",
              "      <td>0.373919</td>\n",
              "    </tr>\n",
              "    <tr>\n",
              "      <th>9918</th>\n",
              "      <td>0.0</td>\n",
              "      <td>0.0</td>\n",
              "      <td>0.0</td>\n",
              "      <td>0.0</td>\n",
              "      <td>0.0</td>\n",
              "      <td>0.0</td>\n",
              "      <td>0.0</td>\n",
              "      <td>0.0</td>\n",
              "      <td>1.0</td>\n",
              "      <td>0.0</td>\n",
              "      <td>...</td>\n",
              "      <td>0.774057</td>\n",
              "      <td>0.437034</td>\n",
              "      <td>0.055928</td>\n",
              "      <td>0.702241</td>\n",
              "      <td>0.466232</td>\n",
              "      <td>0.117498</td>\n",
              "      <td>0.763284</td>\n",
              "      <td>0.006193</td>\n",
              "      <td>0.323558</td>\n",
              "      <td>0.333136</td>\n",
              "    </tr>\n",
              "  </tbody>\n",
              "</table>\n",
              "<p>9919 rows × 31 columns</p>\n",
              "</div>"
            ],
            "text/plain": [
              "       0    1    2    3    4    5    6    7    8    9   ...        21  \\\n",
              "0     0.0  0.0  0.0  0.0  0.0  1.0  0.0  0.0  0.0  0.0  ...  0.018311   \n",
              "1     0.0  0.0  0.0  0.0  0.0  0.0  0.0  0.0  0.0  1.0  ...  0.784686   \n",
              "2     0.0  0.0  0.0  0.0  1.0  0.0  0.0  0.0  0.0  0.0  ...  0.000417   \n",
              "3     1.0  0.0  0.0  0.0  0.0  0.0  0.0  0.0  0.0  0.0  ...  0.082993   \n",
              "4     0.0  1.0  0.0  0.0  0.0  0.0  0.0  0.0  0.0  0.0  ...  0.927117   \n",
              "...   ...  ...  ...  ...  ...  ...  ...  ...  ...  ...  ...       ...   \n",
              "9914  0.0  0.0  0.0  0.0  0.0  0.0  0.0  0.0  0.0  0.0  ...  0.963249   \n",
              "9915  0.0  0.0  1.0  0.0  0.0  0.0  0.0  0.0  0.0  0.0  ...  0.792196   \n",
              "9916  0.0  0.0  0.0  0.0  0.0  0.0  0.0  0.0  1.0  0.0  ...  0.807131   \n",
              "9917  0.0  0.0  0.0  0.0  0.0  0.0  0.0  0.0  1.0  0.0  ...  0.103623   \n",
              "9918  0.0  0.0  0.0  0.0  0.0  0.0  0.0  0.0  1.0  0.0  ...  0.774057   \n",
              "\n",
              "            22        23        24        25        26        27        28  \\\n",
              "0     0.902400  0.080142  0.887279  0.000000  0.022379  0.882529  0.098362   \n",
              "1     0.215721  0.120262  0.532503  0.002553  0.109658  0.450206  0.015648   \n",
              "2     0.903174  0.059567  0.000000  0.000356  0.057374  0.837753  0.028831   \n",
              "3     0.315132  0.080780  0.818889  0.000000  0.067399  0.863266  0.047696   \n",
              "4     0.606771  0.060785  0.500645  0.135681  0.087138  0.444469  0.043086   \n",
              "...        ...       ...       ...       ...       ...       ...       ...   \n",
              "9914  0.071337  0.055240  0.497832  0.949496  0.110721  0.404582  0.034693   \n",
              "9915  0.322454  0.000000  0.571707  0.026631  0.216570  0.659023  0.021906   \n",
              "9916  0.394829  0.110876  0.644538  0.000481  0.624106  0.486386  0.434696   \n",
              "9917  0.579299  0.044343  0.913452  0.000082  0.139350  0.837931  0.037324   \n",
              "9918  0.437034  0.055928  0.702241  0.466232  0.117498  0.763284  0.006193   \n",
              "\n",
              "            29        30  \n",
              "0     0.382038  0.590104  \n",
              "1     0.420772  0.069094  \n",
              "2     0.381709  0.449637  \n",
              "3     0.769256  0.515491  \n",
              "4     0.447650  0.548416  \n",
              "...        ...       ...  \n",
              "9914  0.209851  0.037778  \n",
              "9915  0.482036  0.579883  \n",
              "9916  0.514088  0.565495  \n",
              "9917  0.441822  0.373919  \n",
              "9918  0.323558  0.333136  \n",
              "\n",
              "[9919 rows x 31 columns]"
            ]
          },
          "execution_count": 23,
          "metadata": {},
          "output_type": "execute_result"
        }
      ],
      "source": [
        "from sklearn.compose import ColumnTransformer\n",
        "from sklearn.preprocessing import OneHotEncoder, MinMaxScaler\n",
        "\n",
        "preprocessing = ColumnTransformer(\n",
        "    transformers=[\n",
        "        (\"cat\", OneHotEncoder(), categorical_columns),\n",
        "        (\"Scale\", MinMaxScaler(), numerical_columns)]\n",
        ")\n",
        "x = preprocessing.fit_transform(X)\n",
        "x = pd.DataFrame(x)\n",
        "x"
      ]
    },
    {
      "cell_type": "code",
      "execution_count": 24,
      "metadata": {},
      "outputs": [
        {
          "data": {
            "text/plain": [
              "['key', 'voice_gender', 'mode', 'musician_category']"
            ]
          },
          "execution_count": 24,
          "metadata": {},
          "output_type": "execute_result"
        }
      ],
      "source": [
        "categorical_columns"
      ]
    },
    {
      "cell_type": "code",
      "execution_count": 25,
      "metadata": {},
      "outputs": [],
      "source": [
        "from sklearn.compose import make_column_transformer, make_column_selector\n",
        "\n",
        "ohn = OneHotEncoder()\n",
        "scale = MinMaxScaler()\n",
        "\n",
        "ohn_ct = make_column_transformer(\n",
        "    (ohn, categorical_columns),\n",
        "    remainder = 'passthrough' \n",
        ")\n",
        "\n",
        "df_ohn = ohn_ct.fit_transform(X)\n",
        "df_ohn = pd.DataFrame(df_ohn)\n"
      ]
    },
    {
      "cell_type": "code",
      "execution_count": 26,
      "metadata": {},
      "outputs": [],
      "source": [
        "test = list(ohn_ct.get_feature_names_out())[:-11]"
      ]
    },
    {
      "cell_type": "code",
      "execution_count": 27,
      "metadata": {},
      "outputs": [],
      "source": [
        "test1 = list(ohn_ct.get_feature_names_out())[-11:]\n"
      ]
    },
    {
      "cell_type": "code",
      "execution_count": 28,
      "metadata": {},
      "outputs": [
        {
          "name": "stdout",
          "output_type": "stream",
          "text": [
            "[' key_Scale A',\n",
            " ' key_Scale A Sharp',\n",
            " ' key_Scale B',\n",
            " ' key_Scale C',\n",
            " ' key_Scale C Sharp',\n",
            " ' key_Scale D',\n",
            " ' key_Scale D Sharp',\n",
            " ' key_Scale E',\n",
            " ' key_Scale F',\n",
            " ' key_Scale F Sharp',\n",
            " ' key_Scale G',\n",
            " ' key_Scale G Sharp',\n",
            " ' voice_gender_Both',\n",
            " ' voice_gender_Female',\n",
            " ' voice_gender_Male',\n",
            " ' mode_Major',\n",
            " ' mode_Minor',\n",
            " ' musician_category_Band',\n",
            " ' musician_category_Duet',\n",
            " ' musician_category_Solo']\n"
          ]
        }
      ],
      "source": [
        "new_list = [s.replace(\"onehotencoder__\", \" \") for s in list(ohn_ct.get_feature_names_out())[:-11]]\n",
        "pprint(new_list)\n"
      ]
    },
    {
      "cell_type": "code",
      "execution_count": 29,
      "metadata": {},
      "outputs": [
        {
          "name": "stdout",
          "output_type": "stream",
          "text": [
            "[' popularity',\n",
            " ' acousticness',\n",
            " ' danceability',\n",
            " ' duration_ms',\n",
            " ' energy',\n",
            " ' instrumentalness',\n",
            " ' liveness',\n",
            " ' loudness',\n",
            " ' speechiness',\n",
            " ' tempo',\n",
            " ' valence']\n"
          ]
        }
      ],
      "source": [
        "new_list1 = [s.replace(\"remainder__\", \" \") for s in list(ohn_ct.get_feature_names_out())[-11:]]\n",
        "pprint(new_list1)"
      ]
    },
    {
      "cell_type": "code",
      "execution_count": 30,
      "metadata": {},
      "outputs": [
        {
          "data": {
            "text/plain": [
              "31"
            ]
          },
          "execution_count": 30,
          "metadata": {},
          "output_type": "execute_result"
        }
      ],
      "source": [
        "cols  = new_list +new_list1\n",
        "len(cols)"
      ]
    },
    {
      "cell_type": "code",
      "execution_count": 31,
      "metadata": {},
      "outputs": [],
      "source": [
        "df_ohn.columns = cols"
      ]
    },
    {
      "cell_type": "code",
      "execution_count": 32,
      "metadata": {},
      "outputs": [
        {
          "data": {
            "text/html": [
              "<div>\n",
              "<style scoped>\n",
              "    .dataframe tbody tr th:only-of-type {\n",
              "        vertical-align: middle;\n",
              "    }\n",
              "\n",
              "    .dataframe tbody tr th {\n",
              "        vertical-align: top;\n",
              "    }\n",
              "\n",
              "    .dataframe thead th {\n",
              "        text-align: right;\n",
              "    }\n",
              "</style>\n",
              "<table border=\"1\" class=\"dataframe\">\n",
              "  <thead>\n",
              "    <tr style=\"text-align: right;\">\n",
              "      <th></th>\n",
              "      <th>key_Scale A</th>\n",
              "      <th>key_Scale A Sharp</th>\n",
              "      <th>key_Scale B</th>\n",
              "      <th>key_Scale C</th>\n",
              "      <th>key_Scale C Sharp</th>\n",
              "      <th>key_Scale D</th>\n",
              "      <th>key_Scale D Sharp</th>\n",
              "      <th>key_Scale E</th>\n",
              "      <th>key_Scale F</th>\n",
              "      <th>key_Scale F Sharp</th>\n",
              "      <th>...</th>\n",
              "      <th>acousticness</th>\n",
              "      <th>danceability</th>\n",
              "      <th>duration_ms</th>\n",
              "      <th>energy</th>\n",
              "      <th>instrumentalness</th>\n",
              "      <th>liveness</th>\n",
              "      <th>loudness</th>\n",
              "      <th>speechiness</th>\n",
              "      <th>tempo</th>\n",
              "      <th>valence</th>\n",
              "    </tr>\n",
              "  </thead>\n",
              "  <tbody>\n",
              "    <tr>\n",
              "      <th>0</th>\n",
              "      <td>0.0</td>\n",
              "      <td>0.0</td>\n",
              "      <td>0.0</td>\n",
              "      <td>0.0</td>\n",
              "      <td>0.0</td>\n",
              "      <td>1.0</td>\n",
              "      <td>0.0</td>\n",
              "      <td>0.0</td>\n",
              "      <td>0.0</td>\n",
              "      <td>0.0</td>\n",
              "      <td>...</td>\n",
              "      <td>0.020041</td>\n",
              "      <td>0.967948</td>\n",
              "      <td>273314.723</td>\n",
              "      <td>0.857411</td>\n",
              "      <td>0.000000</td>\n",
              "      <td>0.042030</td>\n",
              "      <td>-4.995</td>\n",
              "      <td>0.119917</td>\n",
              "      <td>105.018</td>\n",
              "      <td>0.635525</td>\n",
              "    </tr>\n",
              "    <tr>\n",
              "      <th>1</th>\n",
              "      <td>0.0</td>\n",
              "      <td>0.0</td>\n",
              "      <td>0.0</td>\n",
              "      <td>0.0</td>\n",
              "      <td>0.0</td>\n",
              "      <td>0.0</td>\n",
              "      <td>0.0</td>\n",
              "      <td>0.0</td>\n",
              "      <td>0.0</td>\n",
              "      <td>1.0</td>\n",
              "      <td>...</td>\n",
              "      <td>0.858769</td>\n",
              "      <td>0.280645</td>\n",
              "      <td>410136.987</td>\n",
              "      <td>0.114732</td>\n",
              "      <td>0.002753</td>\n",
              "      <td>0.134782</td>\n",
              "      <td>-26.922</td>\n",
              "      <td>0.039139</td>\n",
              "      <td>112.183</td>\n",
              "      <td>0.074412</td>\n",
              "    </tr>\n",
              "    <tr>\n",
              "      <th>2</th>\n",
              "      <td>0.0</td>\n",
              "      <td>0.0</td>\n",
              "      <td>0.0</td>\n",
              "      <td>0.0</td>\n",
              "      <td>1.0</td>\n",
              "      <td>0.0</td>\n",
              "      <td>0.0</td>\n",
              "      <td>0.0</td>\n",
              "      <td>0.0</td>\n",
              "      <td>0.0</td>\n",
              "      <td>...</td>\n",
              "      <td>0.000459</td>\n",
              "      <td>0.968723</td>\n",
              "      <td>203145.857</td>\n",
              "      <td>-1.000000</td>\n",
              "      <td>0.000384</td>\n",
              "      <td>0.079220</td>\n",
              "      <td>-7.266</td>\n",
              "      <td>0.052014</td>\n",
              "      <td>104.957</td>\n",
              "      <td>0.484246</td>\n",
              "    </tr>\n",
              "    <tr>\n",
              "      <th>3</th>\n",
              "      <td>1.0</td>\n",
              "      <td>0.0</td>\n",
              "      <td>0.0</td>\n",
              "      <td>0.0</td>\n",
              "      <td>0.0</td>\n",
              "      <td>0.0</td>\n",
              "      <td>0.0</td>\n",
              "      <td>0.0</td>\n",
              "      <td>0.0</td>\n",
              "      <td>0.0</td>\n",
              "      <td>...</td>\n",
              "      <td>0.090830</td>\n",
              "      <td>0.380147</td>\n",
              "      <td>275490.630</td>\n",
              "      <td>0.714246</td>\n",
              "      <td>0.000000</td>\n",
              "      <td>0.089873</td>\n",
              "      <td>-5.972</td>\n",
              "      <td>0.070437</td>\n",
              "      <td>176.647</td>\n",
              "      <td>0.555169</td>\n",
              "    </tr>\n",
              "    <tr>\n",
              "      <th>4</th>\n",
              "      <td>0.0</td>\n",
              "      <td>1.0</td>\n",
              "      <td>0.0</td>\n",
              "      <td>0.0</td>\n",
              "      <td>0.0</td>\n",
              "      <td>0.0</td>\n",
              "      <td>0.0</td>\n",
              "      <td>0.0</td>\n",
              "      <td>0.0</td>\n",
              "      <td>0.0</td>\n",
              "      <td>...</td>\n",
              "      <td>1.014646</td>\n",
              "      <td>0.672051</td>\n",
              "      <td>207299.190</td>\n",
              "      <td>0.048039</td>\n",
              "      <td>0.146346</td>\n",
              "      <td>0.110850</td>\n",
              "      <td>-27.213</td>\n",
              "      <td>0.065935</td>\n",
              "      <td>117.155</td>\n",
              "      <td>0.590628</td>\n",
              "    </tr>\n",
              "    <tr>\n",
              "      <th>...</th>\n",
              "      <td>...</td>\n",
              "      <td>...</td>\n",
              "      <td>...</td>\n",
              "      <td>...</td>\n",
              "      <td>...</td>\n",
              "      <td>...</td>\n",
              "      <td>...</td>\n",
              "      <td>...</td>\n",
              "      <td>...</td>\n",
              "      <td>...</td>\n",
              "      <td>...</td>\n",
              "      <td>...</td>\n",
              "      <td>...</td>\n",
              "      <td>...</td>\n",
              "      <td>...</td>\n",
              "      <td>...</td>\n",
              "      <td>...</td>\n",
              "      <td>...</td>\n",
              "      <td>...</td>\n",
              "      <td>...</td>\n",
              "      <td>...</td>\n",
              "    </tr>\n",
              "    <tr>\n",
              "      <th>9914</th>\n",
              "      <td>0.0</td>\n",
              "      <td>0.0</td>\n",
              "      <td>0.0</td>\n",
              "      <td>0.0</td>\n",
              "      <td>0.0</td>\n",
              "      <td>0.0</td>\n",
              "      <td>0.0</td>\n",
              "      <td>0.0</td>\n",
              "      <td>0.0</td>\n",
              "      <td>0.0</td>\n",
              "      <td>...</td>\n",
              "      <td>1.054190</td>\n",
              "      <td>0.136130</td>\n",
              "      <td>188388.500</td>\n",
              "      <td>0.042151</td>\n",
              "      <td>1.024128</td>\n",
              "      <td>0.135912</td>\n",
              "      <td>-29.236</td>\n",
              "      <td>0.057739</td>\n",
              "      <td>73.166</td>\n",
              "      <td>0.040686</td>\n",
              "    </tr>\n",
              "    <tr>\n",
              "      <th>9915</th>\n",
              "      <td>0.0</td>\n",
              "      <td>0.0</td>\n",
              "      <td>1.0</td>\n",
              "      <td>0.0</td>\n",
              "      <td>0.0</td>\n",
              "      <td>0.0</td>\n",
              "      <td>0.0</td>\n",
              "      <td>0.0</td>\n",
              "      <td>0.0</td>\n",
              "      <td>0.0</td>\n",
              "      <td>...</td>\n",
              "      <td>0.866988</td>\n",
              "      <td>0.387476</td>\n",
              "      <td>-1.000</td>\n",
              "      <td>0.196799</td>\n",
              "      <td>0.028725</td>\n",
              "      <td>0.248399</td>\n",
              "      <td>-16.331</td>\n",
              "      <td>0.045251</td>\n",
              "      <td>123.516</td>\n",
              "      <td>0.624518</td>\n",
              "    </tr>\n",
              "    <tr>\n",
              "      <th>9916</th>\n",
              "      <td>0.0</td>\n",
              "      <td>0.0</td>\n",
              "      <td>0.0</td>\n",
              "      <td>0.0</td>\n",
              "      <td>0.0</td>\n",
              "      <td>0.0</td>\n",
              "      <td>0.0</td>\n",
              "      <td>0.0</td>\n",
              "      <td>1.0</td>\n",
              "      <td>0.0</td>\n",
              "      <td>...</td>\n",
              "      <td>0.883333</td>\n",
              "      <td>0.459917</td>\n",
              "      <td>378128.464</td>\n",
              "      <td>0.349263</td>\n",
              "      <td>0.000519</td>\n",
              "      <td>0.681492</td>\n",
              "      <td>-25.087</td>\n",
              "      <td>0.448377</td>\n",
              "      <td>129.445</td>\n",
              "      <td>0.609022</td>\n",
              "    </tr>\n",
              "    <tr>\n",
              "      <th>9917</th>\n",
              "      <td>0.0</td>\n",
              "      <td>0.0</td>\n",
              "      <td>0.0</td>\n",
              "      <td>0.0</td>\n",
              "      <td>0.0</td>\n",
              "      <td>0.0</td>\n",
              "      <td>0.0</td>\n",
              "      <td>0.0</td>\n",
              "      <td>1.0</td>\n",
              "      <td>0.0</td>\n",
              "      <td>...</td>\n",
              "      <td>0.113408</td>\n",
              "      <td>0.644554</td>\n",
              "      <td>151226.592</td>\n",
              "      <td>0.912201</td>\n",
              "      <td>0.000089</td>\n",
              "      <td>0.166336</td>\n",
              "      <td>-7.257</td>\n",
              "      <td>0.060308</td>\n",
              "      <td>116.077</td>\n",
              "      <td>0.402700</td>\n",
              "    </tr>\n",
              "    <tr>\n",
              "      <th>9918</th>\n",
              "      <td>0.0</td>\n",
              "      <td>0.0</td>\n",
              "      <td>0.0</td>\n",
              "      <td>0.0</td>\n",
              "      <td>0.0</td>\n",
              "      <td>0.0</td>\n",
              "      <td>0.0</td>\n",
              "      <td>0.0</td>\n",
              "      <td>1.0</td>\n",
              "      <td>0.0</td>\n",
              "      <td>...</td>\n",
              "      <td>0.847136</td>\n",
              "      <td>0.502160</td>\n",
              "      <td>190735.191</td>\n",
              "      <td>0.470057</td>\n",
              "      <td>0.502878</td>\n",
              "      <td>0.143114</td>\n",
              "      <td>-11.043</td>\n",
              "      <td>0.029906</td>\n",
              "      <td>94.200</td>\n",
              "      <td>0.358777</td>\n",
              "    </tr>\n",
              "  </tbody>\n",
              "</table>\n",
              "<p>9919 rows × 31 columns</p>\n",
              "</div>"
            ],
            "text/plain": [
              "       key_Scale A   key_Scale A Sharp   key_Scale B   key_Scale C  \\\n",
              "0              0.0                 0.0           0.0           0.0   \n",
              "1              0.0                 0.0           0.0           0.0   \n",
              "2              0.0                 0.0           0.0           0.0   \n",
              "3              1.0                 0.0           0.0           0.0   \n",
              "4              0.0                 1.0           0.0           0.0   \n",
              "...            ...                 ...           ...           ...   \n",
              "9914           0.0                 0.0           0.0           0.0   \n",
              "9915           0.0                 0.0           1.0           0.0   \n",
              "9916           0.0                 0.0           0.0           0.0   \n",
              "9917           0.0                 0.0           0.0           0.0   \n",
              "9918           0.0                 0.0           0.0           0.0   \n",
              "\n",
              "       key_Scale C Sharp   key_Scale D   key_Scale D Sharp   key_Scale E  \\\n",
              "0                    0.0           1.0                 0.0           0.0   \n",
              "1                    0.0           0.0                 0.0           0.0   \n",
              "2                    1.0           0.0                 0.0           0.0   \n",
              "3                    0.0           0.0                 0.0           0.0   \n",
              "4                    0.0           0.0                 0.0           0.0   \n",
              "...                  ...           ...                 ...           ...   \n",
              "9914                 0.0           0.0                 0.0           0.0   \n",
              "9915                 0.0           0.0                 0.0           0.0   \n",
              "9916                 0.0           0.0                 0.0           0.0   \n",
              "9917                 0.0           0.0                 0.0           0.0   \n",
              "9918                 0.0           0.0                 0.0           0.0   \n",
              "\n",
              "       key_Scale F   key_Scale F Sharp  ...   acousticness   danceability  \\\n",
              "0              0.0                 0.0  ...       0.020041       0.967948   \n",
              "1              0.0                 1.0  ...       0.858769       0.280645   \n",
              "2              0.0                 0.0  ...       0.000459       0.968723   \n",
              "3              0.0                 0.0  ...       0.090830       0.380147   \n",
              "4              0.0                 0.0  ...       1.014646       0.672051   \n",
              "...            ...                 ...  ...            ...            ...   \n",
              "9914           0.0                 0.0  ...       1.054190       0.136130   \n",
              "9915           0.0                 0.0  ...       0.866988       0.387476   \n",
              "9916           1.0                 0.0  ...       0.883333       0.459917   \n",
              "9917           1.0                 0.0  ...       0.113408       0.644554   \n",
              "9918           1.0                 0.0  ...       0.847136       0.502160   \n",
              "\n",
              "       duration_ms    energy   instrumentalness   liveness   loudness  \\\n",
              "0       273314.723  0.857411           0.000000   0.042030     -4.995   \n",
              "1       410136.987  0.114732           0.002753   0.134782    -26.922   \n",
              "2       203145.857 -1.000000           0.000384   0.079220     -7.266   \n",
              "3       275490.630  0.714246           0.000000   0.089873     -5.972   \n",
              "4       207299.190  0.048039           0.146346   0.110850    -27.213   \n",
              "...            ...       ...                ...        ...        ...   \n",
              "9914    188388.500  0.042151           1.024128   0.135912    -29.236   \n",
              "9915        -1.000  0.196799           0.028725   0.248399    -16.331   \n",
              "9916    378128.464  0.349263           0.000519   0.681492    -25.087   \n",
              "9917    151226.592  0.912201           0.000089   0.166336     -7.257   \n",
              "9918    190735.191  0.470057           0.502878   0.143114    -11.043   \n",
              "\n",
              "       speechiness    tempo   valence  \n",
              "0         0.119917  105.018  0.635525  \n",
              "1         0.039139  112.183  0.074412  \n",
              "2         0.052014  104.957  0.484246  \n",
              "3         0.070437  176.647  0.555169  \n",
              "4         0.065935  117.155  0.590628  \n",
              "...            ...      ...       ...  \n",
              "9914      0.057739   73.166  0.040686  \n",
              "9915      0.045251  123.516  0.624518  \n",
              "9916      0.448377  129.445  0.609022  \n",
              "9917      0.060308  116.077  0.402700  \n",
              "9918      0.029906   94.200  0.358777  \n",
              "\n",
              "[9919 rows x 31 columns]"
            ]
          },
          "execution_count": 32,
          "metadata": {},
          "output_type": "execute_result"
        }
      ],
      "source": [
        "df_ohn"
      ]
    },
    {
      "cell_type": "code",
      "execution_count": 33,
      "metadata": {},
      "outputs": [
        {
          "data": {
            "text/plain": [
              "Index([' popularity', ' acousticness', ' danceability', ' duration_ms',\n",
              "       ' energy', ' instrumentalness', ' liveness', ' loudness',\n",
              "       ' speechiness', ' tempo', ' valence'],\n",
              "      dtype='object')"
            ]
          },
          "execution_count": 33,
          "metadata": {},
          "output_type": "execute_result"
        }
      ],
      "source": [
        "df_ohn.columns[-11:]\n"
      ]
    },
    {
      "cell_type": "code",
      "execution_count": 34,
      "metadata": {},
      "outputs": [],
      "source": [
        "ohn_num = make_column_transformer(\n",
        "    (scale, new_list1) ,\n",
        "    remainder = 'passthrough' \n",
        ")\n",
        "\n",
        "num = ohn_num.fit_transform(df_ohn)\n",
        "df_final = pd.DataFrame(num)\n"
      ]
    },
    {
      "cell_type": "code",
      "execution_count": 35,
      "metadata": {},
      "outputs": [],
      "source": [
        "df_final.columns = cols"
      ]
    },
    {
      "cell_type": "code",
      "execution_count": 36,
      "metadata": {},
      "outputs": [
        {
          "data": {
            "text/plain": [
              "Index([' key_Scale A', ' key_Scale A Sharp', ' key_Scale B', ' key_Scale C',\n",
              "       ' key_Scale C Sharp', ' key_Scale D', ' key_Scale D Sharp',\n",
              "       ' key_Scale E', ' key_Scale F', ' key_Scale F Sharp', ' key_Scale G',\n",
              "       ' key_Scale G Sharp', ' voice_gender_Both', ' voice_gender_Female',\n",
              "       ' voice_gender_Male', ' mode_Major', ' mode_Minor',\n",
              "       ' musician_category_Band', ' musician_category_Duet',\n",
              "       ' musician_category_Solo', ' popularity', ' acousticness',\n",
              "       ' danceability', ' duration_ms', ' energy', ' instrumentalness',\n",
              "       ' liveness', ' loudness', ' speechiness', ' tempo', ' valence'],\n",
              "      dtype='object')"
            ]
          },
          "execution_count": 36,
          "metadata": {},
          "output_type": "execute_result"
        }
      ],
      "source": [
        "df_final.columns"
      ]
    },
    {
      "cell_type": "code",
      "execution_count": 37,
      "metadata": {
        "id": "D-velF60NlCz"
      },
      "outputs": [],
      "source": [
        "from sklearn.model_selection import  train_test_split\n",
        "X_train,X_test,Y_train,Y_test = train_test_split(df_final,y,test_size=0.2)"
      ]
    },
    {
      "cell_type": "code",
      "execution_count": 38,
      "metadata": {},
      "outputs": [
        {
          "name": "stdout",
          "output_type": "stream",
          "text": [
            "0.5900777649769584\n"
          ]
        }
      ],
      "source": [
        "from sklearn.feature_selection import SelectKBest\n",
        "from sklearn.neighbors import KNeighborsClassifier\n",
        "from sklearn.metrics import accuracy_score\n",
        "from sklearn import metrics\n",
        "\n",
        "k_range = list(range(1,15))\n",
        "scores = []\n",
        "error = []\n",
        "\n",
        "for k in k_range:\n",
        "    knn = KNeighborsClassifier(n_neighbors=k)\n",
        "    knn.fit(X_train, Y_train.values.ravel())\n",
        "    y_pred = knn.predict(X_test)\n",
        "    accuracy_score(Y_test, y_pred)\n",
        "    scores.append(metrics.accuracy_score(Y_test,y_pred))\n",
        "    error.append(np.mean(y_pred != Y_test))\n",
        "\n",
        "scores= np.mean(scores)\n",
        "print(scores)"
      ]
    },
    {
      "cell_type": "code",
      "execution_count": 39,
      "metadata": {},
      "outputs": [],
      "source": [
        "from sklearn.model_selection import cross_val_score\n",
        "\n",
        "k_range = list(range(1, 15))\n",
        "k_scores = []\n",
        "for k in k_range:\n",
        "    knn = KNeighborsClassifier(n_neighbors=k)\n",
        "    scores = cross_val_score(knn, X_train, Y_train, cv=10, scoring='accuracy')\n",
        "    k_scores.append(scores.mean())"
      ]
    },
    {
      "cell_type": "code",
      "execution_count": 40,
      "metadata": {},
      "outputs": [
        {
          "name": "stdout",
          "output_type": "stream",
          "text": [
            "[0.5582855019201388, 0.5209833524447226, 0.5605525044390305, 0.5838671816683132, 0.5885326900047965, 0.5911764145339732, 0.5940759987421423, 0.5972247721721231, 0.5964679929229626, 0.5947063569456931, 0.5921877828988537, 0.5908008042665515, 0.5892894692539571, 0.5860123689334574]\n"
          ]
        }
      ],
      "source": [
        "print(k_scores)"
      ]
    },
    {
      "cell_type": "code",
      "execution_count": 41,
      "metadata": {},
      "outputs": [
        {
          "data": {
            "text/plain": [
              "Text(0, 0.5, 'Cross-Validated Accuracy')"
            ]
          },
          "execution_count": 41,
          "metadata": {},
          "output_type": "execute_result"
        },
        {
          "data": {
            "image/png": "[encoded data removed]",
            "text/plain": [
              "<Figure size 432x288 with 1 Axes>"
            ]
          },
          "metadata": {
            "needs_background": "light"
          },
          "output_type": "display_data"
        }
      ],
      "source": [
        "import matplotlib.pyplot as plt\n",
        "%matplotlib inline\n",
        "# plot the value of K for KNN (x-axis) versus the cross-validated accuracy (y-axis)\n",
        "plt.plot(k_range, k_scores, color='red', linestyle='dashed', marker='o',\n",
        "         markerfacecolor='blue', markersize=10)\n",
        "plt.xlabel('Value of K for KNN')\n",
        "plt.ylabel('Cross-Validated Accuracy')"
      ]
    },
    {
      "cell_type": "code",
      "execution_count": 42,
      "metadata": {},
      "outputs": [
        {
          "data": {
            "text/plain": [
              "Text(0, 0.5, 'Mean Error')"
            ]
          },
          "execution_count": 42,
          "metadata": {},
          "output_type": "execute_result"
        },
        {
          "data": {
            "image/png": "[encoded data removed]",
            "text/plain": [
              "<Figure size 864x432 with 1 Axes>"
            ]
          },
          "metadata": {
            "needs_background": "light"
          },
          "output_type": "display_data"
        }
      ],
      "source": [
        "plt.figure(figsize=(12, 6))\n",
        "plt.plot(k_range, error, color='red', linestyle='dashed', marker='o',\n",
        "         markerfacecolor='blue', markersize=10)\n",
        "plt.title('Error Rate K Value')\n",
        "plt.xlabel('K Value')\n",
        "plt.ylabel('Mean Error')"
      ]
    },
    {
      "cell_type": "code",
      "execution_count": 43,
      "metadata": {},
      "outputs": [
        {
          "name": "stdout",
          "output_type": "stream",
          "text": [
            "0.5987903225806451\n"
          ]
        }
      ],
      "source": [
        "# Best Value of K\n",
        "knn = KNeighborsClassifier(n_neighbors=7)\n",
        "knn_base = knn.fit(X_train,Y_train)\n",
        "y_pred_knn_base = knn.predict(X_test)\n",
        "print(accuracy_score(Y_test, y_pred_knn_base))\n",
        "#print(cross_val_score(knn,X_test,Y_test, cv=10, scoring=\"accuracy\").mean())\n"
      ]
    },
    {
      "cell_type": "markdown",
      "metadata": {},
      "source": [
        "## GridSearch\n"
      ]
    },
    {
      "cell_type": "code",
      "execution_count": 44,
      "metadata": {},
      "outputs": [],
      "source": [
        "from sklearn.model_selection import GridSearchCV\n",
        "k_range = list(range(1, 15))\n",
        "weight_options = ['uniform', 'distance']\n",
        "algorithms = [ 'ball_tree', 'kd_tree', 'brute']"
      ]
    },
    {
      "cell_type": "code",
      "execution_count": 45,
      "metadata": {},
      "outputs": [
        {
          "name": "stdout",
          "output_type": "stream",
          "text": [
            "{'algorithm': ['ball_tree', 'kd_tree', 'brute'],\n",
            " 'n_neighbors': [1, 2, 3, 4, 5, 6, 7, 8, 9, 10, 11, 12, 13, 14],\n",
            " 'weights': ['uniform', 'distance']}\n"
          ]
        }
      ],
      "source": [
        "param_grid = dict(n_neighbors=k_range, weights = weight_options, algorithm = algorithms)\n",
        "pprint(param_grid)\n"
      ]
    },
    {
      "cell_type": "code",
      "execution_count": 46,
      "metadata": {},
      "outputs": [],
      "source": [
        "from sklearn.metrics import f1_score, make_scorer\n",
        "f1 = make_scorer(f1_score , average='macro')"
      ]
    },
    {
      "cell_type": "code",
      "execution_count": 47,
      "metadata": {},
      "outputs": [
        {
          "data": {
            "text/plain": [
              "GridSearchCV(cv=10, estimator=KNeighborsClassifier(n_neighbors=7), n_jobs=-1,\n",
              "             param_grid={'algorithm': ['ball_tree', 'kd_tree', 'brute'],\n",
              "                         'n_neighbors': [1, 2, 3, 4, 5, 6, 7, 8, 9, 10, 11, 12,\n",
              "                                         13, 14],\n",
              "                         'weights': ['uniform', 'distance']},\n",
              "             scoring='accuracy')"
            ]
          },
          "execution_count": 47,
          "metadata": {},
          "output_type": "execute_result"
        }
      ],
      "source": [
        "grid = GridSearchCV(knn, param_grid, cv=10, scoring='accuracy',n_jobs = -1)\n",
        "grid.fit(X_train,Y_train)"
      ]
    },
    {
      "cell_type": "code",
      "execution_count": 48,
      "metadata": {},
      "outputs": [
        {
          "data": {
            "text/html": [
              "<div>\n",
              "<style scoped>\n",
              "    .dataframe tbody tr th:only-of-type {\n",
              "        vertical-align: middle;\n",
              "    }\n",
              "\n",
              "    .dataframe tbody tr th {\n",
              "        vertical-align: top;\n",
              "    }\n",
              "\n",
              "    .dataframe thead th {\n",
              "        text-align: right;\n",
              "    }\n",
              "</style>\n",
              "<table border=\"1\" class=\"dataframe\">\n",
              "  <thead>\n",
              "    <tr style=\"text-align: right;\">\n",
              "      <th></th>\n",
              "      <th>mean_test_score</th>\n",
              "      <th>std_test_score</th>\n",
              "      <th>params</th>\n",
              "    </tr>\n",
              "  </thead>\n",
              "  <tbody>\n",
              "    <tr>\n",
              "      <th>0</th>\n",
              "      <td>0.558286</td>\n",
              "      <td>0.023900</td>\n",
              "      <td>{'algorithm': 'ball_tree', 'n_neighbors': 1, '...</td>\n",
              "    </tr>\n",
              "    <tr>\n",
              "      <th>1</th>\n",
              "      <td>0.558286</td>\n",
              "      <td>0.023900</td>\n",
              "      <td>{'algorithm': 'ball_tree', 'n_neighbors': 1, '...</td>\n",
              "    </tr>\n",
              "    <tr>\n",
              "      <th>2</th>\n",
              "      <td>0.520983</td>\n",
              "      <td>0.018220</td>\n",
              "      <td>{'algorithm': 'ball_tree', 'n_neighbors': 2, '...</td>\n",
              "    </tr>\n",
              "    <tr>\n",
              "      <th>3</th>\n",
              "      <td>0.558286</td>\n",
              "      <td>0.023900</td>\n",
              "      <td>{'algorithm': 'ball_tree', 'n_neighbors': 2, '...</td>\n",
              "    </tr>\n",
              "    <tr>\n",
              "      <th>4</th>\n",
              "      <td>0.560553</td>\n",
              "      <td>0.016662</td>\n",
              "      <td>{'algorithm': 'ball_tree', 'n_neighbors': 3, '...</td>\n",
              "    </tr>\n",
              "    <tr>\n",
              "      <th>...</th>\n",
              "      <td>...</td>\n",
              "      <td>...</td>\n",
              "      <td>...</td>\n",
              "    </tr>\n",
              "    <tr>\n",
              "      <th>79</th>\n",
              "      <td>0.603148</td>\n",
              "      <td>0.019089</td>\n",
              "      <td>{'algorithm': 'brute', 'n_neighbors': 12, 'wei...</td>\n",
              "    </tr>\n",
              "    <tr>\n",
              "      <th>80</th>\n",
              "      <td>0.589289</td>\n",
              "      <td>0.021729</td>\n",
              "      <td>{'algorithm': 'brute', 'n_neighbors': 13, 'wei...</td>\n",
              "    </tr>\n",
              "    <tr>\n",
              "      <th>81</th>\n",
              "      <td>0.603655</td>\n",
              "      <td>0.020804</td>\n",
              "      <td>{'algorithm': 'brute', 'n_neighbors': 13, 'wei...</td>\n",
              "    </tr>\n",
              "    <tr>\n",
              "      <th>82</th>\n",
              "      <td>0.586012</td>\n",
              "      <td>0.020368</td>\n",
              "      <td>{'algorithm': 'brute', 'n_neighbors': 14, 'wei...</td>\n",
              "    </tr>\n",
              "    <tr>\n",
              "      <th>83</th>\n",
              "      <td>0.601765</td>\n",
              "      <td>0.021530</td>\n",
              "      <td>{'algorithm': 'brute', 'n_neighbors': 14, 'wei...</td>\n",
              "    </tr>\n",
              "  </tbody>\n",
              "</table>\n",
              "<p>84 rows × 3 columns</p>\n",
              "</div>"
            ],
            "text/plain": [
              "    mean_test_score  std_test_score  \\\n",
              "0          0.558286        0.023900   \n",
              "1          0.558286        0.023900   \n",
              "2          0.520983        0.018220   \n",
              "3          0.558286        0.023900   \n",
              "4          0.560553        0.016662   \n",
              "..              ...             ...   \n",
              "79         0.603148        0.019089   \n",
              "80         0.589289        0.021729   \n",
              "81         0.603655        0.020804   \n",
              "82         0.586012        0.020368   \n",
              "83         0.601765        0.021530   \n",
              "\n",
              "                                               params  \n",
              "0   {'algorithm': 'ball_tree', 'n_neighbors': 1, '...  \n",
              "1   {'algorithm': 'ball_tree', 'n_neighbors': 1, '...  \n",
              "2   {'algorithm': 'ball_tree', 'n_neighbors': 2, '...  \n",
              "3   {'algorithm': 'ball_tree', 'n_neighbors': 2, '...  \n",
              "4   {'algorithm': 'ball_tree', 'n_neighbors': 3, '...  \n",
              "..                                                ...  \n",
              "79  {'algorithm': 'brute', 'n_neighbors': 12, 'wei...  \n",
              "80  {'algorithm': 'brute', 'n_neighbors': 13, 'wei...  \n",
              "81  {'algorithm': 'brute', 'n_neighbors': 13, 'wei...  \n",
              "82  {'algorithm': 'brute', 'n_neighbors': 14, 'wei...  \n",
              "83  {'algorithm': 'brute', 'n_neighbors': 14, 'wei...  \n",
              "\n",
              "[84 rows x 3 columns]"
            ]
          },
          "execution_count": 48,
          "metadata": {},
          "output_type": "execute_result"
        }
      ],
      "source": [
        "pd.DataFrame(grid.cv_results_)[['mean_test_score', 'std_test_score', 'params']]\n"
      ]
    },
    {
      "cell_type": "code",
      "execution_count": 49,
      "metadata": {},
      "outputs": [
        {
          "name": "stdout",
          "output_type": "stream",
          "text": [
            "0.6088189796741641\n",
            "{'algorithm': 'ball_tree', 'n_neighbors': 8, 'weights': 'distance'}\n",
            "KNeighborsClassifier(algorithm='ball_tree', n_neighbors=8, weights='distance')\n"
          ]
        }
      ],
      "source": [
        "# examine the best model\n",
        "print(grid.best_score_)\n",
        "print(grid.best_params_)\n",
        "print(grid.best_estimator_)"
      ]
    },
    {
      "cell_type": "markdown",
      "metadata": {},
      "source": [
        "## Using the best parameters to make predictions\n"
      ]
    },
    {
      "cell_type": "code",
      "execution_count": 50,
      "metadata": {},
      "outputs": [
        {
          "data": {
            "text/plain": [
              "0.6174395161290323"
            ]
          },
          "execution_count": 50,
          "metadata": {},
          "output_type": "execute_result"
        }
      ],
      "source": [
        "y_pred_grid_knn = grid.predict(X_test)\n",
        "accuracy_score(Y_test, y_pred_grid_knn)"
      ]
    },
    {
      "cell_type": "code",
      "execution_count": 51,
      "metadata": {},
      "outputs": [
        {
          "name": "stdout",
          "output_type": "stream",
          "text": [
            "              precision    recall  f1-score   support\n",
            "\n",
            "           0       0.84      0.85      0.85       506\n",
            "           1       0.29      0.09      0.14        89\n",
            "           2       0.15      0.02      0.04        86\n",
            "           3       0.25      0.06      0.09        54\n",
            "           4       0.54      0.47      0.50       346\n",
            "           5       0.53      0.62      0.57       378\n",
            "           6       0.56      0.73      0.64       525\n",
            "\n",
            "    accuracy                           0.62      1984\n",
            "   macro avg       0.45      0.41      0.40      1984\n",
            "weighted avg       0.59      0.62      0.59      1984\n",
            "\n"
          ]
        }
      ],
      "source": [
        "from sklearn.metrics import classification_report\n",
        "print(classification_report(Y_test, y_pred_grid_knn))"
      ]
    },
    {
      "cell_type": "code",
      "execution_count": 55,
      "metadata": {},
      "outputs": [
        {
          "name": "stdout",
          "output_type": "stream",
          "text": [
            "0.592003248588874\n"
          ]
        }
      ],
      "source": [
        "print(metrics.f1_score(Y_test,y_pred_grid_knn,average=\"weighted\"))\n",
        "f1_score_knn = metrics.f1_score(Y_test,y_pred_grid_knn,average=\"weighted\")"
      ]
    },
    {
      "cell_type": "code",
      "execution_count": 56,
      "metadata": {},
      "outputs": [
        {
          "name": "stdout",
          "output_type": "stream",
          "text": [
            "0.7762670452334975\n"
          ]
        }
      ],
      "source": [
        "print(metrics.roc_auc_score(Y_test,y_score = grid.predict_proba(X_test), multi_class='ovr'))\n",
        "roc_auc_score_knn = metrics.roc_auc_score(Y_test,y_score = grid.predict_proba(X_test), multi_class='ovr')"
      ]
    },
    {
      "cell_type": "markdown",
      "metadata": {},
      "source": [
        "# Logistic Regression"
      ]
    },
    {
      "cell_type": "code",
      "execution_count": 57,
      "metadata": {},
      "outputs": [],
      "source": [
        "from sklearn.linear_model import LogisticRegressionCV\n",
        "\n",
        "logreg = LogisticRegressionCV(cv = 5, random_state = 0,solver='newton-cg',n_jobs = -1).fit(X_train,Y_train)\n"
      ]
    },
    {
      "cell_type": "code",
      "execution_count": 58,
      "metadata": {},
      "outputs": [],
      "source": [
        "y_pred_log_test = logreg.predict(X_test)"
      ]
    },
    {
      "cell_type": "code",
      "execution_count": 59,
      "metadata": {},
      "outputs": [
        {
          "name": "stdout",
          "output_type": "stream",
          "text": [
            "              precision    recall  f1-score   support\n",
            "\n",
            "           0       0.89      0.90      0.90       506\n",
            "           1       0.59      0.36      0.45        89\n",
            "           2       0.52      0.26      0.34        86\n",
            "           3       0.00      0.00      0.00        54\n",
            "           4       0.65      0.72      0.68       346\n",
            "           5       0.72      0.78      0.75       378\n",
            "           6       0.77      0.86      0.81       525\n",
            "\n",
            "    accuracy                           0.76      1984\n",
            "   macro avg       0.59      0.55      0.56      1984\n",
            "weighted avg       0.73      0.76      0.74      1984\n",
            "\n"
          ]
        },
        {
          "name": "stderr",
          "output_type": "stream",
          "text": [
            "C:\\Users\\sasha\\anaconda3\\envs\\tf\\lib\\site-packages\\sklearn\\metrics\\_classification.py:1318: UndefinedMetricWarning: Precision and F-score are ill-defined and being set to 0.0 in labels with no predicted samples. Use `zero_division` parameter to control this behavior.\n",
            "  _warn_prf(average, modifier, msg_start, len(result))\n",
            "C:\\Users\\sasha\\anaconda3\\envs\\tf\\lib\\site-packages\\sklearn\\metrics\\_classification.py:1318: UndefinedMetricWarning: Precision and F-score are ill-defined and being set to 0.0 in labels with no predicted samples. Use `zero_division` parameter to control this behavior.\n",
            "  _warn_prf(average, modifier, msg_start, len(result))\n",
            "C:\\Users\\sasha\\anaconda3\\envs\\tf\\lib\\site-packages\\sklearn\\metrics\\_classification.py:1318: UndefinedMetricWarning: Precision and F-score are ill-defined and being set to 0.0 in labels with no predicted samples. Use `zero_division` parameter to control this behavior.\n",
            "  _warn_prf(average, modifier, msg_start, len(result))\n"
          ]
        }
      ],
      "source": [
        "from sklearn.metrics import classification_report\n",
        "print(classification_report(Y_test, y_pred_log_test))"
      ]
    },
    {
      "cell_type": "code",
      "execution_count": 60,
      "metadata": {},
      "outputs": [
        {
          "ename": "NameError",
          "evalue": "name 'log_best_f1' is not defined",
          "output_type": "error",
          "traceback": [
            "\u001b[1;31m---------------------------------------------------------------------------\u001b[0m",
            "\u001b[1;31mNameError\u001b[0m                                 Traceback (most recent call last)",
            "\u001b[1;32m~\\AppData\\Local\\Temp/ipykernel_20364/3220367116.py\u001b[0m in \u001b[0;36m<module>\u001b[1;34m\u001b[0m\n\u001b[0;32m      1\u001b[0m \u001b[1;32mfrom\u001b[0m \u001b[0msklearn\u001b[0m\u001b[1;33m.\u001b[0m\u001b[0mmetrics\u001b[0m \u001b[1;32mimport\u001b[0m \u001b[0mf1_score\u001b[0m\u001b[1;33m\u001b[0m\u001b[1;33m\u001b[0m\u001b[0m\n\u001b[0;32m      2\u001b[0m \u001b[0mf1_score_log\u001b[0m \u001b[1;33m=\u001b[0m \u001b[0mmetrics\u001b[0m\u001b[1;33m.\u001b[0m\u001b[0mf1_score\u001b[0m\u001b[1;33m(\u001b[0m\u001b[0mY_test\u001b[0m\u001b[1;33m,\u001b[0m\u001b[0my_pred_log_test\u001b[0m\u001b[1;33m,\u001b[0m\u001b[0maverage\u001b[0m\u001b[1;33m=\u001b[0m\u001b[1;34m'weighted'\u001b[0m\u001b[1;33m)\u001b[0m\u001b[1;33m\u001b[0m\u001b[1;33m\u001b[0m\u001b[0m\n\u001b[1;32m----> 3\u001b[1;33m \u001b[0mprint\u001b[0m\u001b[1;33m(\u001b[0m\u001b[0mlog_best_f1\u001b[0m\u001b[1;33m)\u001b[0m\u001b[1;33m\u001b[0m\u001b[1;33m\u001b[0m\u001b[0m\n\u001b[0m",
            "\u001b[1;31mNameError\u001b[0m: name 'log_best_f1' is not defined"
          ]
        }
      ],
      "source": [
        "from sklearn.metrics import f1_score\n",
        "f1_score_log = metrics.f1_score(Y_test,y_pred_log_test,average='weighted')\n",
        "print(log_best_f1)\n"
      ]
    },
    {
      "cell_type": "code",
      "execution_count": null,
      "metadata": {},
      "outputs": [
        {
          "name": "stdout",
          "output_type": "stream",
          "text": [
            "0.9328170457595614\n"
          ]
        }
      ],
      "source": [
        "from sklearn.metrics import roc_auc_score\n",
        "roc_auc_score_log = metrics.roc_auc_score(Y_test, y_score=logreg.predict_proba(X_test), multi_class='ovr')\n",
        "pprint(log_best_roc)"
      ]
    },
    {
      "cell_type": "code",
      "execution_count": null,
      "metadata": {},
      "outputs": [
        {
          "data": {
            "text/plain": [
              "0.6005815087575956"
            ]
          },
          "execution_count": 274,
          "metadata": {},
          "output_type": "execute_result"
        }
      ],
      "source": [
        "from sklearn.metrics import r2_score\n",
        "r2_score(Y_test,y_pred_log_test)"
      ]
    },
    {
      "cell_type": "markdown",
      "metadata": {},
      "source": [
        "## Classification: Full Trees"
      ]
    },
    {
      "cell_type": "code",
      "execution_count": null,
      "metadata": {},
      "outputs": [],
      "source": [
        "from sklearn.tree import  DecisionTreeClassifier\n",
        "\n",
        "clf = DecisionTreeClassifier()\n",
        "clf = clf.fit(X_train,Y_train)"
      ]
    },
    {
      "cell_type": "code",
      "execution_count": null,
      "metadata": {},
      "outputs": [],
      "source": [
        "clf_pred = clf.predict(X_test)"
      ]
    },
    {
      "cell_type": "code",
      "execution_count": null,
      "metadata": {},
      "outputs": [
        {
          "data": {
            "text/plain": [
              "0.6553617208429575"
            ]
          },
          "execution_count": 247,
          "metadata": {},
          "output_type": "execute_result"
        }
      ],
      "source": [
        "clf_f1 = metrics.f1_score(Y_test,clf_pred,average=\"weighted\")\n",
        "clf_f1"
      ]
    },
    {
      "cell_type": "code",
      "execution_count": null,
      "metadata": {},
      "outputs": [
        {
          "data": {
            "text/plain": [
              "0.7287566078427632"
            ]
          },
          "execution_count": 248,
          "metadata": {},
          "output_type": "execute_result"
        }
      ],
      "source": [
        "roc_clf =  metrics.roc_auc_score(Y_test,y_score = clf.predict_proba(X_test), multi_class='ovr')\n",
        "roc_clf"
      ]
    },
    {
      "cell_type": "markdown",
      "metadata": {},
      "source": [
        "## Hyperpapmeter optimization for Decision Tree Classifier"
      ]
    },
    {
      "cell_type": "code",
      "execution_count": null,
      "metadata": {},
      "outputs": [
        {
          "name": "stderr",
          "output_type": "stream",
          "text": [
            "C:\\Users\\sasha\\AppData\\Local\\Temp/ipykernel_4764/3873228531.py:3: FutureWarning: The pandas.np module is deprecated and will be removed from pandas in a future version. Import numpy directly instead\n",
            "  depth_space     = pd.np.arange(1, 25, 1)\n",
            "C:\\Users\\sasha\\AppData\\Local\\Temp/ipykernel_4764/3873228531.py:4: FutureWarning: The pandas.np module is deprecated and will be removed from pandas in a future version. Import numpy directly instead\n",
            "  leaf_space      = pd.np.arange(1, 100, 1)\n"
          ]
        }
      ],
      "source": [
        "criterion_space = ['gini', 'entropy']\n",
        "splitter_space  = ['best', 'random']\n",
        "depth_space     = pd.np.arange(1, 25, 1)\n",
        "leaf_space      = pd.np.arange(1, 100, 1)"
      ]
    },
    {
      "cell_type": "code",
      "execution_count": null,
      "metadata": {},
      "outputs": [],
      "source": [
        "param_grid = {'criterion'        : criterion_space,\n",
        "              'splitter'         : splitter_space,\n",
        "              'max_depth'        : depth_space,\n",
        "              'min_samples_leaf' : leaf_space}\n"
      ]
    },
    {
      "cell_type": "code",
      "execution_count": null,
      "metadata": {},
      "outputs": [],
      "source": [
        "tuned_tree_cv = RandomizedSearchCV(estimator             = tuned_tree,\n",
        "                                   param_distributions   = param_grid,\n",
        "                                   cv                    = 3,\n",
        "                                   n_iter                = 300,\n",
        "                                   scoring = \"accuracy\"\n",
        "                                   )\n",
        "\n"
      ]
    },
    {
      "cell_type": "code",
      "execution_count": null,
      "metadata": {},
      "outputs": [
        {
          "data": {
            "text/plain": [
              "RandomizedSearchCV(cv=3, estimator=DecisionTreeClassifier(), n_iter=300,\n",
              "                   param_distributions={'criterion': ['gini', 'entropy'],\n",
              "                                        'max_depth': array([ 1,  2,  3,  4,  5,  6,  7,  8,  9, 10, 11, 12, 13, 14, 15, 16, 17,\n",
              "       18, 19, 20, 21, 22, 23, 24]),\n",
              "                                        'min_samples_leaf': array([ 1,  2,  3,  4,  5,  6,  7,  8,  9, 10, 11, 12, 13, 14, 15, 16, 17,\n",
              "       18, 19, 20, 21, 22, 23, 24, 25, 26, 27, 28, 29, 30, 31, 32, 33, 34,\n",
              "       35, 36, 37, 38, 39, 40, 41, 42, 43, 44, 45, 46, 47, 48, 49, 50, 51,\n",
              "       52, 53, 54, 55, 56, 57, 58, 59, 60, 61, 62, 63, 64, 65, 66, 67, 68,\n",
              "       69, 70, 71, 72, 73, 74, 75, 76, 77, 78, 79, 80, 81, 82, 83, 84, 85,\n",
              "       86, 87, 88, 89, 90, 91, 92, 93, 94, 95, 96, 97, 98, 99]),\n",
              "                                        'splitter': ['best', 'random']},\n",
              "                   scoring='accuracy')"
            ]
          },
          "execution_count": 256,
          "metadata": {},
          "output_type": "execute_result"
        }
      ],
      "source": [
        "tuned_tree_cv.fit(X_train, Y_train)\n"
      ]
    },
    {
      "cell_type": "code",
      "execution_count": null,
      "metadata": {},
      "outputs": [
        {
          "data": {
            "text/plain": [
              "{'splitter': 'best',\n",
              " 'min_samples_leaf': 25,\n",
              " 'max_depth': 12,\n",
              " 'criterion': 'entropy'}"
            ]
          },
          "execution_count": 253,
          "metadata": {},
          "output_type": "execute_result"
        }
      ],
      "source": [
        "tuned_tree_cv.best_params_"
      ]
    },
    {
      "cell_type": "code",
      "execution_count": null,
      "metadata": {},
      "outputs": [
        {
          "name": "stdout",
          "output_type": "stream",
          "text": [
            "0.7163474217938101\n"
          ]
        }
      ],
      "source": [
        "y_best_dtc = tuned_tree_cv.predict(X_test)\n",
        "f1_score_dtc = metrics.f1_score(Y_test,y_best_dtc,average=\"weighted\")\n",
        "print(f1_score_dtc)\n"
      ]
    },
    {
      "cell_type": "code",
      "execution_count": null,
      "metadata": {},
      "outputs": [
        {
          "name": "stdout",
          "output_type": "stream",
          "text": [
            "0.8918984936201391\n"
          ]
        }
      ],
      "source": [
        "roc_auc_score_dtc = roc_auc_score(Y_test, y_score =tuned_tree_cv.predict_proba(X_test), multi_class='ovr')\n",
        "print(roc_auc_score_dtc)\n"
      ]
    },
    {
      "cell_type": "markdown",
      "metadata": {},
      "source": [
        "## Random Forest Classifier"
      ]
    },
    {
      "cell_type": "code",
      "execution_count": null,
      "metadata": {},
      "outputs": [],
      "source": [
        "from sklearn.ensemble import RandomForestClassifier\n",
        "from sklearn.metrics import accuracy_score, f1_score, classification_report"
      ]
    },
    {
      "cell_type": "code",
      "execution_count": null,
      "metadata": {},
      "outputs": [],
      "source": [
        "from sklearn.ensemble import RandomForestClassifier\n",
        "rf_classifier = RandomForestClassifier()"
      ]
    },
    {
      "cell_type": "code",
      "execution_count": null,
      "metadata": {},
      "outputs": [],
      "source": [
        "rf_classifier.fit(X_train, Y_train)\n",
        "y_pred_rf = rf_classifier.predict(X_test)\n"
      ]
    },
    {
      "cell_type": "code",
      "execution_count": null,
      "metadata": {},
      "outputs": [
        {
          "name": "stdout",
          "output_type": "stream",
          "text": [
            "0.782258064516129\n"
          ]
        }
      ],
      "source": [
        "print(rf_classifier.score(X_test,Y_test))"
      ]
    },
    {
      "cell_type": "code",
      "execution_count": null,
      "metadata": {},
      "outputs": [
        {
          "name": "stdout",
          "output_type": "stream",
          "text": [
            "0.7633967401661936\n"
          ]
        }
      ],
      "source": [
        "f1_score_rf = metrics.f1_score(Y_test,y_pred_rf,average=\"weighted\")\n",
        "print(f1_score_rf)"
      ]
    },
    {
      "cell_type": "code",
      "execution_count": null,
      "metadata": {},
      "outputs": [
        {
          "name": "stdout",
          "output_type": "stream",
          "text": [
            "0.9363497673085073\n"
          ]
        }
      ],
      "source": [
        "roc_auc_score_rf = roc_auc_score(Y_test, y_score= rf_classifier.predict_proba(X_test), multi_class='ovr')\n",
        "print(roc_auc_score_rf)\n"
      ]
    },
    {
      "cell_type": "code",
      "execution_count": null,
      "metadata": {},
      "outputs": [],
      "source": [
        "from sklearn.model_selection import GridSearchCV,RandomizedSearchCV"
      ]
    },
    {
      "cell_type": "code",
      "execution_count": null,
      "metadata": {},
      "outputs": [],
      "source": [
        "n_estimators = [int(x) for x in np.linspace(start = 200, stop = 2000, num = 10)]\n",
        "max_features = ['auto', 'sqrt']\n",
        "max_depth = [int(x) for x in np.linspace(10, 110, num = 11)]\n",
        "min_samples_split = [2, 5, 10]\n",
        "min_samples_leaf = [1, 2, 4]\n",
        "bootstrap = [True, False]"
      ]
    },
    {
      "cell_type": "code",
      "execution_count": null,
      "metadata": {},
      "outputs": [
        {
          "name": "stdout",
          "output_type": "stream",
          "text": [
            "{'bootstrap': [True, False],\n",
            " 'max_depth': [10, 20, 30, 40, 50, 60, 70, 80, 90, 100, 110],\n",
            " 'max_features': ['auto', 'sqrt'],\n",
            " 'min_samples_leaf': [1, 2, 4],\n",
            " 'min_samples_split': [2, 5, 10],\n",
            " 'n_estimators': [200, 400, 600, 800, 1000, 1200, 1400, 1600, 1800, 2000]}\n"
          ]
        }
      ],
      "source": [
        "random_grid = {'n_estimators': n_estimators,\n",
        "               'max_features': max_features,\n",
        "               'max_depth': max_depth,\n",
        "               'min_samples_split': min_samples_split,\n",
        "               'min_samples_leaf': min_samples_leaf,\n",
        "               'bootstrap': bootstrap}\n",
        "pprint(random_grid)"
      ]
    },
    {
      "cell_type": "code",
      "execution_count": null,
      "metadata": {},
      "outputs": [],
      "source": [
        "rf_random = RandomizedSearchCV(estimator = rf_classifier, param_distributions = random_grid, n_iter = 100, cv = 3, verbose=2, n_jobs = -1)"
      ]
    },
    {
      "cell_type": "code",
      "execution_count": null,
      "metadata": {},
      "outputs": [
        {
          "name": "stdout",
          "output_type": "stream",
          "text": [
            "Fitting 3 folds for each of 100 candidates, totalling 300 fits\n"
          ]
        }
      ],
      "source": [
        "rf_rand = rf_random.fit(X_train, Y_train)"
      ]
    },
    {
      "cell_type": "code",
      "execution_count": null,
      "metadata": {},
      "outputs": [
        {
          "data": {
            "text/plain": [
              "{'n_estimators': 200,\n",
              " 'min_samples_split': 5,\n",
              " 'min_samples_leaf': 1,\n",
              " 'max_features': 'sqrt',\n",
              " 'max_depth': 30,\n",
              " 'bootstrap': True}"
            ]
          },
          "execution_count": 292,
          "metadata": {},
          "output_type": "execute_result"
        }
      ],
      "source": [
        "rf_random.best_params_"
      ]
    },
    {
      "cell_type": "code",
      "execution_count": null,
      "metadata": {},
      "outputs": [
        {
          "name": "stdout",
          "output_type": "stream",
          "text": [
            "0.7623096253499191\n"
          ]
        }
      ],
      "source": [
        "y_best_rf = rf_rand.predict(X_test)\n",
        "print(metrics.f1_score(Y_test,y_best_rf,average=\"weighted\"))\n",
        "f1_score_best_rf = metrics.f1_score(Y_test,y_best_rf,average=\"weighted\")"
      ]
    },
    {
      "cell_type": "code",
      "execution_count": null,
      "metadata": {},
      "outputs": [
        {
          "name": "stdout",
          "output_type": "stream",
          "text": [
            "0.9381017025365096\n"
          ]
        }
      ],
      "source": [
        "roc_auc_score_rf_best = roc_auc_score(Y_test,y_score=rf_rand.predict_proba(X_test), multi_class='ovr')\n",
        "print(roc_auc_score_rf_best)"
      ]
    },
    {
      "cell_type": "code",
      "execution_count": null,
      "metadata": {},
      "outputs": [
        {
          "name": "stdout",
          "output_type": "stream",
          "text": [
            "[0.18143734 0.10190762 0.10644593 0.03622867 0.0719397  0.08031925\n",
            " 0.03475912 0.09604017 0.10342796 0.04081073 0.05914562 0.00362803\n",
            " 0.00331127 0.00373061 0.00389188 0.00453226 0.00372716 0.0023759\n",
            " 0.00352618 0.00382023 0.00317456 0.00375995 0.00308018 0.00451035\n",
            " 0.0052806  0.00527597 0.00718143 0.00752192 0.00566168 0.00428163\n",
            " 0.00526611]\n",
            " There are 31 features in total\n"
          ]
        }
      ],
      "source": [
        "print(rf_classifier.feature_importances_)\n",
        "print(f\" There are {len(rf_classifier.feature_importances_)} features in total\")"
      ]
    },
    {
      "cell_type": "code",
      "execution_count": null,
      "metadata": {},
      "outputs": [],
      "source": [
        "og = df1.iloc[:,:-1]\n"
      ]
    },
    {
      "cell_type": "code",
      "execution_count": null,
      "metadata": {},
      "outputs": [
        {
          "name": "stdout",
          "output_type": "stream",
          "text": [
            "Feature:  key_Scale A                        Importance: 0.18143734097305395\n",
            "Feature:  key_Scale B                        Importance: 0.10644593285552457\n",
            "Feature:  key_Scale F                        Importance: 0.1034279605155673\n",
            "Feature:  key_Scale A Sharp                  Importance: 0.10190761665204832\n",
            "Feature:  key_Scale E                        Importance: 0.09604017099264536\n",
            "Feature:  key_Scale D                        Importance: 0.08031924624478663\n",
            "Feature:  key_Scale C Sharp                  Importance: 0.07193970378034617\n",
            "Feature:  key_Scale G                        Importance: 0.05914562086372769\n",
            "Feature:  key_Scale F Sharp                  Importance: 0.040810731703104466\n",
            "Feature:  key_Scale C                        Importance: 0.0362286651705177\n",
            "Feature:  key_Scale D Sharp                  Importance: 0.03475911920561819\n",
            "Feature:  loudness                           Importance: 0.007521919076645631\n",
            "Feature:  liveness                           Importance: 0.007181429298728077\n",
            "Feature:  speechiness                        Importance: 0.00566168028538612\n",
            "Feature:  energy                             Importance: 0.005280603670441408\n",
            "Feature:  instrumentalness                   Importance: 0.005275966491977299\n",
            "Feature:  valence                            Importance: 0.005266110427055583\n",
            "Feature:  mode_Major                         Importance: 0.00453225741043088\n",
            "Feature:  duration_ms                        Importance: 0.004510350926974961\n",
            "Feature:  tempo                              Importance: 0.004281633389676378\n",
            "Feature:  voice_gender_Male                  Importance: 0.003891875125982334\n",
            "Feature:  musician_category_Solo             Importance: 0.0038202256165557223\n",
            "Feature:  acousticness                       Importance: 0.0037599540732637855\n",
            "Feature:  voice_gender_Female                Importance: 0.0037306142019913444\n",
            "Feature:  mode_Minor                         Importance: 0.0037271632513812304\n",
            "Feature:  key_Scale G Sharp                  Importance: 0.003628029533980992\n",
            "Feature:  musician_category_Duet             Importance: 0.0035261782445564108\n",
            "Feature:  voice_gender_Both                  Importance: 0.003311267508929638\n",
            "Feature:  popularity                         Importance: 0.0031745564806106626\n",
            "Feature:  danceability                       Importance: 0.003080176533776865\n",
            "Feature:  musician_category_Band             Importance: 0.0023758994947141693\n"
          ]
        },
        {
          "data": {
            "text/plain": [
              "[None,\n",
              " None,\n",
              " None,\n",
              " None,\n",
              " None,\n",
              " None,\n",
              " None,\n",
              " None,\n",
              " None,\n",
              " None,\n",
              " None,\n",
              " None,\n",
              " None,\n",
              " None,\n",
              " None,\n",
              " None,\n",
              " None,\n",
              " None,\n",
              " None,\n",
              " None,\n",
              " None,\n",
              " None,\n",
              " None,\n",
              " None,\n",
              " None,\n",
              " None,\n",
              " None,\n",
              " None,\n",
              " None,\n",
              " None,\n",
              " None]"
            ]
          },
          "execution_count": 354,
          "metadata": {},
          "output_type": "execute_result"
        }
      ],
      "source": [
        "feature_importances = list(zip(cols, rf_classifier.feature_importances_))\n",
        "# Then sort the feature importances by most important first\n",
        "feature_importances_ranked = sorted(feature_importances, key = lambda x: x[1], reverse = True)\n",
        "# Print out the feature and importances\n",
        "[print('Feature: {:35} Importance: {}'.format(*pair)) for pair in feature_importances_ranked]"
      ]
    },
    {
      "cell_type": "code",
      "execution_count": null,
      "metadata": {},
      "outputs": [
        {
          "data": {
            "image/png": "[encoded data removed]",
            "text/plain": [
              "<Figure size 720x1008 with 1 Axes>"
            ]
          },
          "metadata": {
            "needs_background": "light"
          },
          "output_type": "display_data"
        }
      ],
      "source": [
        "feature_names_25 = [i[0] for i in feature_importances_ranked[:25]]\n",
        "y_ticks = np.arange(0, len(feature_names_25))\n",
        "x_axis = [i[1] for i in feature_importances_ranked[:25]]\n",
        "plt.figure(figsize = (10, 14))\n",
        "plt.barh(feature_names_25, x_axis)   #horizontal barplot\n",
        "plt.title('Random Forest Feature Importance (Top 25)',\n",
        "          fontdict= {'fontname':'Comic Sans MS','fontsize' : 20})\n",
        "plt.xlabel('Features',fontdict= {'fontsize' : 16})\n",
        "plt.show()"
      ]
    },
    {
      "cell_type": "markdown",
      "metadata": {},
      "source": [
        "## Gradient Boosting Classifier "
      ]
    },
    {
      "cell_type": "code",
      "execution_count": null,
      "metadata": {},
      "outputs": [],
      "source": [
        "from sklearn.ensemble import GradientBoostingClassifier # gbm\n",
        "\n",
        "gb = GradientBoostingClassifier()\n",
        "gb = gb.fit(X_test,Y_test)"
      ]
    },
    {
      "cell_type": "code",
      "execution_count": null,
      "metadata": {},
      "outputs": [],
      "source": [
        "y_pred_gb = gb.predict(X_test)"
      ]
    },
    {
      "cell_type": "code",
      "execution_count": null,
      "metadata": {},
      "outputs": [
        {
          "name": "stdout",
          "output_type": "stream",
          "text": [
            "0.9667942235247596\n"
          ]
        }
      ],
      "source": [
        "f1_score_gb = metrics.f1_score(Y_test,y_pred_gb, average='weighted')\n",
        "print(f1_score_gb)"
      ]
    },
    {
      "cell_type": "code",
      "execution_count": null,
      "metadata": {},
      "outputs": [
        {
          "name": "stdout",
          "output_type": "stream",
          "text": [
            "0.9989201761658971\n"
          ]
        }
      ],
      "source": [
        "roc_auc_score_gb = roc_auc_score(Y_test,y_score=gb.predict_proba(X_test), multi_class='ovr')\n",
        "print(roc_auc_score_gb)"
      ]
    },
    {
      "cell_type": "code",
      "execution_count": null,
      "metadata": {},
      "outputs": [
        {
          "name": "stdout",
          "output_type": "stream",
          "text": [
            "              precision    recall  f1-score   support\n",
            "\n",
            "           0       0.99      0.98      0.99       521\n",
            "           1       0.99      0.96      0.97        90\n",
            "           2       1.00      0.94      0.97        77\n",
            "           3       1.00      0.96      0.98        55\n",
            "           4       0.97      0.97      0.97       393\n",
            "           5       0.97      0.94      0.95       385\n",
            "           6       0.93      0.97      0.95       463\n",
            "\n",
            "    accuracy                           0.97      1984\n",
            "   macro avg       0.98      0.96      0.97      1984\n",
            "weighted avg       0.97      0.97      0.97      1984\n",
            "\n"
          ]
        }
      ],
      "source": [
        "print(classification_report(Y_test,y_pred_gb))"
      ]
    },
    {
      "cell_type": "code",
      "execution_count": null,
      "metadata": {},
      "outputs": [
        {
          "name": "stdout",
          "output_type": "stream",
          "text": [
            "Feature:  key_Scale A                        Importance: 0.25444407040074213\n",
            "Feature:  key_Scale A Sharp                  Importance: 0.2092855115489209\n",
            "Feature:  key_Scale F                        Importance: 0.14613992347084717\n",
            "Feature:  key_Scale B                        Importance: 0.12179965176989153\n",
            "Feature:  key_Scale E                        Importance: 0.09796307343193186\n",
            "Feature:  key_Scale D                        Importance: 0.04674929773557633\n",
            "Feature:  key_Scale G                        Importance: 0.04260291885696003\n",
            "Feature:  key_Scale C Sharp                  Importance: 0.024735980344314432\n",
            "Feature:  key_Scale F Sharp                  Importance: 0.019156893703836955\n",
            "Feature:  key_Scale C                        Importance: 0.016080872985961944\n",
            "Feature:  key_Scale D Sharp                  Importance: 0.011258967916440018\n",
            "Feature:  loudness                           Importance: 0.0017710333310403373\n",
            "Feature:  danceability                       Importance: 0.001361150761355287\n",
            "Feature:  mode_Major                         Importance: 0.001076180388639095\n",
            "Feature:  popularity                         Importance: 0.0009885418018032025\n",
            "Feature:  liveness                           Importance: 0.0007228928469550284\n",
            "Feature:  musician_category_Duet             Importance: 0.00054136252059835\n",
            "Feature:  instrumentalness                   Importance: 0.0004939155540575744\n",
            "Feature:  voice_gender_Male                  Importance: 0.0004050934941043001\n",
            "Feature:  acousticness                       Importance: 0.000403383272209081\n",
            "Feature:  voice_gender_Female                Importance: 0.00035377050357048874\n",
            "Feature:  voice_gender_Both                  Importance: 0.00029202723162681185\n",
            "Feature:  key_Scale G Sharp                  Importance: 0.00022372153164312194\n",
            "Feature:  musician_category_Solo             Importance: 0.00019393225239182352\n",
            "Feature:  energy                             Importance: 0.00018097916872940098\n",
            "Feature:  speechiness                        Importance: 0.00017036240744580712\n",
            "Feature:  mode_Minor                         Importance: 0.00015919060025749708\n",
            "Feature:  tempo                              Importance: 0.00015301931751323126\n",
            "Feature:  valence                            Importance: 0.0001394224339534892\n",
            "Feature:  musician_category_Band             Importance: 7.860612396466271e-05\n",
            "Feature:  duration_ms                        Importance: 7.425229271791498e-05\n"
          ]
        },
        {
          "data": {
            "text/plain": [
              "[None,\n",
              " None,\n",
              " None,\n",
              " None,\n",
              " None,\n",
              " None,\n",
              " None,\n",
              " None,\n",
              " None,\n",
              " None,\n",
              " None,\n",
              " None,\n",
              " None,\n",
              " None,\n",
              " None,\n",
              " None,\n",
              " None,\n",
              " None,\n",
              " None,\n",
              " None,\n",
              " None,\n",
              " None,\n",
              " None,\n",
              " None,\n",
              " None,\n",
              " None,\n",
              " None,\n",
              " None,\n",
              " None,\n",
              " None,\n",
              " None]"
            ]
          },
          "execution_count": 352,
          "metadata": {},
          "output_type": "execute_result"
        }
      ],
      "source": [
        "feature_importances = list(zip(cols, gb.feature_importances_))\n",
        "# Then sort the feature importances by most important first\n",
        "feature_importances_ranked = sorted(feature_importances, key = lambda x: x[1], reverse = True)\n",
        "# Print out the feature and importances\n",
        "[print('Feature: {:35} Importance: {}'.format(*pair)) for pair in feature_importances_ranked]"
      ]
    },
    {
      "cell_type": "code",
      "execution_count": null,
      "metadata": {},
      "outputs": [
        {
          "data": {
            "image/png": "[encoded data removed]",
            "text/plain": [
              "<Figure size 720x1008 with 1 Axes>"
            ]
          },
          "metadata": {
            "needs_background": "light"
          },
          "output_type": "display_data"
        }
      ],
      "source": [
        "feature_names_25 = [i[0] for i in feature_importances_ranked[:25]]\n",
        "y_ticks = np.arange(0, len(feature_names_25))\n",
        "x_axis = [i[1] for i in feature_importances_ranked[:25]]\n",
        "plt.figure(figsize = (10, 14))\n",
        "plt.barh(feature_names_25, x_axis)   #horizontal barplot\n",
        "plt.title('Gradient Boosting Classifier Importance (Top 25)',\n",
        "          fontdict= {'fontname':'Comic Sans MS','fontsize' : 20})\n",
        "plt.xlabel('Features',fontdict= {'fontsize' : 16})\n",
        "plt.show()"
      ]
    },
    {
      "cell_type": "code",
      "execution_count": null,
      "metadata": {},
      "outputs": [],
      "source": [
        "parameters = {\n",
        "    \"n_estimators\":[5,50,250,500],\n",
        "    \"max_depth\":[1,3,5,7,9],\n",
        "    \"learning_rate\":[0.01,0.1,1,10,100]\n",
        "}"
      ]
    },
    {
      "cell_type": "code",
      "execution_count": null,
      "metadata": {},
      "outputs": [],
      "source": [
        "xg_rand = RandomizedSearchCV(estimator = gb, param_distributions = parameters, n_iter = 100, cv = 3, verbose=2, n_jobs = -1)"
      ]
    },
    {
      "cell_type": "code",
      "execution_count": null,
      "metadata": {},
      "outputs": [
        {
          "name": "stdout",
          "output_type": "stream",
          "text": [
            "Fitting 3 folds for each of 100 candidates, totalling 300 fits\n"
          ]
        },
        {
          "data": {
            "text/plain": [
              "RandomizedSearchCV(cv=3, estimator=GradientBoostingClassifier(), n_iter=100,\n",
              "                   n_jobs=-1,\n",
              "                   param_distributions={'learning_rate': [0.01, 0.1, 1, 10,\n",
              "                                                          100],\n",
              "                                        'max_depth': [1, 3, 5, 7, 9],\n",
              "                                        'n_estimators': [5, 50, 250, 500]},\n",
              "                   verbose=2)"
            ]
          },
          "execution_count": 331,
          "metadata": {},
          "output_type": "execute_result"
        }
      ],
      "source": [
        "xg_rand.fit(X_train,Y_train)"
      ]
    },
    {
      "cell_type": "code",
      "execution_count": null,
      "metadata": {},
      "outputs": [
        {
          "data": {
            "text/plain": [
              "GradientBoostingClassifier(n_estimators=250)"
            ]
          },
          "execution_count": 332,
          "metadata": {},
          "output_type": "execute_result"
        }
      ],
      "source": [
        "xg_rand.best_estimator_"
      ]
    },
    {
      "cell_type": "code",
      "execution_count": null,
      "metadata": {},
      "outputs": [],
      "source": [
        "y_pred_gb = xg_rand.predict(X_test)"
      ]
    },
    {
      "cell_type": "code",
      "execution_count": null,
      "metadata": {},
      "outputs": [
        {
          "name": "stdout",
          "output_type": "stream",
          "text": [
            "0.7632596066696038\n"
          ]
        },
        {
          "data": {
            "text/plain": [
              "0.9372892530954541"
            ]
          },
          "execution_count": 339,
          "metadata": {},
          "output_type": "execute_result"
        }
      ],
      "source": [
        "f1_score_  metrics.f1_score(Y_test,y_pred_gb, average='weighted'))\n",
        "metrics.roc_auc_score(Y_test,y_score= xg_rand.predict_proba(X_test),multi_class='ovr')"
      ]
    },
    {
      "cell_type": "code",
      "execution_count": null,
      "metadata": {},
      "outputs": [
        {
          "name": "stderr",
          "output_type": "stream",
          "text": [
            "C:\\Users\\sasha\\anaconda3\\envs\\tf\\lib\\site-packages\\xgboost\\sklearn.py:1224: UserWarning: The use of label encoder in XGBClassifier is deprecated and will be removed in a future release. To remove this warning, do the following: 1) Pass option use_label_encoder=False when constructing XGBClassifier object; and 2) Encode your labels (y) as integers starting with 0, i.e. 0, 1, 2, ..., [num_class - 1].\n",
            "  warnings.warn(label_encoder_deprecation_msg, UserWarning)\n"
          ]
        },
        {
          "name": "stdout",
          "output_type": "stream",
          "text": [
            "[16:35:38] WARNING: C:/Users/Administrator/workspace/xgboost-win64_release_1.5.1/src/learner.cc:1115: Starting in XGBoost 1.3.0, the default evaluation metric used with the objective 'multi:softprob' was changed from 'merror' to 'mlogloss'. Explicitly set eval_metric if you'd like to restore the old behavior.\n"
          ]
        }
      ],
      "source": [
        "from xgboost import XGBClassifier\n",
        "\n",
        "xg = XGBClassifier()\n",
        "xg = xg.fit(X_train,Y_train)"
      ]
    },
    {
      "cell_type": "code",
      "execution_count": null,
      "metadata": {},
      "outputs": [
        {
          "name": "stdout",
          "output_type": "stream",
          "text": [
            "0.7762283216844295\n",
            "0.9368821488539086\n"
          ]
        }
      ],
      "source": [
        "y_pred_xg = xg.predict(X_test)\n",
        "\n",
        "f1_score_xg = metrics.f1_score(Y_test,y_pred_xg,average=\"weighted\")\n",
        "print(f1_score_xg)\n",
        "roc_auc_score_xg = metrics.roc_auc_score(Y_test,y_score=xg.predict_proba(X_test),multi_class='ovr')\n",
        "print(roc_auc_score_xg)"
      ]
    },
    {
      "cell_type": "code",
      "execution_count": null,
      "metadata": {},
      "outputs": [
        {
          "name": "stdout",
          "output_type": "stream",
          "text": [
            "              precision    recall  f1-score   support\n",
            "\n",
            "           0       0.92      0.92      0.92       521\n",
            "           1       0.73      0.53      0.62        90\n",
            "           2       0.57      0.36      0.44        77\n",
            "           3       0.00      0.00      0.00        55\n",
            "           4       0.77      0.78      0.78       393\n",
            "           5       0.73      0.78      0.76       385\n",
            "           6       0.76      0.87      0.81       463\n",
            "\n",
            "    accuracy                           0.79      1984\n",
            "   macro avg       0.64      0.61      0.62      1984\n",
            "weighted avg       0.77      0.79      0.78      1984\n",
            "\n"
          ]
        }
      ],
      "source": [
        "print(classification_report(Y_test,y_pred_xg))"
      ]
    },
    {
      "cell_type": "code",
      "execution_count": null,
      "metadata": {},
      "outputs": [],
      "source": [
        "model_performance = {\n",
        "    \n",
        "    'Model Name'        : ['Logistic Regression',\n",
        "                           'Classification Trees', \n",
        "                           'Random Forest',\n",
        "                           'Gradient Boosted Models'],\n",
        "           \n",
        "    'AUC Score'         : [roc_auc_score_log, \n",
        "                           roc_auc_score_dtc, \n",
        "                           roc_auc_score_rf_best,\n",
        "                           roc_auc_score_gb\n",
        "                            ],\n",
        "    'F1 Score'          :   [f1_score_log,\n",
        "                            f1_score_dtc,\n",
        "                            f1_score_best_rf,\n",
        "                            f1_score_gb\n",
        "                            ]\n",
        "}"
      ]
    },
    {
      "cell_type": "code",
      "execution_count": null,
      "metadata": {},
      "outputs": [],
      "source": [
        "model_performance = pd.DataFrame(model_performance)\n"
      ]
    },
    {
      "cell_type": "code",
      "execution_count": null,
      "metadata": {},
      "outputs": [
        {
          "data": {
            "text/html": [
              "<div>\n",
              "<style scoped>\n",
              "    .dataframe tbody tr th:only-of-type {\n",
              "        vertical-align: middle;\n",
              "    }\n",
              "\n",
              "    .dataframe tbody tr th {\n",
              "        vertical-align: top;\n",
              "    }\n",
              "\n",
              "    .dataframe thead th {\n",
              "        text-align: right;\n",
              "    }\n",
              "</style>\n",
              "<table border=\"1\" class=\"dataframe\">\n",
              "  <thead>\n",
              "    <tr style=\"text-align: right;\">\n",
              "      <th></th>\n",
              "      <th>Model Name</th>\n",
              "      <th>AUC Score</th>\n",
              "      <th>F1 Score</th>\n",
              "    </tr>\n",
              "  </thead>\n",
              "  <tbody>\n",
              "    <tr>\n",
              "      <th>0</th>\n",
              "      <td>Logistic Regression</td>\n",
              "      <td>0.932817</td>\n",
              "      <td>0.730723</td>\n",
              "    </tr>\n",
              "    <tr>\n",
              "      <th>1</th>\n",
              "      <td>Classification Trees</td>\n",
              "      <td>0.891898</td>\n",
              "      <td>0.716347</td>\n",
              "    </tr>\n",
              "    <tr>\n",
              "      <th>2</th>\n",
              "      <td>Random Forest</td>\n",
              "      <td>0.938102</td>\n",
              "      <td>0.762310</td>\n",
              "    </tr>\n",
              "    <tr>\n",
              "      <th>3</th>\n",
              "      <td>Gradient Boosted Models</td>\n",
              "      <td>0.998920</td>\n",
              "      <td>0.966794</td>\n",
              "    </tr>\n",
              "  </tbody>\n",
              "</table>\n",
              "</div>"
            ],
            "text/plain": [
              "                Model Name  AUC Score  F1 Score\n",
              "0      Logistic Regression   0.932817  0.730723\n",
              "1     Classification Trees   0.891898  0.716347\n",
              "2            Random Forest   0.938102  0.762310\n",
              "3  Gradient Boosted Models   0.998920  0.966794"
            ]
          },
          "execution_count": 351,
          "metadata": {},
          "output_type": "execute_result"
        }
      ],
      "source": [
        "model_performance\n"
      ]
    }
  ],
  "metadata": {
    "colab": {
      "collapsed_sections": [],
      "name": "Eli_Lilly.ipynb",
      "provenance": []
    },
    "kernelspec": {
      "display_name": "Python 3",
      "name": "python3"
    },
    "language_info": {
      "codemirror_mode": {
        "name": "ipython",
        "version": 3
      },
      "file_extension": ".py",
      "mimetype": "text/x-python",
      "name": "python",
      "nbconvert_exporter": "python",
      "pygments_lexer": "ipython3",
      "version": "3.9.7"
    }
  },
  "nbformat": 4,
  "nbformat_minor": 0
}
