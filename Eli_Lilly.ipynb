{
  "cells": [
    {
      "cell_type": "code",
      "execution_count": 1,
      "metadata": {
        "id": "kAM7s8wwaw8V"
      },
      "outputs": [],
      "source": [
        "import pandas as pd\n",
        "import numpy as np\n",
        "import matplotlib.pyplot as plt\n",
        "from sklearn.metrics import accuracy_score, confusion_matrix, precision_score, recall_score, roc_auc_score, roc_curve, f1_score\n",
        "from pprint import pprint"
      ]
    },
    {
      "cell_type": "code",
      "execution_count": 2,
      "metadata": {
        "colab": {
          "base_uri": "https://localhost:8080/"
        },
        "id": "kECFuFOSa53z",
        "outputId": "203b928f-e82f-40e8-9ddc-0ee1854a835a"
      },
      "outputs": [],
      "source": [
        "# from google.colab import drive\n",
        "# drive.mount('/content/drive')\n",
        "# df = pd.read_csv(\"/content/drive/MyDrive/Eli Lilly/data/dataset/train.csv\")"
      ]
    },
    {
      "cell_type": "code",
      "execution_count": 3,
      "metadata": {
        "id": "N7R9uqD4cFVG"
      },
      "outputs": [],
      "source": [
        "df = pd.read_csv(\"D:/Sashank/Music Data/train.csv\")"
      ]
    },
    {
      "cell_type": "markdown",
      "metadata": {
        "id": "N73gBiY4wiWl"
      },
      "source": []
    },
    {
      "cell_type": "code",
      "execution_count": 4,
      "metadata": {
        "colab": {
          "base_uri": "https://localhost:8080/"
        },
        "id": "wVEbU0XXcL9S",
        "outputId": "16adf633-4f82-40ff-b71b-38955764be48"
      },
      "outputs": [
        {
          "name": "stdout",
          "output_type": "stream",
          "text": [
            "<class 'pandas.core.frame.DataFrame'>\n",
            "RangeIndex: 15681 entries, 0 to 15680\n",
            "Data columns (total 18 columns):\n",
            " #   Column             Non-Null Count  Dtype  \n",
            "---  ------             --------------  -----  \n",
            " 0   instance_id        15681 non-null  object \n",
            " 1   track_name         15681 non-null  object \n",
            " 2   popularity         15039 non-null  float64\n",
            " 3   acousticness       15681 non-null  float64\n",
            " 4   danceability       15125 non-null  float64\n",
            " 5   duration_ms        15587 non-null  float64\n",
            " 6   energy             15587 non-null  float64\n",
            " 7   instrumentalness   15586 non-null  float64\n",
            " 8   key                15681 non-null  object \n",
            " 9   liveness           15681 non-null  float64\n",
            " 10  loudness           15645 non-null  float64\n",
            " 11  voice_gender       14916 non-null  object \n",
            " 12  mode               15646 non-null  object \n",
            " 13  speechiness        15655 non-null  float64\n",
            " 14  tempo              15681 non-null  object \n",
            " 15  musician_category  14321 non-null  object \n",
            " 16  valence            15004 non-null  float64\n",
            " 17  music_genre        15681 non-null  object \n",
            "dtypes: float64(10), object(8)\n",
            "memory usage: 2.2+ MB\n"
          ]
        }
      ],
      "source": [
        "df.info(verbose=True)"
      ]
    },
    {
      "cell_type": "code",
      "execution_count": 5,
      "metadata": {
        "id": "04wLfQAolEH2"
      },
      "outputs": [],
      "source": [
        "#Dropping NaN Rows from data set \n",
        "df1 = df.copy(deep=True)"
      ]
    },
    {
      "cell_type": "code",
      "execution_count": 6,
      "metadata": {
        "colab": {
          "base_uri": "https://localhost:8080/"
        },
        "id": "VXlBfbfcQjss",
        "outputId": "751924dc-3d9d-4fc0-c2c6-f7e53f59c2e2"
      },
      "outputs": [
        {
          "data": {
            "text/plain": [
              "instance_id          False\n",
              "track_name           False\n",
              "popularity            True\n",
              "acousticness         False\n",
              "danceability          True\n",
              "duration_ms           True\n",
              "energy                True\n",
              "instrumentalness      True\n",
              "key                  False\n",
              "liveness             False\n",
              "loudness              True\n",
              "voice_gender          True\n",
              "mode                  True\n",
              "speechiness           True\n",
              "tempo                False\n",
              "musician_category     True\n",
              "valence               True\n",
              "music_genre          False\n",
              "dtype: bool"
            ]
          },
          "execution_count": 6,
          "metadata": {},
          "output_type": "execute_result"
        }
      ],
      "source": [
        "df.isna().any()"
      ]
    },
    {
      "cell_type": "code",
      "execution_count": 7,
      "metadata": {
        "id": "B7t9hqGglELY"
      },
      "outputs": [],
      "source": [
        "df1.dropna(axis=0,how=\"any\",inplace=True)\n"
      ]
    },
    {
      "cell_type": "code",
      "execution_count": 8,
      "metadata": {
        "colab": {
          "base_uri": "https://localhost:8080/"
        },
        "id": "QK7mP6jaTot2",
        "outputId": "d4ed3df6-24af-40f4-cc06-2dd7b13eca62"
      },
      "outputs": [
        {
          "data": {
            "text/plain": [
              "instance_id          False\n",
              "track_name           False\n",
              "popularity           False\n",
              "acousticness         False\n",
              "danceability         False\n",
              "duration_ms          False\n",
              "energy               False\n",
              "instrumentalness     False\n",
              "key                  False\n",
              "liveness             False\n",
              "loudness             False\n",
              "voice_gender         False\n",
              "mode                 False\n",
              "speechiness          False\n",
              "tempo                False\n",
              "musician_category    False\n",
              "valence              False\n",
              "music_genre          False\n",
              "dtype: bool"
            ]
          },
          "execution_count": 8,
          "metadata": {},
          "output_type": "execute_result"
        }
      ],
      "source": [
        "df1.isna().any()"
      ]
    },
    {
      "cell_type": "code",
      "execution_count": 9,
      "metadata": {
        "colab": {
          "base_uri": "https://localhost:8080/"
        },
        "id": "_hVdCeU8lEN8",
        "outputId": "c23de7be-91f4-4aed-973c-1b786a3776b5"
      },
      "outputs": [
        {
          "name": "stdout",
          "output_type": "stream",
          "text": [
            "(15681, 18) (11756, 18)\n"
          ]
        }
      ],
      "source": [
        "print(df.shape,df1.shape)"
      ]
    },
    {
      "cell_type": "code",
      "execution_count": 10,
      "metadata": {
        "id": "mSg4ISwIph3x"
      },
      "outputs": [],
      "source": [
        "df_mode = df1[\"mode\"]"
      ]
    },
    {
      "cell_type": "code",
      "execution_count": 11,
      "metadata": {
        "id": "GotM-5thph6x"
      },
      "outputs": [],
      "source": [
        "df1.replace(\"?\",np.nan, inplace=True)"
      ]
    },
    {
      "cell_type": "code",
      "execution_count": 12,
      "metadata": {
        "colab": {
          "base_uri": "https://localhost:8080/"
        },
        "id": "ktOy5oZXph9e",
        "outputId": "a561df22-4359-405b-b988-1f17b07d98dc"
      },
      "outputs": [
        {
          "name": "stdout",
          "output_type": "stream",
          "text": [
            "<class 'pandas.core.frame.DataFrame'>\n",
            "Int64Index: 11756 entries, 1 to 15680\n",
            "Data columns (total 18 columns):\n",
            " #   Column             Non-Null Count  Dtype  \n",
            "---  ------             --------------  -----  \n",
            " 0   instance_id        11756 non-null  object \n",
            " 1   track_name         11756 non-null  object \n",
            " 2   popularity         11756 non-null  float64\n",
            " 3   acousticness       11756 non-null  float64\n",
            " 4   danceability       11756 non-null  float64\n",
            " 5   duration_ms        11756 non-null  float64\n",
            " 6   energy             11756 non-null  float64\n",
            " 7   instrumentalness   11756 non-null  float64\n",
            " 8   key                11756 non-null  object \n",
            " 9   liveness           11756 non-null  float64\n",
            " 10  loudness           11756 non-null  float64\n",
            " 11  voice_gender       11756 non-null  object \n",
            " 12  mode               10938 non-null  object \n",
            " 13  speechiness        11756 non-null  float64\n",
            " 14  tempo              10653 non-null  object \n",
            " 15  musician_category  11756 non-null  object \n",
            " 16  valence            11756 non-null  float64\n",
            " 17  music_genre        11756 non-null  object \n",
            "dtypes: float64(10), object(8)\n",
            "memory usage: 1.7+ MB\n"
          ]
        }
      ],
      "source": [
        "df1.info()"
      ]
    },
    {
      "cell_type": "code",
      "execution_count": 13,
      "metadata": {
        "id": "TN6ANiQXbnWA"
      },
      "outputs": [],
      "source": [
        "df1.dropna(axis=0,how=\"any\",inplace=True)\n"
      ]
    },
    {
      "cell_type": "code",
      "execution_count": 14,
      "metadata": {
        "colab": {
          "base_uri": "https://localhost:8080/"
        },
        "id": "bo9qzSqSbnYq",
        "outputId": "8e30cd4e-548d-4970-e115-f75c42f34b2e"
      },
      "outputs": [
        {
          "name": "stdout",
          "output_type": "stream",
          "text": [
            "<class 'pandas.core.frame.DataFrame'>\n",
            "Int64Index: 9919 entries, 2 to 15680\n",
            "Data columns (total 18 columns):\n",
            " #   Column             Non-Null Count  Dtype  \n",
            "---  ------             --------------  -----  \n",
            " 0   instance_id        9919 non-null   object \n",
            " 1   track_name         9919 non-null   object \n",
            " 2   popularity         9919 non-null   float64\n",
            " 3   acousticness       9919 non-null   float64\n",
            " 4   danceability       9919 non-null   float64\n",
            " 5   duration_ms        9919 non-null   float64\n",
            " 6   energy             9919 non-null   float64\n",
            " 7   instrumentalness   9919 non-null   float64\n",
            " 8   key                9919 non-null   object \n",
            " 9   liveness           9919 non-null   float64\n",
            " 10  loudness           9919 non-null   float64\n",
            " 11  voice_gender       9919 non-null   object \n",
            " 12  mode               9919 non-null   object \n",
            " 13  speechiness        9919 non-null   float64\n",
            " 14  tempo              9919 non-null   object \n",
            " 15  musician_category  9919 non-null   object \n",
            " 16  valence            9919 non-null   float64\n",
            " 17  music_genre        9919 non-null   object \n",
            "dtypes: float64(10), object(8)\n",
            "memory usage: 1.4+ MB\n"
          ]
        }
      ],
      "source": [
        "df1.info()"
      ]
    },
    {
      "cell_type": "code",
      "execution_count": 15,
      "metadata": {
        "colab": {
          "base_uri": "https://localhost:8080/"
        },
        "id": "_Hbu1nU6PRr-",
        "outputId": "bf210ee8-ad33-4937-b885-cc749acf920d"
      },
      "outputs": [
        {
          "data": {
            "text/plain": [
              "2        105.01799999999999\n",
              "4        112.18299999999999\n",
              "6        104.95700000000001\n",
              "8        176.64700000000002\n",
              "9                   117.155\n",
              "                ...        \n",
              "15675                73.166\n",
              "15676               123.516\n",
              "15677               129.445\n",
              "15679    116.07700000000001\n",
              "15680                  94.2\n",
              "Name: tempo, Length: 9919, dtype: object"
            ]
          },
          "execution_count": 15,
          "metadata": {},
          "output_type": "execute_result"
        }
      ],
      "source": [
        "df1[\"tempo\"]"
      ]
    },
    {
      "cell_type": "code",
      "execution_count": 16,
      "metadata": {
        "id": "cdTen1VjOOzu"
      },
      "outputs": [],
      "source": [
        "s = df1[\"tempo\"] \n",
        "s = pd.to_numeric(s)"
      ]
    },
    {
      "cell_type": "code",
      "execution_count": 17,
      "metadata": {
        "id": "5v88XekJPvGq"
      },
      "outputs": [],
      "source": [
        "df1[\"tempo\"] = s"
      ]
    },
    {
      "cell_type": "code",
      "execution_count": 18,
      "metadata": {
        "colab": {
          "base_uri": "https://localhost:8080/"
        },
        "id": "7_VfIfAcOtnb",
        "outputId": "c30b9b5a-4438-47af-cfd5-50da84dde11d"
      },
      "outputs": [
        {
          "data": {
            "text/plain": [
              "2        105.018\n",
              "4        112.183\n",
              "6        104.957\n",
              "8        176.647\n",
              "9        117.155\n",
              "          ...   \n",
              "15675     73.166\n",
              "15676    123.516\n",
              "15677    129.445\n",
              "15679    116.077\n",
              "15680     94.200\n",
              "Name: tempo, Length: 9919, dtype: float64"
            ]
          },
          "execution_count": 18,
          "metadata": {},
          "output_type": "execute_result"
        }
      ],
      "source": [
        "df1[\"tempo\"]"
      ]
    },
    {
      "cell_type": "code",
      "execution_count": 19,
      "metadata": {
        "id": "IvUS2VciK1CK"
      },
      "outputs": [],
      "source": [
        "mylist = list(df1.select_dtypes(include=['object']).columns)"
      ]
    },
    {
      "cell_type": "code",
      "execution_count": 20,
      "metadata": {
        "colab": {
          "base_uri": "https://localhost:8080/"
        },
        "id": "69o4G8qa33Pe",
        "outputId": "2c8804db-8296-40b0-b759-d2b0b6a73c90"
      },
      "outputs": [
        {
          "data": {
            "text/plain": [
              "['instance_id',\n",
              " 'track_name',\n",
              " 'key',\n",
              " 'voice_gender',\n",
              " 'mode',\n",
              " 'musician_category',\n",
              " 'music_genre']"
            ]
          },
          "execution_count": 20,
          "metadata": {},
          "output_type": "execute_result"
        }
      ],
      "source": [
        "mylist\n",
        "\n"
      ]
    },
    {
      "cell_type": "code",
      "execution_count": 21,
      "metadata": {
        "id": "6zifoJsm35kC"
      },
      "outputs": [],
      "source": [
        "df1 = df1.drop(columns=['instance_id','track_name'])"
      ]
    },
    {
      "cell_type": "code",
      "execution_count": 22,
      "metadata": {
        "colab": {
          "base_uri": "https://localhost:8080/",
          "height": 713
        },
        "id": "qqb7UxUB4KPT",
        "outputId": "043ec664-270d-49d2-b9ec-3c5b491a8752"
      },
      "outputs": [
        {
          "data": {
            "text/html": [
              "<div>\n",
              "<style scoped>\n",
              "    .dataframe tbody tr th:only-of-type {\n",
              "        vertical-align: middle;\n",
              "    }\n",
              "\n",
              "    .dataframe tbody tr th {\n",
              "        vertical-align: top;\n",
              "    }\n",
              "\n",
              "    .dataframe thead th {\n",
              "        text-align: right;\n",
              "    }\n",
              "</style>\n",
              "<table border=\"1\" class=\"dataframe\">\n",
              "  <thead>\n",
              "    <tr style=\"text-align: right;\">\n",
              "      <th></th>\n",
              "      <th>popularity</th>\n",
              "      <th>acousticness</th>\n",
              "      <th>danceability</th>\n",
              "      <th>duration_ms</th>\n",
              "      <th>energy</th>\n",
              "      <th>instrumentalness</th>\n",
              "      <th>key</th>\n",
              "      <th>liveness</th>\n",
              "      <th>loudness</th>\n",
              "      <th>voice_gender</th>\n",
              "      <th>mode</th>\n",
              "      <th>speechiness</th>\n",
              "      <th>tempo</th>\n",
              "      <th>musician_category</th>\n",
              "      <th>valence</th>\n",
              "      <th>music_genre</th>\n",
              "    </tr>\n",
              "  </thead>\n",
              "  <tbody>\n",
              "    <tr>\n",
              "      <th>2</th>\n",
              "      <td>89.023</td>\n",
              "      <td>0.020041</td>\n",
              "      <td>0.967948</td>\n",
              "      <td>273314.723</td>\n",
              "      <td>0.857411</td>\n",
              "      <td>0.000000</td>\n",
              "      <td>Scale D</td>\n",
              "      <td>0.042030</td>\n",
              "      <td>-4.995</td>\n",
              "      <td>Female</td>\n",
              "      <td>Major</td>\n",
              "      <td>0.119917</td>\n",
              "      <td>105.018</td>\n",
              "      <td>Band</td>\n",
              "      <td>0.635525</td>\n",
              "      <td>Rap</td>\n",
              "    </tr>\n",
              "    <tr>\n",
              "      <th>4</th>\n",
              "      <td>45.095</td>\n",
              "      <td>0.858769</td>\n",
              "      <td>0.280645</td>\n",
              "      <td>410136.987</td>\n",
              "      <td>0.114732</td>\n",
              "      <td>0.002753</td>\n",
              "      <td>Scale F Sharp</td>\n",
              "      <td>0.134782</td>\n",
              "      <td>-26.922</td>\n",
              "      <td>Female</td>\n",
              "      <td>Minor</td>\n",
              "      <td>0.039139</td>\n",
              "      <td>112.183</td>\n",
              "      <td>Band</td>\n",
              "      <td>0.074412</td>\n",
              "      <td>Classical</td>\n",
              "    </tr>\n",
              "    <tr>\n",
              "      <th>6</th>\n",
              "      <td>64.265</td>\n",
              "      <td>0.000459</td>\n",
              "      <td>0.968723</td>\n",
              "      <td>203145.857</td>\n",
              "      <td>-1.000000</td>\n",
              "      <td>0.000384</td>\n",
              "      <td>Scale C Sharp</td>\n",
              "      <td>0.079220</td>\n",
              "      <td>-7.266</td>\n",
              "      <td>Male</td>\n",
              "      <td>Major</td>\n",
              "      <td>0.052014</td>\n",
              "      <td>104.957</td>\n",
              "      <td>Band</td>\n",
              "      <td>0.484246</td>\n",
              "      <td>Rap</td>\n",
              "    </tr>\n",
              "    <tr>\n",
              "      <th>8</th>\n",
              "      <td>73.420</td>\n",
              "      <td>0.090830</td>\n",
              "      <td>0.380147</td>\n",
              "      <td>275490.630</td>\n",
              "      <td>0.714246</td>\n",
              "      <td>0.000000</td>\n",
              "      <td>Scale A</td>\n",
              "      <td>0.089873</td>\n",
              "      <td>-5.972</td>\n",
              "      <td>Both</td>\n",
              "      <td>Major</td>\n",
              "      <td>0.070437</td>\n",
              "      <td>176.647</td>\n",
              "      <td>Duet</td>\n",
              "      <td>0.555169</td>\n",
              "      <td>Rock</td>\n",
              "    </tr>\n",
              "    <tr>\n",
              "      <th>9</th>\n",
              "      <td>34.034</td>\n",
              "      <td>1.014646</td>\n",
              "      <td>0.672051</td>\n",
              "      <td>207299.190</td>\n",
              "      <td>0.048039</td>\n",
              "      <td>0.146346</td>\n",
              "      <td>Scale A Sharp</td>\n",
              "      <td>0.110850</td>\n",
              "      <td>-27.213</td>\n",
              "      <td>Both</td>\n",
              "      <td>Major</td>\n",
              "      <td>0.065935</td>\n",
              "      <td>117.155</td>\n",
              "      <td>Duet</td>\n",
              "      <td>0.590628</td>\n",
              "      <td>Jazz</td>\n",
              "    </tr>\n",
              "    <tr>\n",
              "      <th>...</th>\n",
              "      <td>...</td>\n",
              "      <td>...</td>\n",
              "      <td>...</td>\n",
              "      <td>...</td>\n",
              "      <td>...</td>\n",
              "      <td>...</td>\n",
              "      <td>...</td>\n",
              "      <td>...</td>\n",
              "      <td>...</td>\n",
              "      <td>...</td>\n",
              "      <td>...</td>\n",
              "      <td>...</td>\n",
              "      <td>...</td>\n",
              "      <td>...</td>\n",
              "      <td>...</td>\n",
              "      <td>...</td>\n",
              "    </tr>\n",
              "    <tr>\n",
              "      <th>15675</th>\n",
              "      <td>28.318</td>\n",
              "      <td>1.054190</td>\n",
              "      <td>0.136130</td>\n",
              "      <td>188388.500</td>\n",
              "      <td>0.042151</td>\n",
              "      <td>1.024128</td>\n",
              "      <td>Scale G</td>\n",
              "      <td>0.135912</td>\n",
              "      <td>-29.236</td>\n",
              "      <td>Female</td>\n",
              "      <td>Major</td>\n",
              "      <td>0.057739</td>\n",
              "      <td>73.166</td>\n",
              "      <td>Solo</td>\n",
              "      <td>0.040686</td>\n",
              "      <td>Classical</td>\n",
              "    </tr>\n",
              "    <tr>\n",
              "      <th>15676</th>\n",
              "      <td>0.000</td>\n",
              "      <td>0.866988</td>\n",
              "      <td>0.387476</td>\n",
              "      <td>-1.000</td>\n",
              "      <td>0.196799</td>\n",
              "      <td>0.028725</td>\n",
              "      <td>Scale B</td>\n",
              "      <td>0.248399</td>\n",
              "      <td>-16.331</td>\n",
              "      <td>Female</td>\n",
              "      <td>Major</td>\n",
              "      <td>0.045251</td>\n",
              "      <td>123.516</td>\n",
              "      <td>Band</td>\n",
              "      <td>0.624518</td>\n",
              "      <td>Classical</td>\n",
              "    </tr>\n",
              "    <tr>\n",
              "      <th>15677</th>\n",
              "      <td>40.514</td>\n",
              "      <td>0.883333</td>\n",
              "      <td>0.459917</td>\n",
              "      <td>378128.464</td>\n",
              "      <td>0.349263</td>\n",
              "      <td>0.000519</td>\n",
              "      <td>Scale F</td>\n",
              "      <td>0.681492</td>\n",
              "      <td>-25.087</td>\n",
              "      <td>Both</td>\n",
              "      <td>Major</td>\n",
              "      <td>0.448377</td>\n",
              "      <td>129.445</td>\n",
              "      <td>Duet</td>\n",
              "      <td>0.609022</td>\n",
              "      <td>Jazz</td>\n",
              "    </tr>\n",
              "    <tr>\n",
              "      <th>15679</th>\n",
              "      <td>59.693</td>\n",
              "      <td>0.113408</td>\n",
              "      <td>0.644554</td>\n",
              "      <td>151226.592</td>\n",
              "      <td>0.912201</td>\n",
              "      <td>0.000089</td>\n",
              "      <td>Scale F</td>\n",
              "      <td>0.166336</td>\n",
              "      <td>-7.257</td>\n",
              "      <td>Both</td>\n",
              "      <td>Minor</td>\n",
              "      <td>0.060308</td>\n",
              "      <td>116.077</td>\n",
              "      <td>Duet</td>\n",
              "      <td>0.402700</td>\n",
              "      <td>Rock</td>\n",
              "    </tr>\n",
              "    <tr>\n",
              "      <th>15680</th>\n",
              "      <td>56.518</td>\n",
              "      <td>0.847136</td>\n",
              "      <td>0.502160</td>\n",
              "      <td>190735.191</td>\n",
              "      <td>0.470057</td>\n",
              "      <td>0.502878</td>\n",
              "      <td>Scale F</td>\n",
              "      <td>0.143114</td>\n",
              "      <td>-11.043</td>\n",
              "      <td>Female</td>\n",
              "      <td>Major</td>\n",
              "      <td>0.029906</td>\n",
              "      <td>94.200</td>\n",
              "      <td>Solo</td>\n",
              "      <td>0.358777</td>\n",
              "      <td>Classical</td>\n",
              "    </tr>\n",
              "  </tbody>\n",
              "</table>\n",
              "<p>9919 rows × 16 columns</p>\n",
              "</div>"
            ],
            "text/plain": [
              "       popularity  acousticness  danceability  duration_ms    energy  \\\n",
              "2          89.023      0.020041      0.967948   273314.723  0.857411   \n",
              "4          45.095      0.858769      0.280645   410136.987  0.114732   \n",
              "6          64.265      0.000459      0.968723   203145.857 -1.000000   \n",
              "8          73.420      0.090830      0.380147   275490.630  0.714246   \n",
              "9          34.034      1.014646      0.672051   207299.190  0.048039   \n",
              "...           ...           ...           ...          ...       ...   \n",
              "15675      28.318      1.054190      0.136130   188388.500  0.042151   \n",
              "15676       0.000      0.866988      0.387476       -1.000  0.196799   \n",
              "15677      40.514      0.883333      0.459917   378128.464  0.349263   \n",
              "15679      59.693      0.113408      0.644554   151226.592  0.912201   \n",
              "15680      56.518      0.847136      0.502160   190735.191  0.470057   \n",
              "\n",
              "       instrumentalness            key  liveness  loudness voice_gender  \\\n",
              "2              0.000000        Scale D  0.042030    -4.995       Female   \n",
              "4              0.002753  Scale F Sharp  0.134782   -26.922       Female   \n",
              "6              0.000384  Scale C Sharp  0.079220    -7.266         Male   \n",
              "8              0.000000        Scale A  0.089873    -5.972         Both   \n",
              "9              0.146346  Scale A Sharp  0.110850   -27.213         Both   \n",
              "...                 ...            ...       ...       ...          ...   \n",
              "15675          1.024128        Scale G  0.135912   -29.236       Female   \n",
              "15676          0.028725        Scale B  0.248399   -16.331       Female   \n",
              "15677          0.000519        Scale F  0.681492   -25.087         Both   \n",
              "15679          0.000089        Scale F  0.166336    -7.257         Both   \n",
              "15680          0.502878        Scale F  0.143114   -11.043       Female   \n",
              "\n",
              "        mode  speechiness    tempo musician_category   valence music_genre  \n",
              "2      Major     0.119917  105.018              Band  0.635525         Rap  \n",
              "4      Minor     0.039139  112.183              Band  0.074412   Classical  \n",
              "6      Major     0.052014  104.957              Band  0.484246         Rap  \n",
              "8      Major     0.070437  176.647              Duet  0.555169        Rock  \n",
              "9      Major     0.065935  117.155              Duet  0.590628        Jazz  \n",
              "...      ...          ...      ...               ...       ...         ...  \n",
              "15675  Major     0.057739   73.166              Solo  0.040686   Classical  \n",
              "15676  Major     0.045251  123.516              Band  0.624518   Classical  \n",
              "15677  Major     0.448377  129.445              Duet  0.609022        Jazz  \n",
              "15679  Minor     0.060308  116.077              Duet  0.402700        Rock  \n",
              "15680  Major     0.029906   94.200              Solo  0.358777   Classical  \n",
              "\n",
              "[9919 rows x 16 columns]"
            ]
          },
          "execution_count": 22,
          "metadata": {},
          "output_type": "execute_result"
        }
      ],
      "source": [
        "df1"
      ]
    },
    {
      "cell_type": "code",
      "execution_count": 23,
      "metadata": {
        "id": "5YVZYGySmlvo"
      },
      "outputs": [],
      "source": [
        "from sklearn.compose import make_column_selector as selector\n",
        "numerical_columns_selector = selector(dtype_exclude=object)\n",
        "categorical_columns_selector = selector(dtype_include=object)"
      ]
    },
    {
      "cell_type": "code",
      "execution_count": 24,
      "metadata": {
        "id": "YZ8fyKgjmutq"
      },
      "outputs": [],
      "source": [
        "X = df1.iloc[ : , :-1]\n",
        "X.shape\n",
        "Y = df1[\"music_genre\"]"
      ]
    },
    {
      "cell_type": "code",
      "execution_count": 25,
      "metadata": {},
      "outputs": [],
      "source": [
        "from sklearn.preprocessing import LabelEncoder\n",
        "lb = LabelEncoder()\n",
        "target= lb.fit_transform(Y)\n",
        "Y = pd.DataFrame(target)\n"
      ]
    },
    {
      "cell_type": "code",
      "execution_count": 26,
      "metadata": {},
      "outputs": [],
      "source": [
        "y = Y.squeeze()"
      ]
    },
    {
      "cell_type": "code",
      "execution_count": 27,
      "metadata": {},
      "outputs": [
        {
          "data": {
            "text/plain": [
              "(9919,)"
            ]
          },
          "execution_count": 27,
          "metadata": {},
          "output_type": "execute_result"
        }
      ],
      "source": [
        "y.shape"
      ]
    },
    {
      "cell_type": "code",
      "execution_count": 28,
      "metadata": {
        "id": "yzBNDOXspUOP"
      },
      "outputs": [],
      "source": [
        "numerical_columns = numerical_columns_selector(X)\n",
        "categorical_columns = categorical_columns_selector(X)"
      ]
    },
    {
      "cell_type": "code",
      "execution_count": 29,
      "metadata": {},
      "outputs": [
        {
          "data": {
            "text/plain": [
              "['key', 'voice_gender', 'mode', 'musician_category']"
            ]
          },
          "execution_count": 29,
          "metadata": {},
          "output_type": "execute_result"
        }
      ],
      "source": [
        "categorical_columns = list(categorical_columns)\n",
        "categorical_columns"
      ]
    },
    {
      "cell_type": "code",
      "execution_count": 30,
      "metadata": {},
      "outputs": [
        {
          "data": {
            "text/html": [
              "<div>\n",
              "<style scoped>\n",
              "    .dataframe tbody tr th:only-of-type {\n",
              "        vertical-align: middle;\n",
              "    }\n",
              "\n",
              "    .dataframe tbody tr th {\n",
              "        vertical-align: top;\n",
              "    }\n",
              "\n",
              "    .dataframe thead th {\n",
              "        text-align: right;\n",
              "    }\n",
              "</style>\n",
              "<table border=\"1\" class=\"dataframe\">\n",
              "  <thead>\n",
              "    <tr style=\"text-align: right;\">\n",
              "      <th></th>\n",
              "      <th>0</th>\n",
              "      <th>1</th>\n",
              "      <th>2</th>\n",
              "      <th>3</th>\n",
              "      <th>4</th>\n",
              "      <th>5</th>\n",
              "      <th>6</th>\n",
              "      <th>7</th>\n",
              "      <th>8</th>\n",
              "      <th>9</th>\n",
              "      <th>...</th>\n",
              "      <th>21</th>\n",
              "      <th>22</th>\n",
              "      <th>23</th>\n",
              "      <th>24</th>\n",
              "      <th>25</th>\n",
              "      <th>26</th>\n",
              "      <th>27</th>\n",
              "      <th>28</th>\n",
              "      <th>29</th>\n",
              "      <th>30</th>\n",
              "    </tr>\n",
              "  </thead>\n",
              "  <tbody>\n",
              "    <tr>\n",
              "      <th>0</th>\n",
              "      <td>0.0</td>\n",
              "      <td>0.0</td>\n",
              "      <td>0.0</td>\n",
              "      <td>0.0</td>\n",
              "      <td>0.0</td>\n",
              "      <td>1.0</td>\n",
              "      <td>0.0</td>\n",
              "      <td>0.0</td>\n",
              "      <td>0.0</td>\n",
              "      <td>0.0</td>\n",
              "      <td>...</td>\n",
              "      <td>0.018311</td>\n",
              "      <td>0.902400</td>\n",
              "      <td>0.080142</td>\n",
              "      <td>0.887279</td>\n",
              "      <td>0.000000</td>\n",
              "      <td>0.022379</td>\n",
              "      <td>0.882529</td>\n",
              "      <td>0.098362</td>\n",
              "      <td>0.382038</td>\n",
              "      <td>0.590104</td>\n",
              "    </tr>\n",
              "    <tr>\n",
              "      <th>1</th>\n",
              "      <td>0.0</td>\n",
              "      <td>0.0</td>\n",
              "      <td>0.0</td>\n",
              "      <td>0.0</td>\n",
              "      <td>0.0</td>\n",
              "      <td>0.0</td>\n",
              "      <td>0.0</td>\n",
              "      <td>0.0</td>\n",
              "      <td>0.0</td>\n",
              "      <td>1.0</td>\n",
              "      <td>...</td>\n",
              "      <td>0.784686</td>\n",
              "      <td>0.215721</td>\n",
              "      <td>0.120262</td>\n",
              "      <td>0.532503</td>\n",
              "      <td>0.002553</td>\n",
              "      <td>0.109658</td>\n",
              "      <td>0.450206</td>\n",
              "      <td>0.015648</td>\n",
              "      <td>0.420772</td>\n",
              "      <td>0.069094</td>\n",
              "    </tr>\n",
              "    <tr>\n",
              "      <th>2</th>\n",
              "      <td>0.0</td>\n",
              "      <td>0.0</td>\n",
              "      <td>0.0</td>\n",
              "      <td>0.0</td>\n",
              "      <td>1.0</td>\n",
              "      <td>0.0</td>\n",
              "      <td>0.0</td>\n",
              "      <td>0.0</td>\n",
              "      <td>0.0</td>\n",
              "      <td>0.0</td>\n",
              "      <td>...</td>\n",
              "      <td>0.000417</td>\n",
              "      <td>0.903174</td>\n",
              "      <td>0.059567</td>\n",
              "      <td>0.000000</td>\n",
              "      <td>0.000356</td>\n",
              "      <td>0.057374</td>\n",
              "      <td>0.837753</td>\n",
              "      <td>0.028831</td>\n",
              "      <td>0.381709</td>\n",
              "      <td>0.449637</td>\n",
              "    </tr>\n",
              "    <tr>\n",
              "      <th>3</th>\n",
              "      <td>1.0</td>\n",
              "      <td>0.0</td>\n",
              "      <td>0.0</td>\n",
              "      <td>0.0</td>\n",
              "      <td>0.0</td>\n",
              "      <td>0.0</td>\n",
              "      <td>0.0</td>\n",
              "      <td>0.0</td>\n",
              "      <td>0.0</td>\n",
              "      <td>0.0</td>\n",
              "      <td>...</td>\n",
              "      <td>0.082993</td>\n",
              "      <td>0.315132</td>\n",
              "      <td>0.080780</td>\n",
              "      <td>0.818889</td>\n",
              "      <td>0.000000</td>\n",
              "      <td>0.067399</td>\n",
              "      <td>0.863266</td>\n",
              "      <td>0.047696</td>\n",
              "      <td>0.769256</td>\n",
              "      <td>0.515491</td>\n",
              "    </tr>\n",
              "    <tr>\n",
              "      <th>4</th>\n",
              "      <td>0.0</td>\n",
              "      <td>1.0</td>\n",
              "      <td>0.0</td>\n",
              "      <td>0.0</td>\n",
              "      <td>0.0</td>\n",
              "      <td>0.0</td>\n",
              "      <td>0.0</td>\n",
              "      <td>0.0</td>\n",
              "      <td>0.0</td>\n",
              "      <td>0.0</td>\n",
              "      <td>...</td>\n",
              "      <td>0.927117</td>\n",
              "      <td>0.606771</td>\n",
              "      <td>0.060785</td>\n",
              "      <td>0.500645</td>\n",
              "      <td>0.135681</td>\n",
              "      <td>0.087138</td>\n",
              "      <td>0.444469</td>\n",
              "      <td>0.043086</td>\n",
              "      <td>0.447650</td>\n",
              "      <td>0.548416</td>\n",
              "    </tr>\n",
              "    <tr>\n",
              "      <th>...</th>\n",
              "      <td>...</td>\n",
              "      <td>...</td>\n",
              "      <td>...</td>\n",
              "      <td>...</td>\n",
              "      <td>...</td>\n",
              "      <td>...</td>\n",
              "      <td>...</td>\n",
              "      <td>...</td>\n",
              "      <td>...</td>\n",
              "      <td>...</td>\n",
              "      <td>...</td>\n",
              "      <td>...</td>\n",
              "      <td>...</td>\n",
              "      <td>...</td>\n",
              "      <td>...</td>\n",
              "      <td>...</td>\n",
              "      <td>...</td>\n",
              "      <td>...</td>\n",
              "      <td>...</td>\n",
              "      <td>...</td>\n",
              "      <td>...</td>\n",
              "    </tr>\n",
              "    <tr>\n",
              "      <th>9914</th>\n",
              "      <td>0.0</td>\n",
              "      <td>0.0</td>\n",
              "      <td>0.0</td>\n",
              "      <td>0.0</td>\n",
              "      <td>0.0</td>\n",
              "      <td>0.0</td>\n",
              "      <td>0.0</td>\n",
              "      <td>0.0</td>\n",
              "      <td>0.0</td>\n",
              "      <td>0.0</td>\n",
              "      <td>...</td>\n",
              "      <td>0.963249</td>\n",
              "      <td>0.071337</td>\n",
              "      <td>0.055240</td>\n",
              "      <td>0.497832</td>\n",
              "      <td>0.949496</td>\n",
              "      <td>0.110721</td>\n",
              "      <td>0.404582</td>\n",
              "      <td>0.034693</td>\n",
              "      <td>0.209851</td>\n",
              "      <td>0.037778</td>\n",
              "    </tr>\n",
              "    <tr>\n",
              "      <th>9915</th>\n",
              "      <td>0.0</td>\n",
              "      <td>0.0</td>\n",
              "      <td>1.0</td>\n",
              "      <td>0.0</td>\n",
              "      <td>0.0</td>\n",
              "      <td>0.0</td>\n",
              "      <td>0.0</td>\n",
              "      <td>0.0</td>\n",
              "      <td>0.0</td>\n",
              "      <td>0.0</td>\n",
              "      <td>...</td>\n",
              "      <td>0.792196</td>\n",
              "      <td>0.322454</td>\n",
              "      <td>0.000000</td>\n",
              "      <td>0.571707</td>\n",
              "      <td>0.026631</td>\n",
              "      <td>0.216570</td>\n",
              "      <td>0.659023</td>\n",
              "      <td>0.021906</td>\n",
              "      <td>0.482036</td>\n",
              "      <td>0.579883</td>\n",
              "    </tr>\n",
              "    <tr>\n",
              "      <th>9916</th>\n",
              "      <td>0.0</td>\n",
              "      <td>0.0</td>\n",
              "      <td>0.0</td>\n",
              "      <td>0.0</td>\n",
              "      <td>0.0</td>\n",
              "      <td>0.0</td>\n",
              "      <td>0.0</td>\n",
              "      <td>0.0</td>\n",
              "      <td>1.0</td>\n",
              "      <td>0.0</td>\n",
              "      <td>...</td>\n",
              "      <td>0.807131</td>\n",
              "      <td>0.394829</td>\n",
              "      <td>0.110876</td>\n",
              "      <td>0.644538</td>\n",
              "      <td>0.000481</td>\n",
              "      <td>0.624106</td>\n",
              "      <td>0.486386</td>\n",
              "      <td>0.434696</td>\n",
              "      <td>0.514088</td>\n",
              "      <td>0.565495</td>\n",
              "    </tr>\n",
              "    <tr>\n",
              "      <th>9917</th>\n",
              "      <td>0.0</td>\n",
              "      <td>0.0</td>\n",
              "      <td>0.0</td>\n",
              "      <td>0.0</td>\n",
              "      <td>0.0</td>\n",
              "      <td>0.0</td>\n",
              "      <td>0.0</td>\n",
              "      <td>0.0</td>\n",
              "      <td>1.0</td>\n",
              "      <td>0.0</td>\n",
              "      <td>...</td>\n",
              "      <td>0.103623</td>\n",
              "      <td>0.579299</td>\n",
              "      <td>0.044343</td>\n",
              "      <td>0.913452</td>\n",
              "      <td>0.000082</td>\n",
              "      <td>0.139350</td>\n",
              "      <td>0.837931</td>\n",
              "      <td>0.037324</td>\n",
              "      <td>0.441822</td>\n",
              "      <td>0.373919</td>\n",
              "    </tr>\n",
              "    <tr>\n",
              "      <th>9918</th>\n",
              "      <td>0.0</td>\n",
              "      <td>0.0</td>\n",
              "      <td>0.0</td>\n",
              "      <td>0.0</td>\n",
              "      <td>0.0</td>\n",
              "      <td>0.0</td>\n",
              "      <td>0.0</td>\n",
              "      <td>0.0</td>\n",
              "      <td>1.0</td>\n",
              "      <td>0.0</td>\n",
              "      <td>...</td>\n",
              "      <td>0.774057</td>\n",
              "      <td>0.437034</td>\n",
              "      <td>0.055928</td>\n",
              "      <td>0.702241</td>\n",
              "      <td>0.466232</td>\n",
              "      <td>0.117498</td>\n",
              "      <td>0.763284</td>\n",
              "      <td>0.006193</td>\n",
              "      <td>0.323558</td>\n",
              "      <td>0.333136</td>\n",
              "    </tr>\n",
              "  </tbody>\n",
              "</table>\n",
              "<p>9919 rows × 31 columns</p>\n",
              "</div>"
            ],
            "text/plain": [
              "       0    1    2    3    4    5    6    7    8    9   ...        21  \\\n",
              "0     0.0  0.0  0.0  0.0  0.0  1.0  0.0  0.0  0.0  0.0  ...  0.018311   \n",
              "1     0.0  0.0  0.0  0.0  0.0  0.0  0.0  0.0  0.0  1.0  ...  0.784686   \n",
              "2     0.0  0.0  0.0  0.0  1.0  0.0  0.0  0.0  0.0  0.0  ...  0.000417   \n",
              "3     1.0  0.0  0.0  0.0  0.0  0.0  0.0  0.0  0.0  0.0  ...  0.082993   \n",
              "4     0.0  1.0  0.0  0.0  0.0  0.0  0.0  0.0  0.0  0.0  ...  0.927117   \n",
              "...   ...  ...  ...  ...  ...  ...  ...  ...  ...  ...  ...       ...   \n",
              "9914  0.0  0.0  0.0  0.0  0.0  0.0  0.0  0.0  0.0  0.0  ...  0.963249   \n",
              "9915  0.0  0.0  1.0  0.0  0.0  0.0  0.0  0.0  0.0  0.0  ...  0.792196   \n",
              "9916  0.0  0.0  0.0  0.0  0.0  0.0  0.0  0.0  1.0  0.0  ...  0.807131   \n",
              "9917  0.0  0.0  0.0  0.0  0.0  0.0  0.0  0.0  1.0  0.0  ...  0.103623   \n",
              "9918  0.0  0.0  0.0  0.0  0.0  0.0  0.0  0.0  1.0  0.0  ...  0.774057   \n",
              "\n",
              "            22        23        24        25        26        27        28  \\\n",
              "0     0.902400  0.080142  0.887279  0.000000  0.022379  0.882529  0.098362   \n",
              "1     0.215721  0.120262  0.532503  0.002553  0.109658  0.450206  0.015648   \n",
              "2     0.903174  0.059567  0.000000  0.000356  0.057374  0.837753  0.028831   \n",
              "3     0.315132  0.080780  0.818889  0.000000  0.067399  0.863266  0.047696   \n",
              "4     0.606771  0.060785  0.500645  0.135681  0.087138  0.444469  0.043086   \n",
              "...        ...       ...       ...       ...       ...       ...       ...   \n",
              "9914  0.071337  0.055240  0.497832  0.949496  0.110721  0.404582  0.034693   \n",
              "9915  0.322454  0.000000  0.571707  0.026631  0.216570  0.659023  0.021906   \n",
              "9916  0.394829  0.110876  0.644538  0.000481  0.624106  0.486386  0.434696   \n",
              "9917  0.579299  0.044343  0.913452  0.000082  0.139350  0.837931  0.037324   \n",
              "9918  0.437034  0.055928  0.702241  0.466232  0.117498  0.763284  0.006193   \n",
              "\n",
              "            29        30  \n",
              "0     0.382038  0.590104  \n",
              "1     0.420772  0.069094  \n",
              "2     0.381709  0.449637  \n",
              "3     0.769256  0.515491  \n",
              "4     0.447650  0.548416  \n",
              "...        ...       ...  \n",
              "9914  0.209851  0.037778  \n",
              "9915  0.482036  0.579883  \n",
              "9916  0.514088  0.565495  \n",
              "9917  0.441822  0.373919  \n",
              "9918  0.323558  0.333136  \n",
              "\n",
              "[9919 rows x 31 columns]"
            ]
          },
          "execution_count": 30,
          "metadata": {},
          "output_type": "execute_result"
        }
      ],
      "source": [
        "from sklearn.compose import ColumnTransformer\n",
        "from sklearn.preprocessing import OneHotEncoder, MinMaxScaler\n",
        "\n",
        "preprocessing = ColumnTransformer(\n",
        "    transformers=[\n",
        "        (\"cat\", OneHotEncoder(), categorical_columns),\n",
        "        (\"Scale\", MinMaxScaler(), numerical_columns)]\n",
        ")\n",
        "x = preprocessing.fit_transform(X)\n",
        "x = pd.DataFrame(x)\n",
        "x"
      ]
    },
    {
      "cell_type": "code",
      "execution_count": 234,
      "metadata": {},
      "outputs": [
        {
          "data": {
            "text/plain": [
              "['key', 'voice_gender', 'mode', 'musician_category']"
            ]
          },
          "execution_count": 234,
          "metadata": {},
          "output_type": "execute_result"
        }
      ],
      "source": [
        "categorical_columns"
      ]
    },
    {
      "cell_type": "code",
      "execution_count": 305,
      "metadata": {},
      "outputs": [],
      "source": [
        "from sklearn.compose import make_column_transformer, make_column_selector\n",
        "\n",
        "ohn = OneHotEncoder()\n",
        "scale = MinMaxScaler()\n",
        "\n",
        "ohn_ct = make_column_transformer(\n",
        "    (ohn, ['key', 'voice_gender', 'mode', 'musician_category']),\n",
        "    remainder = 'passthrough' \n",
        ")\n",
        "\n",
        "df_ohn = ohn_ct.fit_transform(X)\n",
        "df_ohn = pd.DataFrame(df_ohn)\n"
      ]
    },
    {
      "cell_type": "code",
      "execution_count": 285,
      "metadata": {},
      "outputs": [],
      "source": [
        "test = list(ohn_ct.get_feature_names_out())[:-11]"
      ]
    },
    {
      "cell_type": "code",
      "execution_count": 306,
      "metadata": {},
      "outputs": [],
      "source": [
        "test1 = list(ohn_ct.get_feature_names_out())[-11:]\n"
      ]
    },
    {
      "cell_type": "code",
      "execution_count": 307,
      "metadata": {},
      "outputs": [
        {
          "name": "stdout",
          "output_type": "stream",
          "text": [
            "[' key_Scale A', ' key_Scale A Sharp', ' key_Scale B', ' key_Scale C', ' key_Scale C Sharp', ' key_Scale D', ' key_Scale D Sharp', ' key_Scale E', ' key_Scale F', ' key_Scale F Sharp', ' key_Scale G', ' key_Scale G Sharp', ' voice_gender_Both', ' voice_gender_Female', ' voice_gender_Male', ' mode_Major', ' mode_Minor', ' musician_category_Band', ' musician_category_Duet', ' musician_category_Solo']\n"
          ]
        }
      ],
      "source": [
        "new_list = [s.replace(\"onehotencoder__\", \" \") for s in list(ohn_ct.get_feature_names_out())[:-11]]\n",
        "print(new_list)\n"
      ]
    },
    {
      "cell_type": "code",
      "execution_count": 308,
      "metadata": {},
      "outputs": [
        {
          "data": {
            "text/plain": [
              "[' popularity',\n",
              " ' acousticness',\n",
              " ' danceability',\n",
              " ' duration_ms',\n",
              " ' energy',\n",
              " ' instrumentalness',\n",
              " ' liveness',\n",
              " ' loudness',\n",
              " ' speechiness',\n",
              " ' tempo',\n",
              " ' valence']"
            ]
          },
          "execution_count": 308,
          "metadata": {},
          "output_type": "execute_result"
        }
      ],
      "source": [
        "new_list1 = [s.replace(\"remainder__\", \" \") for s in list(ohn_ct.get_feature_names_out())[-11:]]\n",
        "print(new_list1)"
      ]
    },
    {
      "cell_type": "code",
      "execution_count": 311,
      "metadata": {},
      "outputs": [
        {
          "data": {
            "text/plain": [
              "31"
            ]
          },
          "execution_count": 311,
          "metadata": {},
          "output_type": "execute_result"
        }
      ],
      "source": [
        "cols  = new_list +new_list1\n",
        "len(cols)"
      ]
    },
    {
      "cell_type": "code",
      "execution_count": 309,
      "metadata": {},
      "outputs": [],
      "source": [
        "df_ohn.columns = cols"
      ]
    },
    {
      "cell_type": "code",
      "execution_count": 310,
      "metadata": {},
      "outputs": [
        {
          "data": {
            "text/html": [
              "<div>\n",
              "<style scoped>\n",
              "    .dataframe tbody tr th:only-of-type {\n",
              "        vertical-align: middle;\n",
              "    }\n",
              "\n",
              "    .dataframe tbody tr th {\n",
              "        vertical-align: top;\n",
              "    }\n",
              "\n",
              "    .dataframe thead th {\n",
              "        text-align: right;\n",
              "    }\n",
              "</style>\n",
              "<table border=\"1\" class=\"dataframe\">\n",
              "  <thead>\n",
              "    <tr style=\"text-align: right;\">\n",
              "      <th></th>\n",
              "      <th>key_Scale A</th>\n",
              "      <th>key_Scale A Sharp</th>\n",
              "      <th>key_Scale B</th>\n",
              "      <th>key_Scale C</th>\n",
              "      <th>key_Scale C Sharp</th>\n",
              "      <th>key_Scale D</th>\n",
              "      <th>key_Scale D Sharp</th>\n",
              "      <th>key_Scale E</th>\n",
              "      <th>key_Scale F</th>\n",
              "      <th>key_Scale F Sharp</th>\n",
              "      <th>...</th>\n",
              "      <th>acousticness</th>\n",
              "      <th>danceability</th>\n",
              "      <th>duration_ms</th>\n",
              "      <th>energy</th>\n",
              "      <th>instrumentalness</th>\n",
              "      <th>liveness</th>\n",
              "      <th>loudness</th>\n",
              "      <th>speechiness</th>\n",
              "      <th>tempo</th>\n",
              "      <th>valence</th>\n",
              "    </tr>\n",
              "  </thead>\n",
              "  <tbody>\n",
              "    <tr>\n",
              "      <th>0</th>\n",
              "      <td>0.0</td>\n",
              "      <td>0.0</td>\n",
              "      <td>0.0</td>\n",
              "      <td>0.0</td>\n",
              "      <td>0.0</td>\n",
              "      <td>1.0</td>\n",
              "      <td>0.0</td>\n",
              "      <td>0.0</td>\n",
              "      <td>0.0</td>\n",
              "      <td>0.0</td>\n",
              "      <td>...</td>\n",
              "      <td>0.020041</td>\n",
              "      <td>0.967948</td>\n",
              "      <td>273314.723</td>\n",
              "      <td>0.857411</td>\n",
              "      <td>0.000000</td>\n",
              "      <td>0.042030</td>\n",
              "      <td>-4.995</td>\n",
              "      <td>0.119917</td>\n",
              "      <td>105.018</td>\n",
              "      <td>0.635525</td>\n",
              "    </tr>\n",
              "    <tr>\n",
              "      <th>1</th>\n",
              "      <td>0.0</td>\n",
              "      <td>0.0</td>\n",
              "      <td>0.0</td>\n",
              "      <td>0.0</td>\n",
              "      <td>0.0</td>\n",
              "      <td>0.0</td>\n",
              "      <td>0.0</td>\n",
              "      <td>0.0</td>\n",
              "      <td>0.0</td>\n",
              "      <td>1.0</td>\n",
              "      <td>...</td>\n",
              "      <td>0.858769</td>\n",
              "      <td>0.280645</td>\n",
              "      <td>410136.987</td>\n",
              "      <td>0.114732</td>\n",
              "      <td>0.002753</td>\n",
              "      <td>0.134782</td>\n",
              "      <td>-26.922</td>\n",
              "      <td>0.039139</td>\n",
              "      <td>112.183</td>\n",
              "      <td>0.074412</td>\n",
              "    </tr>\n",
              "    <tr>\n",
              "      <th>2</th>\n",
              "      <td>0.0</td>\n",
              "      <td>0.0</td>\n",
              "      <td>0.0</td>\n",
              "      <td>0.0</td>\n",
              "      <td>1.0</td>\n",
              "      <td>0.0</td>\n",
              "      <td>0.0</td>\n",
              "      <td>0.0</td>\n",
              "      <td>0.0</td>\n",
              "      <td>0.0</td>\n",
              "      <td>...</td>\n",
              "      <td>0.000459</td>\n",
              "      <td>0.968723</td>\n",
              "      <td>203145.857</td>\n",
              "      <td>-1.000000</td>\n",
              "      <td>0.000384</td>\n",
              "      <td>0.079220</td>\n",
              "      <td>-7.266</td>\n",
              "      <td>0.052014</td>\n",
              "      <td>104.957</td>\n",
              "      <td>0.484246</td>\n",
              "    </tr>\n",
              "    <tr>\n",
              "      <th>3</th>\n",
              "      <td>1.0</td>\n",
              "      <td>0.0</td>\n",
              "      <td>0.0</td>\n",
              "      <td>0.0</td>\n",
              "      <td>0.0</td>\n",
              "      <td>0.0</td>\n",
              "      <td>0.0</td>\n",
              "      <td>0.0</td>\n",
              "      <td>0.0</td>\n",
              "      <td>0.0</td>\n",
              "      <td>...</td>\n",
              "      <td>0.090830</td>\n",
              "      <td>0.380147</td>\n",
              "      <td>275490.630</td>\n",
              "      <td>0.714246</td>\n",
              "      <td>0.000000</td>\n",
              "      <td>0.089873</td>\n",
              "      <td>-5.972</td>\n",
              "      <td>0.070437</td>\n",
              "      <td>176.647</td>\n",
              "      <td>0.555169</td>\n",
              "    </tr>\n",
              "    <tr>\n",
              "      <th>4</th>\n",
              "      <td>0.0</td>\n",
              "      <td>1.0</td>\n",
              "      <td>0.0</td>\n",
              "      <td>0.0</td>\n",
              "      <td>0.0</td>\n",
              "      <td>0.0</td>\n",
              "      <td>0.0</td>\n",
              "      <td>0.0</td>\n",
              "      <td>0.0</td>\n",
              "      <td>0.0</td>\n",
              "      <td>...</td>\n",
              "      <td>1.014646</td>\n",
              "      <td>0.672051</td>\n",
              "      <td>207299.190</td>\n",
              "      <td>0.048039</td>\n",
              "      <td>0.146346</td>\n",
              "      <td>0.110850</td>\n",
              "      <td>-27.213</td>\n",
              "      <td>0.065935</td>\n",
              "      <td>117.155</td>\n",
              "      <td>0.590628</td>\n",
              "    </tr>\n",
              "    <tr>\n",
              "      <th>...</th>\n",
              "      <td>...</td>\n",
              "      <td>...</td>\n",
              "      <td>...</td>\n",
              "      <td>...</td>\n",
              "      <td>...</td>\n",
              "      <td>...</td>\n",
              "      <td>...</td>\n",
              "      <td>...</td>\n",
              "      <td>...</td>\n",
              "      <td>...</td>\n",
              "      <td>...</td>\n",
              "      <td>...</td>\n",
              "      <td>...</td>\n",
              "      <td>...</td>\n",
              "      <td>...</td>\n",
              "      <td>...</td>\n",
              "      <td>...</td>\n",
              "      <td>...</td>\n",
              "      <td>...</td>\n",
              "      <td>...</td>\n",
              "      <td>...</td>\n",
              "    </tr>\n",
              "    <tr>\n",
              "      <th>9914</th>\n",
              "      <td>0.0</td>\n",
              "      <td>0.0</td>\n",
              "      <td>0.0</td>\n",
              "      <td>0.0</td>\n",
              "      <td>0.0</td>\n",
              "      <td>0.0</td>\n",
              "      <td>0.0</td>\n",
              "      <td>0.0</td>\n",
              "      <td>0.0</td>\n",
              "      <td>0.0</td>\n",
              "      <td>...</td>\n",
              "      <td>1.054190</td>\n",
              "      <td>0.136130</td>\n",
              "      <td>188388.500</td>\n",
              "      <td>0.042151</td>\n",
              "      <td>1.024128</td>\n",
              "      <td>0.135912</td>\n",
              "      <td>-29.236</td>\n",
              "      <td>0.057739</td>\n",
              "      <td>73.166</td>\n",
              "      <td>0.040686</td>\n",
              "    </tr>\n",
              "    <tr>\n",
              "      <th>9915</th>\n",
              "      <td>0.0</td>\n",
              "      <td>0.0</td>\n",
              "      <td>1.0</td>\n",
              "      <td>0.0</td>\n",
              "      <td>0.0</td>\n",
              "      <td>0.0</td>\n",
              "      <td>0.0</td>\n",
              "      <td>0.0</td>\n",
              "      <td>0.0</td>\n",
              "      <td>0.0</td>\n",
              "      <td>...</td>\n",
              "      <td>0.866988</td>\n",
              "      <td>0.387476</td>\n",
              "      <td>-1.000</td>\n",
              "      <td>0.196799</td>\n",
              "      <td>0.028725</td>\n",
              "      <td>0.248399</td>\n",
              "      <td>-16.331</td>\n",
              "      <td>0.045251</td>\n",
              "      <td>123.516</td>\n",
              "      <td>0.624518</td>\n",
              "    </tr>\n",
              "    <tr>\n",
              "      <th>9916</th>\n",
              "      <td>0.0</td>\n",
              "      <td>0.0</td>\n",
              "      <td>0.0</td>\n",
              "      <td>0.0</td>\n",
              "      <td>0.0</td>\n",
              "      <td>0.0</td>\n",
              "      <td>0.0</td>\n",
              "      <td>0.0</td>\n",
              "      <td>1.0</td>\n",
              "      <td>0.0</td>\n",
              "      <td>...</td>\n",
              "      <td>0.883333</td>\n",
              "      <td>0.459917</td>\n",
              "      <td>378128.464</td>\n",
              "      <td>0.349263</td>\n",
              "      <td>0.000519</td>\n",
              "      <td>0.681492</td>\n",
              "      <td>-25.087</td>\n",
              "      <td>0.448377</td>\n",
              "      <td>129.445</td>\n",
              "      <td>0.609022</td>\n",
              "    </tr>\n",
              "    <tr>\n",
              "      <th>9917</th>\n",
              "      <td>0.0</td>\n",
              "      <td>0.0</td>\n",
              "      <td>0.0</td>\n",
              "      <td>0.0</td>\n",
              "      <td>0.0</td>\n",
              "      <td>0.0</td>\n",
              "      <td>0.0</td>\n",
              "      <td>0.0</td>\n",
              "      <td>1.0</td>\n",
              "      <td>0.0</td>\n",
              "      <td>...</td>\n",
              "      <td>0.113408</td>\n",
              "      <td>0.644554</td>\n",
              "      <td>151226.592</td>\n",
              "      <td>0.912201</td>\n",
              "      <td>0.000089</td>\n",
              "      <td>0.166336</td>\n",
              "      <td>-7.257</td>\n",
              "      <td>0.060308</td>\n",
              "      <td>116.077</td>\n",
              "      <td>0.402700</td>\n",
              "    </tr>\n",
              "    <tr>\n",
              "      <th>9918</th>\n",
              "      <td>0.0</td>\n",
              "      <td>0.0</td>\n",
              "      <td>0.0</td>\n",
              "      <td>0.0</td>\n",
              "      <td>0.0</td>\n",
              "      <td>0.0</td>\n",
              "      <td>0.0</td>\n",
              "      <td>0.0</td>\n",
              "      <td>1.0</td>\n",
              "      <td>0.0</td>\n",
              "      <td>...</td>\n",
              "      <td>0.847136</td>\n",
              "      <td>0.502160</td>\n",
              "      <td>190735.191</td>\n",
              "      <td>0.470057</td>\n",
              "      <td>0.502878</td>\n",
              "      <td>0.143114</td>\n",
              "      <td>-11.043</td>\n",
              "      <td>0.029906</td>\n",
              "      <td>94.200</td>\n",
              "      <td>0.358777</td>\n",
              "    </tr>\n",
              "  </tbody>\n",
              "</table>\n",
              "<p>9919 rows × 31 columns</p>\n",
              "</div>"
            ],
            "text/plain": [
              "       key_Scale A   key_Scale A Sharp   key_Scale B   key_Scale C  \\\n",
              "0              0.0                 0.0           0.0           0.0   \n",
              "1              0.0                 0.0           0.0           0.0   \n",
              "2              0.0                 0.0           0.0           0.0   \n",
              "3              1.0                 0.0           0.0           0.0   \n",
              "4              0.0                 1.0           0.0           0.0   \n",
              "...            ...                 ...           ...           ...   \n",
              "9914           0.0                 0.0           0.0           0.0   \n",
              "9915           0.0                 0.0           1.0           0.0   \n",
              "9916           0.0                 0.0           0.0           0.0   \n",
              "9917           0.0                 0.0           0.0           0.0   \n",
              "9918           0.0                 0.0           0.0           0.0   \n",
              "\n",
              "       key_Scale C Sharp   key_Scale D   key_Scale D Sharp   key_Scale E  \\\n",
              "0                    0.0           1.0                 0.0           0.0   \n",
              "1                    0.0           0.0                 0.0           0.0   \n",
              "2                    1.0           0.0                 0.0           0.0   \n",
              "3                    0.0           0.0                 0.0           0.0   \n",
              "4                    0.0           0.0                 0.0           0.0   \n",
              "...                  ...           ...                 ...           ...   \n",
              "9914                 0.0           0.0                 0.0           0.0   \n",
              "9915                 0.0           0.0                 0.0           0.0   \n",
              "9916                 0.0           0.0                 0.0           0.0   \n",
              "9917                 0.0           0.0                 0.0           0.0   \n",
              "9918                 0.0           0.0                 0.0           0.0   \n",
              "\n",
              "       key_Scale F   key_Scale F Sharp  ...   acousticness   danceability  \\\n",
              "0              0.0                 0.0  ...       0.020041       0.967948   \n",
              "1              0.0                 1.0  ...       0.858769       0.280645   \n",
              "2              0.0                 0.0  ...       0.000459       0.968723   \n",
              "3              0.0                 0.0  ...       0.090830       0.380147   \n",
              "4              0.0                 0.0  ...       1.014646       0.672051   \n",
              "...            ...                 ...  ...            ...            ...   \n",
              "9914           0.0                 0.0  ...       1.054190       0.136130   \n",
              "9915           0.0                 0.0  ...       0.866988       0.387476   \n",
              "9916           1.0                 0.0  ...       0.883333       0.459917   \n",
              "9917           1.0                 0.0  ...       0.113408       0.644554   \n",
              "9918           1.0                 0.0  ...       0.847136       0.502160   \n",
              "\n",
              "       duration_ms    energy   instrumentalness   liveness   loudness  \\\n",
              "0       273314.723  0.857411           0.000000   0.042030     -4.995   \n",
              "1       410136.987  0.114732           0.002753   0.134782    -26.922   \n",
              "2       203145.857 -1.000000           0.000384   0.079220     -7.266   \n",
              "3       275490.630  0.714246           0.000000   0.089873     -5.972   \n",
              "4       207299.190  0.048039           0.146346   0.110850    -27.213   \n",
              "...            ...       ...                ...        ...        ...   \n",
              "9914    188388.500  0.042151           1.024128   0.135912    -29.236   \n",
              "9915        -1.000  0.196799           0.028725   0.248399    -16.331   \n",
              "9916    378128.464  0.349263           0.000519   0.681492    -25.087   \n",
              "9917    151226.592  0.912201           0.000089   0.166336     -7.257   \n",
              "9918    190735.191  0.470057           0.502878   0.143114    -11.043   \n",
              "\n",
              "       speechiness    tempo   valence  \n",
              "0         0.119917  105.018  0.635525  \n",
              "1         0.039139  112.183  0.074412  \n",
              "2         0.052014  104.957  0.484246  \n",
              "3         0.070437  176.647  0.555169  \n",
              "4         0.065935  117.155  0.590628  \n",
              "...            ...      ...       ...  \n",
              "9914      0.057739   73.166  0.040686  \n",
              "9915      0.045251  123.516  0.624518  \n",
              "9916      0.448377  129.445  0.609022  \n",
              "9917      0.060308  116.077  0.402700  \n",
              "9918      0.029906   94.200  0.358777  \n",
              "\n",
              "[9919 rows x 31 columns]"
            ]
          },
          "execution_count": 310,
          "metadata": {},
          "output_type": "execute_result"
        }
      ],
      "source": [
        "df_ohn"
      ]
    },
    {
      "cell_type": "code",
      "execution_count": 300,
      "metadata": {},
      "outputs": [
        {
          "data": {
            "text/plain": [
              "Index([' popularity', ' acousticness', ' danceability', ' duration_ms',\n",
              "       ' energy', ' instrumentalness', ' liveness', ' loudness',\n",
              "       ' speechiness', ' tempo', ' valence'],\n",
              "      dtype='object')"
            ]
          },
          "execution_count": 300,
          "metadata": {},
          "output_type": "execute_result"
        }
      ],
      "source": [
        "df_ohn.columns[-11:]\n"
      ]
    },
    {
      "cell_type": "code",
      "execution_count": 316,
      "metadata": {},
      "outputs": [],
      "source": [
        "ohn_num = make_column_transformer(\n",
        "    (scale, new_list1) ,\n",
        "    remainder = 'passthrough' \n",
        ")\n",
        "\n",
        "num = ohn_num.fit_transform(df_ohn)\n",
        "df_final = pd.DataFrame(num)\n"
      ]
    },
    {
      "cell_type": "code",
      "execution_count": 321,
      "metadata": {},
      "outputs": [],
      "source": [
        "df_final.columns = cols"
      ]
    },
    {
      "cell_type": "code",
      "execution_count": 322,
      "metadata": {},
      "outputs": [
        {
          "data": {
            "text/plain": [
              "Index([' key_Scale A', ' key_Scale A Sharp', ' key_Scale B', ' key_Scale C',\n",
              "       ' key_Scale C Sharp', ' key_Scale D', ' key_Scale D Sharp',\n",
              "       ' key_Scale E', ' key_Scale F', ' key_Scale F Sharp', ' key_Scale G',\n",
              "       ' key_Scale G Sharp', ' voice_gender_Both', ' voice_gender_Female',\n",
              "       ' voice_gender_Male', ' mode_Major', ' mode_Minor',\n",
              "       ' musician_category_Band', ' musician_category_Duet',\n",
              "       ' musician_category_Solo', ' popularity', ' acousticness',\n",
              "       ' danceability', ' duration_ms', ' energy', ' instrumentalness',\n",
              "       ' liveness', ' loudness', ' speechiness', ' tempo', ' valence'],\n",
              "      dtype='object')"
            ]
          },
          "execution_count": 322,
          "metadata": {},
          "output_type": "execute_result"
        }
      ],
      "source": [
        "df_final.columns"
      ]
    },
    {
      "cell_type": "code",
      "execution_count": 323,
      "metadata": {
        "id": "D-velF60NlCz"
      },
      "outputs": [],
      "source": [
        "from sklearn.model_selection import  train_test_split\n",
        "X_train,X_test,Y_train,Y_test = train_test_split(df_final,y,test_size=0.2)"
      ]
    },
    {
      "cell_type": "code",
      "execution_count": 324,
      "metadata": {},
      "outputs": [
        {
          "name": "stdout",
          "output_type": "stream",
          "text": [
            "0.5999423963133641\n"
          ]
        }
      ],
      "source": [
        "from sklearn.feature_selection import SelectKBest\n",
        "from sklearn.neighbors import KNeighborsClassifier\n",
        "from sklearn.metrics import accuracy_score\n",
        "from sklearn import metrics\n",
        "\n",
        "k_range = list(range(1,15))\n",
        "scores = []\n",
        "error = []\n",
        "\n",
        "for k in k_range:\n",
        "    knn = KNeighborsClassifier(n_neighbors=k)\n",
        "    knn.fit(X_train, Y_train.values.ravel())\n",
        "    y_pred = knn.predict(X_test)\n",
        "    accuracy_score(Y_test, y_pred)\n",
        "    scores.append(metrics.accuracy_score(Y_test,y_pred))\n",
        "    error.append(np.mean(y_pred != Y_test))\n",
        "\n",
        "scores= np.mean(scores)\n",
        "print(scores)"
      ]
    },
    {
      "cell_type": "code",
      "execution_count": 33,
      "metadata": {},
      "outputs": [],
      "source": [
        "from sklearn.model_selection import cross_val_score\n",
        "\n",
        "k_range = list(range(1, 15))\n",
        "k_scores = []\n",
        "for k in k_range:\n",
        "    knn = KNeighborsClassifier(n_neighbors=k)\n",
        "    scores = cross_val_score(knn, X_train, Y_train, cv=10, scoring='accuracy')\n",
        "    k_scores.append(scores.mean())"
      ]
    },
    {
      "cell_type": "code",
      "execution_count": 34,
      "metadata": {},
      "outputs": [
        {
          "name": "stdout",
          "output_type": "stream",
          "text": [
            "[0.5595433595598769, 0.5180829741345082, 0.5558896960495011, 0.5803350157708667, 0.5926828261138869, 0.5948235664075776, 0.5916716165694156, 0.5950751379355254, 0.5931870809126456, 0.5929359858459252, 0.5865088415321723, 0.5886529170544532, 0.5832328529545361, 0.5794513390148687]\n"
          ]
        }
      ],
      "source": [
        "print(k_scores)"
      ]
    },
    {
      "cell_type": "code",
      "execution_count": 35,
      "metadata": {},
      "outputs": [
        {
          "data": {
            "text/plain": [
              "Text(0, 0.5, 'Cross-Validated Accuracy')"
            ]
          },
          "execution_count": 35,
          "metadata": {},
          "output_type": "execute_result"
        },
        {
          "data": {
            "image/png": "[encoded data removed]",
            "text/plain": [
              "<Figure size 432x288 with 1 Axes>"
            ]
          },
          "metadata": {
            "needs_background": "light"
          },
          "output_type": "display_data"
        }
      ],
      "source": [
        "import matplotlib.pyplot as plt\n",
        "%matplotlib inline\n",
        "# plot the value of K for KNN (x-axis) versus the cross-validated accuracy (y-axis)\n",
        "plt.plot(k_range, k_scores, color='red', linestyle='dashed', marker='o',\n",
        "         markerfacecolor='blue', markersize=10)\n",
        "plt.xlabel('Value of K for KNN')\n",
        "plt.ylabel('Cross-Validated Accuracy')"
      ]
    },
    {
      "cell_type": "code",
      "execution_count": 36,
      "metadata": {},
      "outputs": [
        {
          "data": {
            "text/plain": [
              "Text(0, 0.5, 'Mean Error')"
            ]
          },
          "execution_count": 36,
          "metadata": {},
          "output_type": "execute_result"
        },
        {
          "data": {
            "image/png": "[encoded data removed]",
            "text/plain": [
              "<Figure size 864x432 with 1 Axes>"
            ]
          },
          "metadata": {
            "needs_background": "light"
          },
          "output_type": "display_data"
        }
      ],
      "source": [
        "plt.figure(figsize=(12, 6))\n",
        "plt.plot(k_range, error, color='red', linestyle='dashed', marker='o',\n",
        "         markerfacecolor='blue', markersize=10)\n",
        "plt.title('Error Rate K Value')\n",
        "plt.xlabel('K Value')\n",
        "plt.ylabel('Mean Error')"
      ]
    },
    {
      "cell_type": "code",
      "execution_count": 38,
      "metadata": {},
      "outputs": [
        {
          "name": "stdout",
          "output_type": "stream",
          "text": [
            "0.6058467741935484\n"
          ]
        }
      ],
      "source": [
        "# Best Value of K\n",
        "knn = KNeighborsClassifier(n_neighbors=8)\n",
        "knn_base = knn.fit(X_train,Y_train)\n",
        "y_pred_knn_base = knn.predict(X_test)\n",
        "print(accuracy_score(Y_test, y_pred_knn_base))\n",
        "#print(cross_val_score(knn,X_test,Y_test, cv=10, scoring=\"accuracy\").mean())\n"
      ]
    },
    {
      "cell_type": "code",
      "execution_count": 124,
      "metadata": {},
      "outputs": [
        {
          "name": "stdout",
          "output_type": "stream",
          "text": [
            "0.6063508064516129\n"
          ]
        }
      ],
      "source": []
    },
    {
      "cell_type": "markdown",
      "metadata": {},
      "source": [
        "## GridSearch\n"
      ]
    },
    {
      "cell_type": "code",
      "execution_count": 39,
      "metadata": {},
      "outputs": [],
      "source": [
        "from sklearn.model_selection import GridSearchCV\n",
        "k_range = list(range(1, 15))\n",
        "weight_options = ['uniform', 'distance']\n",
        "algorithms = [ 'ball_tree', 'kd_tree', 'brute']\n"
      ]
    },
    {
      "cell_type": "code",
      "execution_count": 40,
      "metadata": {},
      "outputs": [
        {
          "name": "stdout",
          "output_type": "stream",
          "text": [
            "{'n_neighbors': [1, 2, 3, 4, 5, 6, 7, 8, 9, 10, 11, 12, 13, 14], 'weights': ['uniform', 'distance'], 'algorithm': ['ball_tree', 'kd_tree', 'brute']}\n"
          ]
        }
      ],
      "source": [
        "param_grid = dict(n_neighbors=k_range, weights = weight_options, algorithm = algorithms)\n",
        "print(param_grid)"
      ]
    },
    {
      "cell_type": "code",
      "execution_count": 41,
      "metadata": {},
      "outputs": [],
      "source": [
        "from sklearn.metrics import f1_score, make_scorer\n",
        "\n",
        "f1 = make_scorer(f1_score , average='macro')\n"
      ]
    },
    {
      "cell_type": "code",
      "execution_count": 43,
      "metadata": {},
      "outputs": [
        {
          "data": {
            "text/plain": [
              "GridSearchCV(cv=10, estimator=KNeighborsClassifier(n_neighbors=8), n_jobs=-1,\n",
              "             param_grid={'algorithm': ['ball_tree', 'kd_tree', 'brute'],\n",
              "                         'n_neighbors': [1, 2, 3, 4, 5, 6, 7, 8, 9, 10, 11, 12,\n",
              "                                         13, 14],\n",
              "                         'weights': ['uniform', 'distance']},\n",
              "             scoring='accuracy')"
            ]
          },
          "execution_count": 43,
          "metadata": {},
          "output_type": "execute_result"
        }
      ],
      "source": [
        "grid = GridSearchCV(knn, param_grid, cv=10, scoring='accuracy',n_jobs = -1)\n",
        "grid.fit(X_train,Y_train)"
      ]
    },
    {
      "cell_type": "code",
      "execution_count": 44,
      "metadata": {},
      "outputs": [
        {
          "data": {
            "text/html": [
              "<div>\n",
              "<style scoped>\n",
              "    .dataframe tbody tr th:only-of-type {\n",
              "        vertical-align: middle;\n",
              "    }\n",
              "\n",
              "    .dataframe tbody tr th {\n",
              "        vertical-align: top;\n",
              "    }\n",
              "\n",
              "    .dataframe thead th {\n",
              "        text-align: right;\n",
              "    }\n",
              "</style>\n",
              "<table border=\"1\" class=\"dataframe\">\n",
              "  <thead>\n",
              "    <tr style=\"text-align: right;\">\n",
              "      <th></th>\n",
              "      <th>mean_test_score</th>\n",
              "      <th>std_test_score</th>\n",
              "      <th>params</th>\n",
              "    </tr>\n",
              "  </thead>\n",
              "  <tbody>\n",
              "    <tr>\n",
              "      <th>0</th>\n",
              "      <td>0.559543</td>\n",
              "      <td>0.016014</td>\n",
              "      <td>{'algorithm': 'ball_tree', 'n_neighbors': 1, '...</td>\n",
              "    </tr>\n",
              "    <tr>\n",
              "      <th>1</th>\n",
              "      <td>0.559543</td>\n",
              "      <td>0.016014</td>\n",
              "      <td>{'algorithm': 'ball_tree', 'n_neighbors': 1, '...</td>\n",
              "    </tr>\n",
              "    <tr>\n",
              "      <th>2</th>\n",
              "      <td>0.518083</td>\n",
              "      <td>0.014691</td>\n",
              "      <td>{'algorithm': 'ball_tree', 'n_neighbors': 2, '...</td>\n",
              "    </tr>\n",
              "    <tr>\n",
              "      <th>3</th>\n",
              "      <td>0.559543</td>\n",
              "      <td>0.016014</td>\n",
              "      <td>{'algorithm': 'ball_tree', 'n_neighbors': 2, '...</td>\n",
              "    </tr>\n",
              "    <tr>\n",
              "      <th>4</th>\n",
              "      <td>0.555890</td>\n",
              "      <td>0.013637</td>\n",
              "      <td>{'algorithm': 'ball_tree', 'n_neighbors': 3, '...</td>\n",
              "    </tr>\n",
              "    <tr>\n",
              "      <th>...</th>\n",
              "      <td>...</td>\n",
              "      <td>...</td>\n",
              "      <td>...</td>\n",
              "    </tr>\n",
              "    <tr>\n",
              "      <th>79</th>\n",
              "      <td>0.600750</td>\n",
              "      <td>0.017092</td>\n",
              "      <td>{'algorithm': 'brute', 'n_neighbors': 12, 'wei...</td>\n",
              "    </tr>\n",
              "    <tr>\n",
              "      <th>80</th>\n",
              "      <td>0.583233</td>\n",
              "      <td>0.015642</td>\n",
              "      <td>{'algorithm': 'brute', 'n_neighbors': 13, 'wei...</td>\n",
              "    </tr>\n",
              "    <tr>\n",
              "      <th>81</th>\n",
              "      <td>0.597726</td>\n",
              "      <td>0.018095</td>\n",
              "      <td>{'algorithm': 'brute', 'n_neighbors': 13, 'wei...</td>\n",
              "    </tr>\n",
              "    <tr>\n",
              "      <th>82</th>\n",
              "      <td>0.579451</td>\n",
              "      <td>0.015202</td>\n",
              "      <td>{'algorithm': 'brute', 'n_neighbors': 14, 'wei...</td>\n",
              "    </tr>\n",
              "    <tr>\n",
              "      <th>83</th>\n",
              "      <td>0.598859</td>\n",
              "      <td>0.018558</td>\n",
              "      <td>{'algorithm': 'brute', 'n_neighbors': 14, 'wei...</td>\n",
              "    </tr>\n",
              "  </tbody>\n",
              "</table>\n",
              "<p>84 rows × 3 columns</p>\n",
              "</div>"
            ],
            "text/plain": [
              "    mean_test_score  std_test_score  \\\n",
              "0          0.559543        0.016014   \n",
              "1          0.559543        0.016014   \n",
              "2          0.518083        0.014691   \n",
              "3          0.559543        0.016014   \n",
              "4          0.555890        0.013637   \n",
              "..              ...             ...   \n",
              "79         0.600750        0.017092   \n",
              "80         0.583233        0.015642   \n",
              "81         0.597726        0.018095   \n",
              "82         0.579451        0.015202   \n",
              "83         0.598859        0.018558   \n",
              "\n",
              "                                               params  \n",
              "0   {'algorithm': 'ball_tree', 'n_neighbors': 1, '...  \n",
              "1   {'algorithm': 'ball_tree', 'n_neighbors': 1, '...  \n",
              "2   {'algorithm': 'ball_tree', 'n_neighbors': 2, '...  \n",
              "3   {'algorithm': 'ball_tree', 'n_neighbors': 2, '...  \n",
              "4   {'algorithm': 'ball_tree', 'n_neighbors': 3, '...  \n",
              "..                                                ...  \n",
              "79  {'algorithm': 'brute', 'n_neighbors': 12, 'wei...  \n",
              "80  {'algorithm': 'brute', 'n_neighbors': 13, 'wei...  \n",
              "81  {'algorithm': 'brute', 'n_neighbors': 13, 'wei...  \n",
              "82  {'algorithm': 'brute', 'n_neighbors': 14, 'wei...  \n",
              "83  {'algorithm': 'brute', 'n_neighbors': 14, 'wei...  \n",
              "\n",
              "[84 rows x 3 columns]"
            ]
          },
          "execution_count": 44,
          "metadata": {},
          "output_type": "execute_result"
        }
      ],
      "source": [
        "pd.DataFrame(grid.cv_results_)[['mean_test_score', 'std_test_score', 'params']]\n"
      ]
    },
    {
      "cell_type": "code",
      "execution_count": 45,
      "metadata": {},
      "outputs": [
        {
          "name": "stdout",
          "output_type": "stream",
          "text": [
            "[0.55954336 0.55954336 0.51808297 0.55954336 0.5558897  0.58499862\n",
            " 0.58033502 0.59696955 0.59268283 0.60780586 0.59482357 0.61171189\n",
            " 0.59167162 0.60528316 0.59507514 0.60730066 0.59318708 0.60541133\n",
            " 0.59293599 0.6051596  0.58650884 0.60276586 0.58865292 0.60075043\n",
            " 0.58323285 0.59772585 0.57945134 0.59885919 0.55954336 0.55954336\n",
            " 0.51808297 0.55954336 0.5558897  0.58499862 0.58033502 0.59696955\n",
            " 0.59268283 0.60780586 0.59482357 0.61171189 0.59167162 0.60528316\n",
            " 0.59507514 0.60730066 0.59318708 0.60541133 0.59293599 0.6051596\n",
            " 0.58650884 0.60276586 0.58865292 0.60075043 0.58323285 0.59772585\n",
            " 0.57945134 0.59885919 0.55954336 0.55954336 0.51808297 0.55954336\n",
            " 0.5558897  0.58499862 0.58033502 0.59696955 0.59268283 0.60780586\n",
            " 0.59482357 0.61171189 0.59167162 0.60528316 0.59507514 0.60730066\n",
            " 0.59318708 0.60541133 0.59293599 0.6051596  0.58650884 0.60276586\n",
            " 0.58865292 0.60075043 0.58323285 0.59772585 0.57945134 0.59885919]\n"
          ]
        }
      ],
      "source": [
        "grid_mean_scores = grid.cv_results_['mean_test_score']\n",
        "print(grid_mean_scores)\n"
      ]
    },
    {
      "cell_type": "code",
      "execution_count": 46,
      "metadata": {},
      "outputs": [
        {
          "name": "stdout",
          "output_type": "stream",
          "text": [
            "0.6117118934251526\n",
            "{'algorithm': 'ball_tree', 'n_neighbors': 6, 'weights': 'distance'}\n",
            "KNeighborsClassifier(algorithm='ball_tree', n_neighbors=6, weights='distance')\n"
          ]
        }
      ],
      "source": [
        "# examine the best model\n",
        "print(grid.best_score_)\n",
        "print(grid.best_params_)\n",
        "print(grid.best_estimator_)"
      ]
    },
    {
      "cell_type": "markdown",
      "metadata": {},
      "source": [
        "## Using the best parameters to make predictions\n"
      ]
    },
    {
      "cell_type": "code",
      "execution_count": 47,
      "metadata": {},
      "outputs": [
        {
          "data": {
            "text/plain": [
              "0.6154233870967742"
            ]
          },
          "execution_count": 47,
          "metadata": {},
          "output_type": "execute_result"
        }
      ],
      "source": [
        "knn_grid = KNeighborsClassifier(algorithm = 'ball_tree', n_neighbors = 6, weights = 'distance')\n",
        "knn_grid = knn_grid.fit(X_train, Y_train)\n",
        "y_pred_grid_knn = knn_grid.predict(X_test)\n",
        "accuracy_score(Y_test, y_pred_grid_knn)\n",
        "accuracy_score(Y_test, y_pred_grid_knn)\n",
        "\n"
      ]
    },
    {
      "cell_type": "code",
      "execution_count": 48,
      "metadata": {},
      "outputs": [
        {
          "name": "stdout",
          "output_type": "stream",
          "text": [
            " Base Model Performance\n",
            "Accuracy = 0.60585%.\n"
          ]
        }
      ],
      "source": [
        "def evaluate(model, test_features, test_labels):\n",
        "    predictions = model.predict(test_features)\n",
        "    #mape = 100 * np.mean(errors / test_labels)\n",
        "    accuracy = accuracy_score(Y_test, y_pred_knn_base)\n",
        "    print(' Base Model Performance')\n",
        "    print('Accuracy = {:0.5f}%.'.format(accuracy))\n",
        "    return accuracy\n",
        "base_model = KNeighborsClassifier(n_neighbors=8)\n",
        "base_model.fit(X_test, Y_test)\n",
        "base_accuracy = evaluate(base_model, X_test, Y_test)"
      ]
    },
    {
      "cell_type": "code",
      "execution_count": 94,
      "metadata": {},
      "outputs": [
        {
          "data": {
            "text/plain": [
              "0.6043346774193549"
            ]
          },
          "execution_count": 94,
          "metadata": {},
          "output_type": "execute_result"
        }
      ],
      "source": [
        "base_model = KNeighborsClassifier(n_neighbors=4)\n",
        "base_model.fit(X_test, Y_test)\n",
        "accuracy_score(Y_test,y_pred_knn_base)"
      ]
    },
    {
      "cell_type": "code",
      "execution_count": 136,
      "metadata": {},
      "outputs": [
        {
          "name": "stdout",
          "output_type": "stream",
          "text": [
            " Base Model Performance\n",
            "Accuracy = 0.60433%.\n",
            "Improvement of 0.00000%.\n"
          ]
        }
      ],
      "source": [
        "best_random_knn = KNeighborsClassifier(n_neighbors=7, weights='distance')\n",
        "random_accuracy = evaluate(knn_grid, X_train, Y_train)\n",
        "print('Improvement of {:0.5f}%.'.format( 100 * (random_accuracy - base_accuracy) / base_accuracy))\n"
      ]
    },
    {
      "cell_type": "code",
      "execution_count": null,
      "metadata": {},
      "outputs": [],
      "source": [
        "#Train Test Score\n",
        "\n",
        "\n"
      ]
    },
    {
      "cell_type": "code",
      "execution_count": 135,
      "metadata": {},
      "outputs": [
        {
          "name": "stdout",
          "output_type": "stream",
          "text": [
            "knn Training ACCURACY: 1.0\n",
            "knn Testing  ACCURACY: 0.6064\n",
            "knn Train-Test Gap   : 0.0043\n"
          ]
        }
      ],
      "source": [
        "print('knn Training ACCURACY:', knn_grid.score(X_train, Y_train).round(4))\n",
        "print('knn Testing  ACCURACY:', knn_grid.score(X_test, Y_test).round(4))\n",
        "knn_train_score = knn_grid.score(X_train, Y_train).round(4) # accuracy\n",
        "knn_test_score  = knn_grid.score(X_test, Y_test).round(4)   # accuracy\n",
        "print('knn Train-Test Gap   :', abs(logreg_train_score - logreg_test_score).round(4))\n",
        "logreg_test_gap = abs(logreg_train_score - logreg_test_score).round(4)\n"
      ]
    },
    {
      "cell_type": "code",
      "execution_count": null,
      "metadata": {},
      "outputs": [],
      "source": []
    },
    {
      "cell_type": "code",
      "execution_count": 48,
      "metadata": {},
      "outputs": [],
      "source": [
        "knn_grid = grid.predict(X_test)"
      ]
    },
    {
      "cell_type": "code",
      "execution_count": 49,
      "metadata": {},
      "outputs": [
        {
          "name": "stdout",
          "output_type": "stream",
          "text": [
            "0.5237043804883\n"
          ]
        }
      ],
      "source": [
        "print(cross_val_score(knn_grid,X_test,Y_test, cv=10, scoring=\"accuracy\").mean())\n"
      ]
    },
    {
      "cell_type": "code",
      "execution_count": null,
      "metadata": {},
      "outputs": [],
      "source": [
        "from sklearn.model_selection import RandomizedSearchCV\n",
        "param_dist = dict(n_neighbors=k_range, weights=weight_options)\n"
      ]
    },
    {
      "cell_type": "code",
      "execution_count": null,
      "metadata": {},
      "outputs": [],
      "source": [
        "rand = RandomizedSearchCV(knn, param_dist, cv=10, scoring='accuracy', n_iter=10, random_state=5,n_jobs = -1)\n",
        "rand.fit(X_train, Y_train)\n"
      ]
    },
    {
      "cell_type": "code",
      "execution_count": null,
      "metadata": {},
      "outputs": [],
      "source": [
        "pd.DataFrame(rand.cv_results_)[['mean_test_score', 'std_test_score', 'params']]\n"
      ]
    },
    {
      "cell_type": "code",
      "execution_count": null,
      "metadata": {},
      "outputs": [],
      "source": [
        "print(rand.best_score_)\n",
        "print(rand.best_params_)\n",
        "print(rand.best_estimator_)"
      ]
    },
    {
      "cell_type": "code",
      "execution_count": null,
      "metadata": {},
      "outputs": [],
      "source": [
        "knn_predict = rand.predict(X_test)"
      ]
    },
    {
      "cell_type": "code",
      "execution_count": null,
      "metadata": {},
      "outputs": [],
      "source": [
        "print(list(Y_test)[0:30])\n",
        "print(list(knn_predict)[0:30])"
      ]
    },
    {
      "cell_type": "code",
      "execution_count": null,
      "metadata": {},
      "outputs": [],
      "source": [
        "from sklearn.metrics import confusion_matrix, recall_score,f1_score\n",
        "print(confusion_matrix(Y_test,knn_predict))"
      ]
    },
    {
      "cell_type": "code",
      "execution_count": null,
      "metadata": {},
      "outputs": [],
      "source": [
        "print(metrics.accuracy_score(Y_test,knn_predict))\n",
        "print(metrics.recall_score(Y_test,knn_predict,average='weighted'))\n",
        "print(metrics.f1_score(Y_test,knn_predict,average=\"weighted\"))"
      ]
    },
    {
      "cell_type": "markdown",
      "metadata": {},
      "source": [
        "# Logistic Regression"
      ]
    },
    {
      "cell_type": "code",
      "execution_count": null,
      "metadata": {},
      "outputs": [],
      "source": []
    },
    {
      "cell_type": "code",
      "execution_count": 129,
      "metadata": {},
      "outputs": [],
      "source": [
        "from sklearn.linear_model import LogisticRegressionCV\n",
        "\n",
        "logreg = LogisticRegressionCV(cv = 5, random_state = 0,solver='newton-cg',n_jobs = -1).fit(X_train,Y_train)\n"
      ]
    },
    {
      "cell_type": "code",
      "execution_count": 83,
      "metadata": {},
      "outputs": [
        {
          "name": "stdout",
          "output_type": "stream",
          "text": [
            "Accuracy of logistic regression classifier on test set: 0.76\n"
          ]
        }
      ],
      "source": [
        "y_pred_log_train = logreg.predict(X_train)\n",
        "y_pred_log_test = logreg.predict(X_test)\n",
        "print('Accuracy of logistic regression classifier on test set: {:.2f}'.format(logreg.score(X_test, Y_test)))"
      ]
    },
    {
      "cell_type": "code",
      "execution_count": 85,
      "metadata": {},
      "outputs": [
        {
          "name": "stdout",
          "output_type": "stream",
          "text": [
            "              precision    recall  f1-score   support\n",
            "\n",
            "           0       0.88      0.90      0.89       526\n",
            "           1       0.64      0.32      0.43        84\n",
            "           2       0.52      0.31      0.39        80\n",
            "           3       0.00      0.00      0.00        49\n",
            "           4       0.67      0.69      0.68       372\n",
            "           5       0.78      0.79      0.78       406\n",
            "           6       0.72      0.88      0.79       467\n",
            "\n",
            "    accuracy                           0.76      1984\n",
            "   macro avg       0.60      0.56      0.57      1984\n",
            "weighted avg       0.74      0.76      0.74      1984\n",
            "\n"
          ]
        },
        {
          "name": "stderr",
          "output_type": "stream",
          "text": [
            "C:\\Users\\sasha\\anaconda3\\envs\\tf\\lib\\site-packages\\sklearn\\metrics\\_classification.py:1318: UndefinedMetricWarning: Precision and F-score are ill-defined and being set to 0.0 in labels with no predicted samples. Use `zero_division` parameter to control this behavior.\n",
            "  _warn_prf(average, modifier, msg_start, len(result))\n",
            "C:\\Users\\sasha\\anaconda3\\envs\\tf\\lib\\site-packages\\sklearn\\metrics\\_classification.py:1318: UndefinedMetricWarning: Precision and F-score are ill-defined and being set to 0.0 in labels with no predicted samples. Use `zero_division` parameter to control this behavior.\n",
            "  _warn_prf(average, modifier, msg_start, len(result))\n",
            "C:\\Users\\sasha\\anaconda3\\envs\\tf\\lib\\site-packages\\sklearn\\metrics\\_classification.py:1318: UndefinedMetricWarning: Precision and F-score are ill-defined and being set to 0.0 in labels with no predicted samples. Use `zero_division` parameter to control this behavior.\n",
            "  _warn_prf(average, modifier, msg_start, len(result))\n"
          ]
        }
      ],
      "source": [
        "from sklearn.metrics import classification_report\n",
        "print(classification_report(Y_test, y_pred_log_test))"
      ]
    },
    {
      "cell_type": "code",
      "execution_count": 86,
      "metadata": {},
      "outputs": [
        {
          "name": "stdout",
          "output_type": "stream",
          "text": [
            "0.7596723377441714\n",
            "0.7615927419354839\n"
          ]
        }
      ],
      "source": [
        "y_pred_log_train = logreg.predict(X_train)\n",
        "print(accuracy_score(Y_train,y_pred_log_train))\n",
        "\n",
        "y_pred_log_test = logreg.predict(X_test)\n",
        "print(accuracy_score(Y_test,y_pred_log_test))\n"
      ]
    },
    {
      "cell_type": "code",
      "execution_count": 91,
      "metadata": {},
      "outputs": [
        {
          "name": "stdout",
          "output_type": "stream",
          "text": [
            "LogReg Training ACCURACY: 0.7599\n",
            "LogReg Testing  ACCURACY: 0.7616\n",
            "LogReg Train-Test Gap   : 0.0017\n"
          ]
        }
      ],
      "source": [
        "print('LogReg Training ACCURACY:', logreg_fit.score(X_train, Y_train).round(4))\n",
        "print('LogReg Testing  ACCURACY:', logreg_fit.score(X_test, Y_test).round(4))\n",
        "logreg_train_score = logreg_fit.score(X_train, Y_train).round(4) # accuracy\n",
        "logreg_test_score  = logreg_fit.score(X_test, Y_test).round(4)   # accuracy\n",
        "print('LogReg Train-Test Gap   :', abs(logreg_train_score - logreg_test_score).round(4))\n",
        "logreg_test_gap = abs(logreg_train_score - logreg_test_score).round(4)\n",
        "\n"
      ]
    },
    {
      "cell_type": "code",
      "execution_count": 121,
      "metadata": {},
      "outputs": [
        {
          "name": "stdout",
          "output_type": "stream",
          "text": [
            "0.7446195207785692\n"
          ]
        }
      ],
      "source": [
        "from sklearn.metrics import f1_score\n",
        "\n",
        "log_best_f1 = metrics.f1_score(Y_test,y_pred_log_test,average='weighted')\n",
        "print(log_best_f1)"
      ]
    },
    {
      "cell_type": "markdown",
      "metadata": {},
      "source": [
        "## Classification: Full Trees"
      ]
    },
    {
      "cell_type": "code",
      "execution_count": 130,
      "metadata": {},
      "outputs": [
        {
          "data": {
            "text/plain": [
              "DecisionTreeClassifier()"
            ]
          },
          "execution_count": 130,
          "metadata": {},
          "output_type": "execute_result"
        }
      ],
      "source": [
        "from sklearn.tree import  DecisionTreeClassifier\n",
        "\n",
        "clf = DecisionTreeClassifier()\n",
        "clf = clf.fit(X_train,Y_train)"
      ]
    },
    {
      "cell_type": "code",
      "execution_count": 153,
      "metadata": {},
      "outputs": [],
      "source": [
        "clf_pred = clf.predict(X_test)"
      ]
    },
    {
      "cell_type": "code",
      "execution_count": 184,
      "metadata": {},
      "outputs": [
        {
          "data": {
            "text/plain": [
              "0.6724838212913589"
            ]
          },
          "execution_count": 184,
          "metadata": {},
          "output_type": "execute_result"
        }
      ],
      "source": [
        "clf_f1 = metrics.f1_score(Y_test,clf_pred,average=\"weighted\")\n",
        "clf_f1"
      ]
    },
    {
      "cell_type": "code",
      "execution_count": 183,
      "metadata": {},
      "outputs": [
        {
          "data": {
            "text/plain": [
              "0.7318941996848318"
            ]
          },
          "execution_count": 183,
          "metadata": {},
          "output_type": "execute_result"
        }
      ],
      "source": [
        "roc_clf =  metrics.roc_auc_score(Y_test,y_score = clf.predict_proba(X_test), multi_class='ovr')\n",
        "roc_clf"
      ]
    },
    {
      "cell_type": "markdown",
      "metadata": {},
      "source": [
        "## Hyperpapmeter optimization for Decision Tree Classifier"
      ]
    },
    {
      "cell_type": "code",
      "execution_count": 157,
      "metadata": {},
      "outputs": [
        {
          "name": "stderr",
          "output_type": "stream",
          "text": [
            "C:\\Users\\sasha\\AppData\\Local\\Temp/ipykernel_156/3873228531.py:3: FutureWarning: The pandas.np module is deprecated and will be removed from pandas in a future version. Import numpy directly instead\n",
            "  depth_space     = pd.np.arange(1, 25, 1)\n",
            "C:\\Users\\sasha\\AppData\\Local\\Temp/ipykernel_156/3873228531.py:4: FutureWarning: The pandas.np module is deprecated and will be removed from pandas in a future version. Import numpy directly instead\n",
            "  leaf_space      = pd.np.arange(1, 100, 1)\n"
          ]
        }
      ],
      "source": [
        "criterion_space = ['gini', 'entropy']\n",
        "splitter_space  = ['best', 'random']\n",
        "depth_space     = pd.np.arange(1, 25, 1)\n",
        "leaf_space      = pd.np.arange(1, 100, 1)"
      ]
    },
    {
      "cell_type": "code",
      "execution_count": 158,
      "metadata": {},
      "outputs": [],
      "source": [
        "param_grid = {'criterion'        : criterion_space,\n",
        "              'splitter'         : splitter_space,\n",
        "              'max_depth'        : depth_space,\n",
        "              'min_samples_leaf' : leaf_space}\n"
      ]
    },
    {
      "cell_type": "code",
      "execution_count": 171,
      "metadata": {},
      "outputs": [],
      "source": [
        "tuned_tree = DecisionTreeClassifier()\n",
        "tuned_tree_cv = RandomizedSearchCV(estimator             = tuned_tree,\n",
        "                                   param_distributions   = param_grid,\n",
        "                                   cv                    = 3,\n",
        "                                   n_iter                = 300,\n",
        "                                   scoring = \"accuracy\"\n",
        "                                   )\n",
        "\n"
      ]
    },
    {
      "cell_type": "code",
      "execution_count": 172,
      "metadata": {},
      "outputs": [
        {
          "data": {
            "text/plain": [
              "RandomizedSearchCV(cv=3, estimator=DecisionTreeClassifier(), n_iter=300,\n",
              "                   param_distributions={'criterion': ['gini', 'entropy'],\n",
              "                                        'max_depth': array([ 1,  2,  3,  4,  5,  6,  7,  8,  9, 10, 11, 12, 13, 14, 15, 16, 17,\n",
              "       18, 19, 20, 21, 22, 23, 24]),\n",
              "                                        'min_samples_leaf': array([ 1,  2,  3,  4,  5,  6,  7,  8,  9, 10, 11, 12, 13, 14, 15, 16, 17,\n",
              "       18, 19, 20, 21, 22, 23, 24, 25, 26, 27, 28, 29, 30, 31, 32, 33, 34,\n",
              "       35, 36, 37, 38, 39, 40, 41, 42, 43, 44, 45, 46, 47, 48, 49, 50, 51,\n",
              "       52, 53, 54, 55, 56, 57, 58, 59, 60, 61, 62, 63, 64, 65, 66, 67, 68,\n",
              "       69, 70, 71, 72, 73, 74, 75, 76, 77, 78, 79, 80, 81, 82, 83, 84, 85,\n",
              "       86, 87, 88, 89, 90, 91, 92, 93, 94, 95, 96, 97, 98, 99]),\n",
              "                                        'splitter': ['best', 'random']},\n",
              "                   scoring='accuracy')"
            ]
          },
          "execution_count": 172,
          "metadata": {},
          "output_type": "execute_result"
        }
      ],
      "source": [
        "tuned_tree_cv.fit(X_train, Y_train)\n"
      ]
    },
    {
      "cell_type": "code",
      "execution_count": 173,
      "metadata": {},
      "outputs": [
        {
          "data": {
            "text/plain": [
              "{'splitter': 'best',\n",
              " 'min_samples_leaf': 20,\n",
              " 'max_depth': 24,\n",
              " 'criterion': 'gini'}"
            ]
          },
          "execution_count": 173,
          "metadata": {},
          "output_type": "execute_result"
        }
      ],
      "source": [
        "tuned_tree_cv.best_params_"
      ]
    },
    {
      "cell_type": "code",
      "execution_count": 188,
      "metadata": {},
      "outputs": [
        {
          "name": "stdout",
          "output_type": "stream",
          "text": [
            "0.8049395161290323\n",
            "0.8049395161290323\n",
            "0.7873107020573064\n"
          ]
        }
      ],
      "source": [
        "tuned_tree_pred =y_best_rf = rf_rand.predict(X_test)\n",
        "\n",
        "print(metrics.accuracy_score(Y_test,tuned_tree_pred))\n",
        "print(metrics.recall_score(Y_test,tuned_tree_pred,average='weighted'))\n",
        "print(metrics.f1_score(Y_test,tuned_tree_pred,average=\"weighted\"))\n",
        "\n",
        "clf_f1 = metrics.f1_score(Y_test,tuned_tree_pred,average=\"weighted\")\n"
      ]
    },
    {
      "cell_type": "code",
      "execution_count": 195,
      "metadata": {},
      "outputs": [
        {
          "name": "stdout",
          "output_type": "stream",
          "text": [
            "0.9399804381497268\n"
          ]
        }
      ],
      "source": [
        "roc_clf = roc_auc_score(Y_test, y_score =rf_rand.predict_proba(X_test), multi_class='ovr')\n",
        "print(roc_auc_score(Y_test, y_score =rf_rand.predict_proba(X_test), multi_class='ovr'))\n"
      ]
    },
    {
      "cell_type": "markdown",
      "metadata": {},
      "source": [
        "## Random Forest Classifier"
      ]
    },
    {
      "cell_type": "code",
      "execution_count": 196,
      "metadata": {},
      "outputs": [
        {
          "name": "stdout",
          "output_type": "stream",
          "text": [
            "0.8054435483870968\n",
            "              precision    recall  f1-score   support\n",
            "\n",
            "           0       0.91      0.94      0.92       526\n",
            "           1       0.81      0.40      0.54        84\n",
            "           2       0.87      0.25      0.39        80\n",
            "           3       0.00      0.00      0.00        49\n",
            "           4       0.73      0.81      0.77       372\n",
            "           5       0.80      0.82      0.81       406\n",
            "           6       0.76      0.90      0.82       467\n",
            "\n",
            "    accuracy                           0.81      1984\n",
            "   macro avg       0.70      0.59      0.61      1984\n",
            "weighted avg       0.79      0.81      0.79      1984\n",
            "\n"
          ]
        }
      ],
      "source": [
        "from sklearn.ensemble import RandomForestClassifier\n",
        "from sklearn.metrics import accuracy_score, f1_score, classification_report\n",
        "# rf = RandomForestClassifier()\n",
        "# rf.fit(X_train,Y_train.values.ravel())\n",
        "# y_pred_rd = rf.predict(X_test)\n",
        "# print(accuracy_score(Y_test, y_pred_rd))\n",
        "# print(classification_report(Y_test, y_pred_rd))\n"
      ]
    },
    {
      "cell_type": "code",
      "execution_count": 197,
      "metadata": {},
      "outputs": [],
      "source": [
        "from sklearn.ensemble import RandomForestClassifier\n",
        "rf_classifier = RandomForestClassifier()"
      ]
    },
    {
      "cell_type": "code",
      "execution_count": 198,
      "metadata": {},
      "outputs": [],
      "source": [
        "rf_classifier.fit(X_train, Y_train)\n",
        "y_pred_rf = rf_classifier.predict(X_test)\n"
      ]
    },
    {
      "cell_type": "code",
      "execution_count": 199,
      "metadata": {},
      "outputs": [
        {
          "name": "stdout",
          "output_type": "stream",
          "text": [
            "1.0\n",
            "0.7993951612903226\n"
          ]
        }
      ],
      "source": [
        "print(rf_classifier.score(X_train,Y_train))\n",
        "print(rf_classifier.score(X_test,Y_test))"
      ]
    },
    {
      "cell_type": "code",
      "execution_count": 200,
      "metadata": {},
      "outputs": [
        {
          "name": "stdout",
          "output_type": "stream",
          "text": [
            "The accuracy of the model is 79.9 %\n"
          ]
        }
      ],
      "source": [
        "from sklearn.metrics import accuracy_score, confusion_matrix, precision_score, recall_score, roc_auc_score, roc_curve, f1_score\n",
        "print(f\"The accuracy of the model is {round(accuracy_score(Y_test,y_pred_rf),3)*100} %\")"
      ]
    },
    {
      "cell_type": "code",
      "execution_count": 100,
      "metadata": {},
      "outputs": [],
      "source": [
        "train_probs = rf_classifier.predict_proba(X_train)\n",
        "probs = rf_classifier.predict_proba(X_test)\n",
        "train_predictions = rf_classifier.predict(X_train)"
      ]
    },
    {
      "cell_type": "code",
      "execution_count": 105,
      "metadata": {},
      "outputs": [
        {
          "name": "stdout",
          "output_type": "stream",
          "text": [
            "0.8014112903225806\n",
            "0.8014112903225806\n",
            "0.7845420091193182\n"
          ]
        }
      ],
      "source": [
        "print(metrics.accuracy_score(Y_test,y_pred_rf))\n",
        "print(metrics.recall_score(Y_test,y_pred_rf,average='weighted'))\n",
        "print(metrics.f1_score(Y_test,y_pred_rf,average=\"weighted\"))"
      ]
    },
    {
      "cell_type": "code",
      "execution_count": 202,
      "metadata": {},
      "outputs": [
        {
          "name": "stdout",
          "output_type": "stream",
          "text": [
            "ROC AUC score : 0.9270447530868902\n"
          ]
        }
      ],
      "source": [
        "print('ROC AUC score :',roc_auc_score(Y_test, y_score= probs, multi_class='ovr'))\n"
      ]
    },
    {
      "cell_type": "code",
      "execution_count": 203,
      "metadata": {},
      "outputs": [],
      "source": [
        "from sklearn.model_selection import GridSearchCV,RandomizedSearchCV"
      ]
    },
    {
      "cell_type": "code",
      "execution_count": 107,
      "metadata": {},
      "outputs": [],
      "source": [
        "n_estimators = [int(x) for x in np.linspace(start = 200, stop = 2000, num = 10)]\n",
        "max_features = ['auto', 'sqrt']\n",
        "max_depth = [int(x) for x in np.linspace(10, 110, num = 11)]\n",
        "min_samples_split = [2, 5, 10]\n",
        "min_samples_leaf = [1, 2, 4]\n",
        "bootstrap = [True, False]"
      ]
    },
    {
      "cell_type": "code",
      "execution_count": 108,
      "metadata": {},
      "outputs": [
        {
          "name": "stdout",
          "output_type": "stream",
          "text": [
            "{'bootstrap': [True, False],\n",
            " 'max_depth': [10, 20, 30, 40, 50, 60, 70, 80, 90, 100, 110],\n",
            " 'max_features': ['auto', 'sqrt'],\n",
            " 'min_samples_leaf': [1, 2, 4],\n",
            " 'min_samples_split': [2, 5, 10],\n",
            " 'n_estimators': [200, 400, 600, 800, 1000, 1200, 1400, 1600, 1800, 2000]}\n"
          ]
        }
      ],
      "source": [
        "random_grid = {'n_estimators': n_estimators,\n",
        "               'max_features': max_features,\n",
        "               'max_depth': max_depth,\n",
        "               'min_samples_split': min_samples_split,\n",
        "               'min_samples_leaf': min_samples_leaf,\n",
        "               'bootstrap': bootstrap}\n",
        "pprint(random_grid)"
      ]
    },
    {
      "cell_type": "code",
      "execution_count": 205,
      "metadata": {},
      "outputs": [],
      "source": [
        "rf_random = RandomizedSearchCV(estimator = rf_classifier, param_distributions = random_grid, n_iter = 100, cv = 3, verbose=2, random_state=42, n_jobs = -1)"
      ]
    },
    {
      "cell_type": "code",
      "execution_count": 210,
      "metadata": {},
      "outputs": [],
      "source": [
        "rf_grid =  GridSearchCV(estimator = rf_classifier, param_grid = random_grid, cv = 3,n_jobs = -1)"
      ]
    },
    {
      "cell_type": "code",
      "execution_count": 206,
      "metadata": {},
      "outputs": [
        {
          "name": "stdout",
          "output_type": "stream",
          "text": [
            "Fitting 3 folds for each of 100 candidates, totalling 300 fits\n"
          ]
        }
      ],
      "source": [
        "rf_rand = rf_random.fit(X_train, Y_train)\n"
      ]
    },
    {
      "cell_type": "code",
      "execution_count": 212,
      "metadata": {},
      "outputs": [
        {
          "data": {
            "text/plain": [
              "{'n_estimators': 2000,\n",
              " 'min_samples_split': 10,\n",
              " 'min_samples_leaf': 1,\n",
              " 'max_features': 'auto',\n",
              " 'max_depth': 60,\n",
              " 'bootstrap': True}"
            ]
          },
          "execution_count": 212,
          "metadata": {},
          "output_type": "execute_result"
        }
      ],
      "source": [
        "rf_random.best_params_\n"
      ]
    },
    {
      "cell_type": "code",
      "execution_count": 117,
      "metadata": {},
      "outputs": [
        {
          "name": "stdout",
          "output_type": "stream",
          "text": [
            "0.8049395161290323\n",
            "0.8049395161290323\n",
            "0.7873107020573064\n"
          ]
        }
      ],
      "source": [
        "y_best_rf = rf_rand.predict(X_test)\n",
        "print(metrics.accuracy_score(Y_test,y_best_rf))\n",
        "print(metrics.recall_score(Y_test,y_best_rf,average='weighted'))\n",
        "print(metrics.f1_score(Y_test,y_best_rf,average=\"weighted\"))\n",
        "\n",
        "rf_best_f1 = metrics.f1_score(Y_test,y_best_rf,average=\"weighted\")"
      ]
    },
    {
      "cell_type": "code",
      "execution_count": 217,
      "metadata": {},
      "outputs": [
        {
          "name": "stdout",
          "output_type": "stream",
          "text": [
            "0.9399952853171692\n"
          ]
        }
      ],
      "source": [
        "print(roc_auc_score(Y_test,y_score=rf_rand.predict_proba(X_test), multi_class='ovr'))\n",
        "\n",
        "roc_rf_best = roc_auc_score(Y_test,y_score=rf_rand.predict_proba(X_test), multi_class='ovr')"
      ]
    },
    {
      "cell_type": "code",
      "execution_count": 143,
      "metadata": {},
      "outputs": [
        {
          "name": "stdout",
          "output_type": "stream",
          "text": [
            "[0.00352514 0.0036346  0.00360926 0.00374982 0.00497547 0.00369615\n",
            " 0.00226201 0.00353292 0.00404009 0.00340888 0.00415373 0.00357791\n",
            " 0.00478604 0.00561274 0.00560313 0.00737419 0.0072357  0.0057593\n",
            " 0.00458249 0.00542031 0.18442603 0.12181782 0.09966891 0.03884773\n",
            " 0.07392504 0.06705905 0.03430606 0.08655357 0.10069811 0.04021305\n",
            " 0.06194473]\n",
            " There are 31 features in total\n"
          ]
        }
      ],
      "source": [
        "print(rf_classifier.feature_importances_)\n",
        "print(f\" There are {len(rf_classifier.feature_importances_)} features in total\")"
      ]
    },
    {
      "cell_type": "code",
      "execution_count": 144,
      "metadata": {},
      "outputs": [],
      "source": [
        "og = df1.iloc[:,:-1]\n"
      ]
    },
    {
      "cell_type": "code",
      "execution_count": 145,
      "metadata": {},
      "outputs": [],
      "source": [
        "def encode_and_bind(og_df, categorical_columns):\n",
        "    dummies = pd.get_dummies(og_df[categorical_columns])\n",
        "    res = pd.concat([dummies, og_df],axis=1)\n",
        "    res = res.drop(categorical_columns,axis=1)\n",
        "    return(res)\n",
        "X_train_encoded = encode_and_bind(og, categorical_columns)"
      ]
    },
    {
      "cell_type": "code",
      "execution_count": 224,
      "metadata": {},
      "outputs": [
        {
          "name": "stderr",
          "output_type": "stream",
          "text": [
            "C:\\Users\\sasha\\anaconda3\\envs\\tf\\lib\\site-packages\\sklearn\\utils\\deprecation.py:87: FutureWarning: Function get_feature_names is deprecated; get_feature_names is deprecated in 1.0 and will be removed in 1.2. Please use get_feature_names_out instead.\n",
            "  warnings.warn(msg, category=FutureWarning)\n"
          ]
        },
        {
          "ename": "AttributeError",
          "evalue": "Transformer Scale (type MinMaxScaler) does not provide get_feature_names.",
          "output_type": "error",
          "traceback": [
            "\u001b[1;31m---------------------------------------------------------------------------\u001b[0m",
            "\u001b[1;31mAttributeError\u001b[0m                            Traceback (most recent call last)",
            "\u001b[1;32m~\\AppData\\Local\\Temp/ipykernel_156/773564328.py\u001b[0m in \u001b[0;36m<module>\u001b[1;34m\u001b[0m\n\u001b[1;32m----> 1\u001b[1;33m \u001b[0mpreprocessing\u001b[0m\u001b[1;33m.\u001b[0m\u001b[0mget_feature_names\u001b[0m\u001b[1;33m(\u001b[0m\u001b[1;33m)\u001b[0m\u001b[1;33m\u001b[0m\u001b[1;33m\u001b[0m\u001b[0m\n\u001b[0m",
            "\u001b[1;32m~\\anaconda3\\envs\\tf\\lib\\site-packages\\sklearn\\utils\\deprecation.py\u001b[0m in \u001b[0;36mwrapped\u001b[1;34m(*args, **kwargs)\u001b[0m\n\u001b[0;32m     86\u001b[0m         \u001b[1;32mdef\u001b[0m \u001b[0mwrapped\u001b[0m\u001b[1;33m(\u001b[0m\u001b[1;33m*\u001b[0m\u001b[0margs\u001b[0m\u001b[1;33m,\u001b[0m \u001b[1;33m**\u001b[0m\u001b[0mkwargs\u001b[0m\u001b[1;33m)\u001b[0m\u001b[1;33m:\u001b[0m\u001b[1;33m\u001b[0m\u001b[1;33m\u001b[0m\u001b[0m\n\u001b[0;32m     87\u001b[0m             \u001b[0mwarnings\u001b[0m\u001b[1;33m.\u001b[0m\u001b[0mwarn\u001b[0m\u001b[1;33m(\u001b[0m\u001b[0mmsg\u001b[0m\u001b[1;33m,\u001b[0m \u001b[0mcategory\u001b[0m\u001b[1;33m=\u001b[0m\u001b[0mFutureWarning\u001b[0m\u001b[1;33m)\u001b[0m\u001b[1;33m\u001b[0m\u001b[1;33m\u001b[0m\u001b[0m\n\u001b[1;32m---> 88\u001b[1;33m             \u001b[1;32mreturn\u001b[0m \u001b[0mfun\u001b[0m\u001b[1;33m(\u001b[0m\u001b[1;33m*\u001b[0m\u001b[0margs\u001b[0m\u001b[1;33m,\u001b[0m \u001b[1;33m**\u001b[0m\u001b[0mkwargs\u001b[0m\u001b[1;33m)\u001b[0m\u001b[1;33m\u001b[0m\u001b[1;33m\u001b[0m\u001b[0m\n\u001b[0m\u001b[0;32m     89\u001b[0m \u001b[1;33m\u001b[0m\u001b[0m\n\u001b[0;32m     90\u001b[0m         \u001b[0mwrapped\u001b[0m\u001b[1;33m.\u001b[0m\u001b[0m__doc__\u001b[0m \u001b[1;33m=\u001b[0m \u001b[0mself\u001b[0m\u001b[1;33m.\u001b[0m\u001b[0m_update_doc\u001b[0m\u001b[1;33m(\u001b[0m\u001b[0mwrapped\u001b[0m\u001b[1;33m.\u001b[0m\u001b[0m__doc__\u001b[0m\u001b[1;33m)\u001b[0m\u001b[1;33m\u001b[0m\u001b[1;33m\u001b[0m\u001b[0m\n",
            "\u001b[1;32m~\\anaconda3\\envs\\tf\\lib\\site-packages\\sklearn\\compose\\_column_transformer.py\u001b[0m in \u001b[0;36mget_feature_names\u001b[1;34m(self)\u001b[0m\n\u001b[0;32m    417\u001b[0m                 \u001b[1;32mcontinue\u001b[0m\u001b[1;33m\u001b[0m\u001b[1;33m\u001b[0m\u001b[0m\n\u001b[0;32m    418\u001b[0m             \u001b[1;32mif\u001b[0m \u001b[1;32mnot\u001b[0m \u001b[0mhasattr\u001b[0m\u001b[1;33m(\u001b[0m\u001b[0mtrans\u001b[0m\u001b[1;33m,\u001b[0m \u001b[1;34m\"get_feature_names\"\u001b[0m\u001b[1;33m)\u001b[0m\u001b[1;33m:\u001b[0m\u001b[1;33m\u001b[0m\u001b[1;33m\u001b[0m\u001b[0m\n\u001b[1;32m--> 419\u001b[1;33m                 raise AttributeError(\n\u001b[0m\u001b[0;32m    420\u001b[0m                     \u001b[1;34m\"Transformer %s (type %s) does not provide get_feature_names.\"\u001b[0m\u001b[1;33m\u001b[0m\u001b[1;33m\u001b[0m\u001b[0m\n\u001b[0;32m    421\u001b[0m                     \u001b[1;33m%\u001b[0m \u001b[1;33m(\u001b[0m\u001b[0mstr\u001b[0m\u001b[1;33m(\u001b[0m\u001b[0mname\u001b[0m\u001b[1;33m)\u001b[0m\u001b[1;33m,\u001b[0m \u001b[0mtype\u001b[0m\u001b[1;33m(\u001b[0m\u001b[0mtrans\u001b[0m\u001b[1;33m)\u001b[0m\u001b[1;33m.\u001b[0m\u001b[0m__name__\u001b[0m\u001b[1;33m)\u001b[0m\u001b[1;33m\u001b[0m\u001b[1;33m\u001b[0m\u001b[0m\n",
            "\u001b[1;31mAttributeError\u001b[0m: Transformer Scale (type MinMaxScaler) does not provide get_feature_names."
          ]
        }
      ],
      "source": [
        "preprocessing.get_feature_names()"
      ]
    },
    {
      "cell_type": "code",
      "execution_count": 219,
      "metadata": {},
      "outputs": [
        {
          "data": {
            "text/plain": [
              "Index(['key_Scale A', 'key_Scale A Sharp', 'key_Scale B', 'key_Scale C',\n",
              "       'key_Scale C Sharp', 'key_Scale D', 'key_Scale D Sharp', 'key_Scale E',\n",
              "       'key_Scale F', 'key_Scale F Sharp', 'key_Scale G', 'key_Scale G Sharp',\n",
              "       'voice_gender_Both', 'voice_gender_Female', 'voice_gender_Male',\n",
              "       'mode_Major', 'mode_Minor', 'musician_category_Band',\n",
              "       'musician_category_Duet', 'musician_category_Solo', 'popularity',\n",
              "       'acousticness', 'danceability', 'duration_ms', 'energy',\n",
              "       'instrumentalness', 'liveness', 'loudness', 'speechiness', 'tempo',\n",
              "       'valence'],\n",
              "      dtype='object')"
            ]
          },
          "execution_count": 219,
          "metadata": {},
          "output_type": "execute_result"
        }
      ],
      "source": [
        "X_train_encoded.columns"
      ]
    },
    {
      "cell_type": "code",
      "execution_count": 325,
      "metadata": {},
      "outputs": [
        {
          "name": "stdout",
          "output_type": "stream",
          "text": [
            "Feature:  popularity                         Importance: 0.18647401885403062\n",
            "Feature:  acousticness                       Importance: 0.10925797367032349\n",
            "Feature:  danceability                       Importance: 0.10300947184510455\n",
            "Feature:  speechiness                        Importance: 0.09945886903213987\n",
            "Feature:  loudness                           Importance: 0.08587908935697998\n",
            "Feature:  energy                             Importance: 0.07673171310394689\n",
            "Feature:  instrumentalness                   Importance: 0.07244784862639646\n",
            "Feature:  valence                            Importance: 0.059717792836693255\n",
            "Feature:  tempo                              Importance: 0.040349167485086566\n",
            "Feature:  duration_ms                        Importance: 0.04034725981463615\n",
            "Feature:  liveness                           Importance: 0.03554391567185758\n",
            "Feature:  mode_Minor                         Importance: 0.007422816168012045\n",
            "Feature:  mode_Major                         Importance: 0.006670625971841466\n",
            "Feature:  musician_category_Band             Importance: 0.005739192470942038\n",
            "Feature:  voice_gender_Female                Importance: 0.005683018003379377\n",
            "Feature:  voice_gender_Male                  Importance: 0.005510191547440805\n",
            "Feature:  musician_category_Solo             Importance: 0.00541001664028942\n",
            "Feature:  musician_category_Duet             Importance: 0.004961197204768258\n",
            "Feature:  key_Scale C Sharp                  Importance: 0.0049011309327046575\n",
            "Feature:  voice_gender_Both                  Importance: 0.004712733169888282\n",
            "Feature:  key_Scale G                        Importance: 0.004202006618112532\n",
            "Feature:  key_Scale D                        Importance: 0.004201862712181645\n",
            "Feature:  key_Scale F                        Importance: 0.004120598879367336\n",
            "Feature:  key_Scale C                        Importance: 0.003999461557712661\n",
            "Feature:  key_Scale A Sharp                  Importance: 0.003650958670131244\n",
            "Feature:  key_Scale E                        Importance: 0.003600089139269667\n",
            "Feature:  key_Scale A                        Importance: 0.00355113543297784\n",
            "Feature:  key_Scale B                        Importance: 0.003499878923173694\n",
            "Feature:  key_Scale G Sharp                  Importance: 0.0034716696992006073\n",
            "Feature:  key_Scale F Sharp                  Importance: 0.0032403717969645774\n",
            "Feature:  key_Scale D Sharp                  Importance: 0.0022339241644465835\n"
          ]
        },
        {
          "data": {
            "text/plain": [
              "[None,\n",
              " None,\n",
              " None,\n",
              " None,\n",
              " None,\n",
              " None,\n",
              " None,\n",
              " None,\n",
              " None,\n",
              " None,\n",
              " None,\n",
              " None,\n",
              " None,\n",
              " None,\n",
              " None,\n",
              " None,\n",
              " None,\n",
              " None,\n",
              " None,\n",
              " None,\n",
              " None,\n",
              " None,\n",
              " None,\n",
              " None,\n",
              " None,\n",
              " None,\n",
              " None,\n",
              " None,\n",
              " None,\n",
              " None,\n",
              " None]"
            ]
          },
          "execution_count": 325,
          "metadata": {},
          "output_type": "execute_result"
        }
      ],
      "source": [
        "feature_importances = list(zip(cols, rf_classifier.feature_importances_))\n",
        "# Then sort the feature importances by most important first\n",
        "feature_importances_ranked = sorted(feature_importances, key = lambda x: x[1], reverse = True)\n",
        "# Print out the feature and importances\n",
        "[print('Feature: {:35} Importance: {}'.format(*pair)) for pair in feature_importances_ranked]"
      ]
    },
    {
      "cell_type": "code",
      "execution_count": 329,
      "metadata": {},
      "outputs": [
        {
          "data": {
            "image/png": "[encoded data removed]",
            "text/plain": [
              "<Figure size 720x1008 with 1 Axes>"
            ]
          },
          "metadata": {
            "needs_background": "light"
          },
          "output_type": "display_data"
        }
      ],
      "source": [
        "feature_names_25 = [i[0] for i in feature_importances_ranked[:25]]\n",
        "y_ticks = np.arange(0, len(feature_names_25))\n",
        "x_axis = [i[1] for i in feature_importances_ranked[:25]]\n",
        "plt.figure(figsize = (10, 14))\n",
        "plt.barh(feature_names_25, x_axis)   #horizontal barplot\n",
        "plt.title('Random Forest Feature Importance (Top 25)',\n",
        "          fontdict= {'fontname':'Comic Sans MS','fontsize' : 20})\n",
        "plt.xlabel('Features',fontdict= {'fontsize' : 16})\n",
        "plt.show()"
      ]
    },
    {
      "cell_type": "code",
      "execution_count": 149,
      "metadata": {},
      "outputs": [],
      "source": [
        "from sklearn.ensemble import GradientBoostingClassifier # gbm\n"
      ]
    },
    {
      "cell_type": "code",
      "execution_count": 150,
      "metadata": {},
      "outputs": [
        {
          "name": "stdout",
          "output_type": "stream",
          "text": [
            "Full Tree Training ACCURACY: 1.0\n",
            "Full Tree Testing ACCURACY : 0.6694\n",
            "ROC AUC score : 0.7247242705620364\n"
          ]
        }
      ],
      "source": [
        "print('Full Tree Training ACCURACY:', full_tree_fit.score(X_train,\n",
        "                                                    Y_train).round(4))\n",
        "\n",
        "print('Full Tree Testing ACCURACY :', full_tree_fit.score(X_test,\n",
        "                                                    Y_test).round(4))\n",
        "print('ROC AUC score :',roc_auc_score(Y_test, y_score= full_tree_fit.predict_proba(X_test), multi_class='ovr'))\n"
      ]
    },
    {
      "cell_type": "code",
      "execution_count": null,
      "metadata": {},
      "outputs": [],
      "source": [
        "full_tree_tp = confusion_matrix(y_true = Y_test, y_pred = full_tree_pred)\n",
        "print(full_tree_tp)"
      ]
    },
    {
      "cell_type": "code",
      "execution_count": null,
      "metadata": {},
      "outputs": [],
      "source": [
        "from sklearn.metrics import cohen_kappa_score\n",
        "cohen_kappa_score(Y_test, y_pred_log_test)"
      ]
    },
    {
      "cell_type": "code",
      "execution_count": 90,
      "metadata": {},
      "outputs": [
        {
          "ename": "NameError",
          "evalue": "name 'tree_tuned_auc' is not defined",
          "output_type": "error",
          "traceback": [
            "\u001b[1;31m---------------------------------------------------------------------------\u001b[0m",
            "\u001b[1;31mNameError\u001b[0m                                 Traceback (most recent call last)",
            "\u001b[1;32m~\\AppData\\Local\\Temp/ipykernel_156/3591345621.py\u001b[0m in \u001b[0;36m<module>\u001b[1;34m\u001b[0m\n\u001b[0;32m      7\u001b[0m \u001b[1;33m\u001b[0m\u001b[0m\n\u001b[0;32m      8\u001b[0m     'AUC Score'         : [logreg_auc_score, \n\u001b[1;32m----> 9\u001b[1;33m                            \u001b[0mtree_tuned_auc\u001b[0m\u001b[1;33m,\u001b[0m\u001b[1;33m\u001b[0m\u001b[1;33m\u001b[0m\u001b[0m\n\u001b[0m\u001b[0;32m     10\u001b[0m                            \u001b[0mforest_tuned_auc\u001b[0m\u001b[1;33m,\u001b[0m\u001b[1;33m\u001b[0m\u001b[1;33m\u001b[0m\u001b[0m\n\u001b[0;32m     11\u001b[0m                            gbm_tuned_auc],\n",
            "\u001b[1;31mNameError\u001b[0m: name 'tree_tuned_auc' is not defined"
          ]
        }
      ],
      "source": [
        "model_performance = {\n",
        "    \n",
        "    'Model Name'        : ['Logistic Regression',\n",
        "                           'Classification Trees', \n",
        "                           'Random Forest [FINAL]',\n",
        "                           'Gradient Boosted Models'],\n",
        "           \n",
        "    'AUC Score'         : [logreg_auc_score, \n",
        "                           tree_tuned_auc, \n",
        "                           forest_tuned_auc,\n",
        "                           gbm_tuned_auc],\n",
        "    \n",
        "    'Training Accuracy' : [logreg_train_score, \n",
        "                           tree_tuned_train_score,\n",
        "                           forest_tuned_train_score,\n",
        "                           full_gbm_train_score],\n",
        "           \n",
        "    'Testing Accuracy'  : [logreg_test_score, \n",
        "                           tree_tuned_test_score,\n",
        "                           forest_tuned_test_score,\n",
        "                           full_gbm_test_score],\n",
        "    \n",
        "    'Train-Test Gap'    : [logreg_test_gap,\n",
        "                           tree_tuned_test_gap,\n",
        "                           forest_tuned_gap,\n",
        "                           full_gbm_gap]\n",
        "}"
      ]
    },
    {
      "cell_type": "code",
      "execution_count": null,
      "metadata": {},
      "outputs": [],
      "source": []
    }
  ],
  "metadata": {
    "colab": {
      "collapsed_sections": [],
      "name": "Eli_Lilly.ipynb",
      "provenance": []
    },
    "kernelspec": {
      "display_name": "Python 3",
      "name": "python3"
    },
    "language_info": {
      "codemirror_mode": {
        "name": "ipython",
        "version": 3
      },
      "file_extension": ".py",
      "mimetype": "text/x-python",
      "name": "python",
      "nbconvert_exporter": "python",
      "pygments_lexer": "ipython3",
      "version": "3.9.7"
    }
  },
  "nbformat": 4,
  "nbformat_minor": 0
}
